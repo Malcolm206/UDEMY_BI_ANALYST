{
 "cells": [
  {
   "cell_type": "markdown",
   "metadata": {},
   "source": [
    "# UDEMY Business Intelligence Analyst Course\n",
    "## Taught By 365 Careers"
   ]
  },
  {
   "cell_type": "markdown",
   "metadata": {},
   "source": [
    "COMPLETED SECTION 1 August 8th, 2021"
   ]
  },
  {
   "cell_type": "markdown",
   "metadata": {},
   "source": [
    "COMPLETED SECTIONS 2-5 August 12, 2021"
   ]
  },
  {
   "cell_type": "markdown",
   "metadata": {},
   "source": [
    "COMPLETED SECTIONS 5-8 August 14, 2021"
   ]
  },
  {
   "cell_type": "markdown",
   "metadata": {},
   "source": [
    "COMPLETED INTRODUCTION/PART 1 of COURSE AUGUST 14, 2021"
   ]
  },
  {
   "cell_type": "code",
   "execution_count": 1,
   "metadata": {},
   "outputs": [],
   "source": [
    "import matplotlib.pyplot as plt\n",
    "import pandas as pd\n",
    "import numpy as np\n",
    "from scipy import stats\n",
    "import math\n",
    "import statistics"
   ]
  },
  {
   "cell_type": "code",
   "execution_count": 3,
   "metadata": {},
   "outputs": [
    {
     "data": {
      "text/html": [
       "<div>\n",
       "<style scoped>\n",
       "    .dataframe tbody tr th:only-of-type {\n",
       "        vertical-align: middle;\n",
       "    }\n",
       "\n",
       "    .dataframe tbody tr th {\n",
       "        vertical-align: top;\n",
       "    }\n",
       "\n",
       "    .dataframe thead th {\n",
       "        text-align: right;\n",
       "    }\n",
       "</style>\n",
       "<table border=\"1\" class=\"dataframe\">\n",
       "  <thead>\n",
       "    <tr style=\"text-align: right;\">\n",
       "      <th></th>\n",
       "      <th>Sales</th>\n",
       "      <th>City</th>\n",
       "    </tr>\n",
       "  </thead>\n",
       "  <tbody>\n",
       "    <tr>\n",
       "      <th>0</th>\n",
       "      <td>12327</td>\n",
       "      <td>New York</td>\n",
       "    </tr>\n",
       "    <tr>\n",
       "      <th>1</th>\n",
       "      <td>17129</td>\n",
       "      <td>LA</td>\n",
       "    </tr>\n",
       "    <tr>\n",
       "      <th>2</th>\n",
       "      <td>19923</td>\n",
       "      <td>San Francisco</td>\n",
       "    </tr>\n",
       "  </tbody>\n",
       "</table>\n",
       "</div>"
      ],
      "text/plain": [
       "   Sales           City\n",
       "0  12327       New York\n",
       "1  17129             LA\n",
       "2  19923  San Francisco"
      ]
     },
     "execution_count": 3,
     "metadata": {},
     "output_type": "execute_result"
    }
   ],
   "source": [
    "data = [[12327, 'New York'], [17129, 'LA'], [19923, 'San Francisco']]\n",
    "df = pd.DataFrame(data, columns= ['Sales', 'City'])\n",
    "df"
   ]
  },
  {
   "cell_type": "code",
   "execution_count": 4,
   "metadata": {},
   "outputs": [
    {
     "data": {
      "image/png": "[encoded data removed]",
      "text/plain": [
       "<Figure size 432x288 with 1 Axes>"
      ]
     },
     "metadata": {
      "needs_background": "light"
     },
     "output_type": "display_data"
    }
   ],
   "source": [
    "plt.bar(df.City, df.Sales)\n",
    "plt.show();"
   ]
  },
  {
   "cell_type": "code",
   "execution_count": 6,
   "metadata": {},
   "outputs": [
    {
     "data": {
      "text/html": [
       "<div>\n",
       "<style scoped>\n",
       "    .dataframe tbody tr th:only-of-type {\n",
       "        vertical-align: middle;\n",
       "    }\n",
       "\n",
       "    .dataframe tbody tr th {\n",
       "        vertical-align: top;\n",
       "    }\n",
       "\n",
       "    .dataframe thead th {\n",
       "        text-align: right;\n",
       "    }\n",
       "</style>\n",
       "<table border=\"1\" class=\"dataframe\">\n",
       "  <thead>\n",
       "    <tr style=\"text-align: right;\">\n",
       "      <th></th>\n",
       "      <th>Sales</th>\n",
       "      <th>City</th>\n",
       "      <th>relative_frequency</th>\n",
       "    </tr>\n",
       "  </thead>\n",
       "  <tbody>\n",
       "    <tr>\n",
       "      <th>0</th>\n",
       "      <td>12327</td>\n",
       "      <td>New York</td>\n",
       "      <td>0.249641</td>\n",
       "    </tr>\n",
       "    <tr>\n",
       "      <th>1</th>\n",
       "      <td>17129</td>\n",
       "      <td>LA</td>\n",
       "      <td>0.346888</td>\n",
       "    </tr>\n",
       "    <tr>\n",
       "      <th>2</th>\n",
       "      <td>19923</td>\n",
       "      <td>San Francisco</td>\n",
       "      <td>0.403471</td>\n",
       "    </tr>\n",
       "  </tbody>\n",
       "</table>\n",
       "</div>"
      ],
      "text/plain": [
       "   Sales           City  relative_frequency\n",
       "0  12327       New York            0.249641\n",
       "1  17129             LA            0.346888\n",
       "2  19923  San Francisco            0.403471"
      ]
     },
     "execution_count": 6,
     "metadata": {},
     "output_type": "execute_result"
    }
   ],
   "source": [
    "df['relative_frequency'] = [n/sum(df.Sales) for n in df.Sales]\n",
    "df"
   ]
  },
  {
   "cell_type": "code",
   "execution_count": 8,
   "metadata": {},
   "outputs": [
    {
     "data": {
      "image/png": "[encoded data removed]",
      "text/plain": [
       "<Figure size 432x288 with 1 Axes>"
      ]
     },
     "metadata": {},
     "output_type": "display_data"
    }
   ],
   "source": [
    "fig1, ax1 = plt.subplots()\n",
    "\n",
    "ax1.pie(df.relative_frequency, labels = df.City, autopct='%1.1f%%')\n",
    "ax1.axis('equal')\n",
    "plt.show();"
   ]
  },
  {
   "cell_type": "markdown",
   "metadata": {},
   "source": [
    "COMPLETED PART 2 CATEGORICAL VARIABLE VISUALIZATION TECHNIQUES EXERCISES\n",
    "August 14, 2021"
   ]
  },
  {
   "cell_type": "markdown",
   "metadata": {},
   "source": [
    "NUMERICAL VARIABLES FREQUENCY DISTRIBUTION TABLE EXERCISE"
   ]
  },
  {
   "cell_type": "code",
   "execution_count": 28,
   "metadata": {},
   "outputs": [
    {
     "data": {
      "text/html": [
       "<div>\n",
       "<style scoped>\n",
       "    .dataframe tbody tr th:only-of-type {\n",
       "        vertical-align: middle;\n",
       "    }\n",
       "\n",
       "    .dataframe tbody tr th {\n",
       "        vertical-align: top;\n",
       "    }\n",
       "\n",
       "    .dataframe thead th {\n",
       "        text-align: right;\n",
       "    }\n",
       "</style>\n",
       "<table border=\"1\" class=\"dataframe\">\n",
       "  <thead>\n",
       "    <tr style=\"text-align: right;\">\n",
       "      <th></th>\n",
       "      <th>numbers</th>\n",
       "    </tr>\n",
       "  </thead>\n",
       "  <tbody>\n",
       "    <tr>\n",
       "      <th>0</th>\n",
       "      <td>8</td>\n",
       "    </tr>\n",
       "    <tr>\n",
       "      <th>1</th>\n",
       "      <td>30</td>\n",
       "    </tr>\n",
       "    <tr>\n",
       "      <th>2</th>\n",
       "      <td>30</td>\n",
       "    </tr>\n",
       "    <tr>\n",
       "      <th>3</th>\n",
       "      <td>54</td>\n",
       "    </tr>\n",
       "    <tr>\n",
       "      <th>4</th>\n",
       "      <td>86</td>\n",
       "    </tr>\n",
       "    <tr>\n",
       "      <th>5</th>\n",
       "      <td>94</td>\n",
       "    </tr>\n",
       "    <tr>\n",
       "      <th>6</th>\n",
       "      <td>102</td>\n",
       "    </tr>\n",
       "    <tr>\n",
       "      <th>7</th>\n",
       "      <td>110</td>\n",
       "    </tr>\n",
       "    <tr>\n",
       "      <th>8</th>\n",
       "      <td>169</td>\n",
       "    </tr>\n",
       "    <tr>\n",
       "      <th>9</th>\n",
       "      <td>170</td>\n",
       "    </tr>\n",
       "    <tr>\n",
       "      <th>10</th>\n",
       "      <td>176</td>\n",
       "    </tr>\n",
       "    <tr>\n",
       "      <th>11</th>\n",
       "      <td>236</td>\n",
       "    </tr>\n",
       "    <tr>\n",
       "      <th>12</th>\n",
       "      <td>240</td>\n",
       "    </tr>\n",
       "    <tr>\n",
       "      <th>13</th>\n",
       "      <td>241</td>\n",
       "    </tr>\n",
       "    <tr>\n",
       "      <th>14</th>\n",
       "      <td>242</td>\n",
       "    </tr>\n",
       "    <tr>\n",
       "      <th>15</th>\n",
       "      <td>255</td>\n",
       "    </tr>\n",
       "    <tr>\n",
       "      <th>16</th>\n",
       "      <td>262</td>\n",
       "    </tr>\n",
       "    <tr>\n",
       "      <th>17</th>\n",
       "      <td>276</td>\n",
       "    </tr>\n",
       "    <tr>\n",
       "      <th>18</th>\n",
       "      <td>279</td>\n",
       "    </tr>\n",
       "    <tr>\n",
       "      <th>19</th>\n",
       "      <td>282</td>\n",
       "    </tr>\n",
       "  </tbody>\n",
       "</table>\n",
       "</div>"
      ],
      "text/plain": [
       "    numbers\n",
       "0         8\n",
       "1        30\n",
       "2        30\n",
       "3        54\n",
       "4        86\n",
       "5        94\n",
       "6       102\n",
       "7       110\n",
       "8       169\n",
       "9       170\n",
       "10      176\n",
       "11      236\n",
       "12      240\n",
       "13      241\n",
       "14      242\n",
       "15      255\n",
       "16      262\n",
       "17      276\n",
       "18      279\n",
       "19      282"
      ]
     },
     "execution_count": 28,
     "metadata": {},
     "output_type": "execute_result"
    }
   ],
   "source": [
    "data1 = [8, 30, 30, 54, 86, 94, 102, 110, 169, 170, 176, 236, 240, 241, 242, 255, 262, 276, 279, 282]\n",
    "df1 = pd.DataFrame(data1, columns = ['numbers'])\n",
    "df1"
   ]
  },
  {
   "cell_type": "code",
   "execution_count": 29,
   "metadata": {},
   "outputs": [
    {
     "data": {
      "text/plain": [
       "46.0"
      ]
     },
     "execution_count": 29,
     "metadata": {},
     "output_type": "execute_result"
    }
   ],
   "source": [
    "intervals1 = round((np.max(df1.numbers) - np.min(df1.numbers)) / 6)\n",
    "intervals1"
   ]
  },
  {
   "cell_type": "code",
   "execution_count": 30,
   "metadata": {},
   "outputs": [
    {
     "data": {
      "text/plain": [
       "[0, 1, 2, 3, 4, 5]"
      ]
     },
     "execution_count": 30,
     "metadata": {},
     "output_type": "execute_result"
    }
   ],
   "source": [
    "list(range(0, 6))"
   ]
  },
  {
   "cell_type": "code",
   "execution_count": 31,
   "metadata": {},
   "outputs": [
    {
     "data": {
      "text/plain": [
       "[1, 48, 95, 142, 189, 236]"
      ]
     },
     "execution_count": 31,
     "metadata": {},
     "output_type": "execute_result"
    }
   ],
   "source": [
    "beginning_interval = [1]\n",
    "for n in list(range(0, 5)):\n",
    "    beginning_interval.append(beginning_interval[-1] + 47)\n",
    "beginning_interval"
   ]
  },
  {
   "cell_type": "code",
   "execution_count": 32,
   "metadata": {},
   "outputs": [
    {
     "data": {
      "text/html": [
       "<div>\n",
       "<style scoped>\n",
       "    .dataframe tbody tr th:only-of-type {\n",
       "        vertical-align: middle;\n",
       "    }\n",
       "\n",
       "    .dataframe tbody tr th {\n",
       "        vertical-align: top;\n",
       "    }\n",
       "\n",
       "    .dataframe thead th {\n",
       "        text-align: right;\n",
       "    }\n",
       "</style>\n",
       "<table border=\"1\" class=\"dataframe\">\n",
       "  <thead>\n",
       "    <tr style=\"text-align: right;\">\n",
       "      <th></th>\n",
       "      <th>beginning_interval</th>\n",
       "    </tr>\n",
       "  </thead>\n",
       "  <tbody>\n",
       "    <tr>\n",
       "      <th>0</th>\n",
       "      <td>1</td>\n",
       "    </tr>\n",
       "    <tr>\n",
       "      <th>1</th>\n",
       "      <td>48</td>\n",
       "    </tr>\n",
       "    <tr>\n",
       "      <th>2</th>\n",
       "      <td>95</td>\n",
       "    </tr>\n",
       "    <tr>\n",
       "      <th>3</th>\n",
       "      <td>142</td>\n",
       "    </tr>\n",
       "    <tr>\n",
       "      <th>4</th>\n",
       "      <td>189</td>\n",
       "    </tr>\n",
       "    <tr>\n",
       "      <th>5</th>\n",
       "      <td>236</td>\n",
       "    </tr>\n",
       "  </tbody>\n",
       "</table>\n",
       "</div>"
      ],
      "text/plain": [
       "   beginning_interval\n",
       "0                   1\n",
       "1                  48\n",
       "2                  95\n",
       "3                 142\n",
       "4                 189\n",
       "5                 236"
      ]
     },
     "execution_count": 32,
     "metadata": {},
     "output_type": "execute_result"
    }
   ],
   "source": [
    "df1a = pd.DataFrame(beginning_interval, columns = ['beginning_interval'])\n",
    "df1a"
   ]
  },
  {
   "cell_type": "code",
   "execution_count": 33,
   "metadata": {},
   "outputs": [
    {
     "data": {
      "text/html": [
       "<div>\n",
       "<style scoped>\n",
       "    .dataframe tbody tr th:only-of-type {\n",
       "        vertical-align: middle;\n",
       "    }\n",
       "\n",
       "    .dataframe tbody tr th {\n",
       "        vertical-align: top;\n",
       "    }\n",
       "\n",
       "    .dataframe thead th {\n",
       "        text-align: right;\n",
       "    }\n",
       "</style>\n",
       "<table border=\"1\" class=\"dataframe\">\n",
       "  <thead>\n",
       "    <tr style=\"text-align: right;\">\n",
       "      <th></th>\n",
       "      <th>beginning_interval</th>\n",
       "      <th>ending_interval</th>\n",
       "    </tr>\n",
       "  </thead>\n",
       "  <tbody>\n",
       "    <tr>\n",
       "      <th>0</th>\n",
       "      <td>1</td>\n",
       "      <td>47</td>\n",
       "    </tr>\n",
       "    <tr>\n",
       "      <th>1</th>\n",
       "      <td>48</td>\n",
       "      <td>94</td>\n",
       "    </tr>\n",
       "    <tr>\n",
       "      <th>2</th>\n",
       "      <td>95</td>\n",
       "      <td>141</td>\n",
       "    </tr>\n",
       "    <tr>\n",
       "      <th>3</th>\n",
       "      <td>142</td>\n",
       "      <td>188</td>\n",
       "    </tr>\n",
       "    <tr>\n",
       "      <th>4</th>\n",
       "      <td>189</td>\n",
       "      <td>235</td>\n",
       "    </tr>\n",
       "    <tr>\n",
       "      <th>5</th>\n",
       "      <td>236</td>\n",
       "      <td>282</td>\n",
       "    </tr>\n",
       "  </tbody>\n",
       "</table>\n",
       "</div>"
      ],
      "text/plain": [
       "   beginning_interval  ending_interval\n",
       "0                   1               47\n",
       "1                  48               94\n",
       "2                  95              141\n",
       "3                 142              188\n",
       "4                 189              235\n",
       "5                 236              282"
      ]
     },
     "execution_count": 33,
     "metadata": {},
     "output_type": "execute_result"
    }
   ],
   "source": [
    "df1a['ending_interval'] = [n + 46 for n in df1a.beginning_interval]\n",
    "df1a"
   ]
  },
  {
   "cell_type": "code",
   "execution_count": 34,
   "metadata": {},
   "outputs": [
    {
     "data": {
      "text/plain": [
       "[0, 1, 2, 3, 4, 5]"
      ]
     },
     "execution_count": 34,
     "metadata": {},
     "output_type": "execute_result"
    }
   ],
   "source": [
    "list(range(0, len(df1a)))"
   ]
  },
  {
   "cell_type": "code",
   "execution_count": 36,
   "metadata": {},
   "outputs": [
    {
     "data": {
      "text/html": [
       "<div>\n",
       "<style scoped>\n",
       "    .dataframe tbody tr th:only-of-type {\n",
       "        vertical-align: middle;\n",
       "    }\n",
       "\n",
       "    .dataframe tbody tr th {\n",
       "        vertical-align: top;\n",
       "    }\n",
       "\n",
       "    .dataframe thead th {\n",
       "        text-align: right;\n",
       "    }\n",
       "</style>\n",
       "<table border=\"1\" class=\"dataframe\">\n",
       "  <thead>\n",
       "    <tr style=\"text-align: right;\">\n",
       "      <th></th>\n",
       "      <th>beginning_interval</th>\n",
       "      <th>ending_interval</th>\n",
       "      <th>frequency</th>\n",
       "    </tr>\n",
       "  </thead>\n",
       "  <tbody>\n",
       "    <tr>\n",
       "      <th>0</th>\n",
       "      <td>1</td>\n",
       "      <td>47</td>\n",
       "      <td>3</td>\n",
       "    </tr>\n",
       "    <tr>\n",
       "      <th>1</th>\n",
       "      <td>48</td>\n",
       "      <td>94</td>\n",
       "      <td>3</td>\n",
       "    </tr>\n",
       "    <tr>\n",
       "      <th>2</th>\n",
       "      <td>95</td>\n",
       "      <td>141</td>\n",
       "      <td>2</td>\n",
       "    </tr>\n",
       "    <tr>\n",
       "      <th>3</th>\n",
       "      <td>142</td>\n",
       "      <td>188</td>\n",
       "      <td>3</td>\n",
       "    </tr>\n",
       "    <tr>\n",
       "      <th>4</th>\n",
       "      <td>189</td>\n",
       "      <td>235</td>\n",
       "      <td>0</td>\n",
       "    </tr>\n",
       "    <tr>\n",
       "      <th>5</th>\n",
       "      <td>236</td>\n",
       "      <td>282</td>\n",
       "      <td>9</td>\n",
       "    </tr>\n",
       "  </tbody>\n",
       "</table>\n",
       "</div>"
      ],
      "text/plain": [
       "   beginning_interval  ending_interval  frequency\n",
       "0                   1               47          3\n",
       "1                  48               94          3\n",
       "2                  95              141          2\n",
       "3                 142              188          3\n",
       "4                 189              235          0\n",
       "5                 236              282          9"
      ]
     },
     "execution_count": 36,
     "metadata": {},
     "output_type": "execute_result"
    }
   ],
   "source": [
    "df1a['frequency'] = 0\n",
    "for n in df1.numbers:\n",
    "    if n >= 1 and n <= 47:\n",
    "        df1a.at[0, 'frequency'] +=1\n",
    "    elif n>= 48 and n <= 94:\n",
    "        df1a.at[1, 'frequency'] +=1\n",
    "    elif n>= 95 and n <= 141:\n",
    "        df1a.at[2, 'frequency'] +=1 \n",
    "    elif n>= 142 and n <= 188:\n",
    "        df1a.at[3, 'frequency'] +=1\n",
    "    elif n>= 189 and n <= 235:\n",
    "        df1a.at[4, 'frequency'] +=1\n",
    "    else:\n",
    "        df1a.at[5, 'frequency'] +=1\n",
    "df1a"
   ]
  },
  {
   "cell_type": "code",
   "execution_count": 39,
   "metadata": {},
   "outputs": [
    {
     "data": {
      "text/html": [
       "<div>\n",
       "<style scoped>\n",
       "    .dataframe tbody tr th:only-of-type {\n",
       "        vertical-align: middle;\n",
       "    }\n",
       "\n",
       "    .dataframe tbody tr th {\n",
       "        vertical-align: top;\n",
       "    }\n",
       "\n",
       "    .dataframe thead th {\n",
       "        text-align: right;\n",
       "    }\n",
       "</style>\n",
       "<table border=\"1\" class=\"dataframe\">\n",
       "  <thead>\n",
       "    <tr style=\"text-align: right;\">\n",
       "      <th></th>\n",
       "      <th>beginning_interval</th>\n",
       "      <th>ending_interval</th>\n",
       "      <th>frequency</th>\n",
       "      <th>relative_frequency</th>\n",
       "    </tr>\n",
       "  </thead>\n",
       "  <tbody>\n",
       "    <tr>\n",
       "      <th>0</th>\n",
       "      <td>1</td>\n",
       "      <td>47</td>\n",
       "      <td>3</td>\n",
       "      <td>0.15</td>\n",
       "    </tr>\n",
       "    <tr>\n",
       "      <th>1</th>\n",
       "      <td>48</td>\n",
       "      <td>94</td>\n",
       "      <td>3</td>\n",
       "      <td>0.15</td>\n",
       "    </tr>\n",
       "    <tr>\n",
       "      <th>2</th>\n",
       "      <td>95</td>\n",
       "      <td>141</td>\n",
       "      <td>2</td>\n",
       "      <td>0.10</td>\n",
       "    </tr>\n",
       "    <tr>\n",
       "      <th>3</th>\n",
       "      <td>142</td>\n",
       "      <td>188</td>\n",
       "      <td>3</td>\n",
       "      <td>0.15</td>\n",
       "    </tr>\n",
       "    <tr>\n",
       "      <th>4</th>\n",
       "      <td>189</td>\n",
       "      <td>235</td>\n",
       "      <td>0</td>\n",
       "      <td>0.00</td>\n",
       "    </tr>\n",
       "    <tr>\n",
       "      <th>5</th>\n",
       "      <td>236</td>\n",
       "      <td>282</td>\n",
       "      <td>9</td>\n",
       "      <td>0.45</td>\n",
       "    </tr>\n",
       "  </tbody>\n",
       "</table>\n",
       "</div>"
      ],
      "text/plain": [
       "   beginning_interval  ending_interval  frequency  relative_frequency\n",
       "0                   1               47          3                0.15\n",
       "1                  48               94          3                0.15\n",
       "2                  95              141          2                0.10\n",
       "3                 142              188          3                0.15\n",
       "4                 189              235          0                0.00\n",
       "5                 236              282          9                0.45"
      ]
     },
     "execution_count": 39,
     "metadata": {},
     "output_type": "execute_result"
    }
   ],
   "source": [
    "df1a['relative_frequency'] = [n/sum(df1a.frequency) for n in df1a.frequency]\n",
    "df1a"
   ]
  },
  {
   "cell_type": "markdown",
   "metadata": {},
   "source": [
    "COMPLETED August 15, 2021"
   ]
  },
  {
   "cell_type": "markdown",
   "metadata": {},
   "source": [
    "HISTOGRAM EXERCISE"
   ]
  },
  {
   "cell_type": "code",
   "execution_count": 1,
   "metadata": {},
   "outputs": [],
   "source": [
    "data2 = [15, 68, 165, 193, 216, 228, 361, 470, 500, 529, 544, 602, 647, 692, 696, 699, 809, 892, 899, 936]"
   ]
  },
  {
   "cell_type": "code",
   "execution_count": 3,
   "metadata": {},
   "outputs": [
    {
     "data": {
      "text/html": [
       "<div>\n",
       "<style scoped>\n",
       "    .dataframe tbody tr th:only-of-type {\n",
       "        vertical-align: middle;\n",
       "    }\n",
       "\n",
       "    .dataframe tbody tr th {\n",
       "        vertical-align: top;\n",
       "    }\n",
       "\n",
       "    .dataframe thead th {\n",
       "        text-align: right;\n",
       "    }\n",
       "</style>\n",
       "<table border=\"1\" class=\"dataframe\">\n",
       "  <thead>\n",
       "    <tr style=\"text-align: right;\">\n",
       "      <th></th>\n",
       "      <th>numbers</th>\n",
       "    </tr>\n",
       "  </thead>\n",
       "  <tbody>\n",
       "    <tr>\n",
       "      <th>0</th>\n",
       "      <td>15</td>\n",
       "    </tr>\n",
       "    <tr>\n",
       "      <th>1</th>\n",
       "      <td>68</td>\n",
       "    </tr>\n",
       "    <tr>\n",
       "      <th>2</th>\n",
       "      <td>165</td>\n",
       "    </tr>\n",
       "    <tr>\n",
       "      <th>3</th>\n",
       "      <td>193</td>\n",
       "    </tr>\n",
       "    <tr>\n",
       "      <th>4</th>\n",
       "      <td>216</td>\n",
       "    </tr>\n",
       "    <tr>\n",
       "      <th>5</th>\n",
       "      <td>228</td>\n",
       "    </tr>\n",
       "    <tr>\n",
       "      <th>6</th>\n",
       "      <td>361</td>\n",
       "    </tr>\n",
       "    <tr>\n",
       "      <th>7</th>\n",
       "      <td>470</td>\n",
       "    </tr>\n",
       "    <tr>\n",
       "      <th>8</th>\n",
       "      <td>500</td>\n",
       "    </tr>\n",
       "    <tr>\n",
       "      <th>9</th>\n",
       "      <td>529</td>\n",
       "    </tr>\n",
       "    <tr>\n",
       "      <th>10</th>\n",
       "      <td>544</td>\n",
       "    </tr>\n",
       "    <tr>\n",
       "      <th>11</th>\n",
       "      <td>602</td>\n",
       "    </tr>\n",
       "    <tr>\n",
       "      <th>12</th>\n",
       "      <td>647</td>\n",
       "    </tr>\n",
       "    <tr>\n",
       "      <th>13</th>\n",
       "      <td>692</td>\n",
       "    </tr>\n",
       "    <tr>\n",
       "      <th>14</th>\n",
       "      <td>696</td>\n",
       "    </tr>\n",
       "    <tr>\n",
       "      <th>15</th>\n",
       "      <td>699</td>\n",
       "    </tr>\n",
       "    <tr>\n",
       "      <th>16</th>\n",
       "      <td>809</td>\n",
       "    </tr>\n",
       "    <tr>\n",
       "      <th>17</th>\n",
       "      <td>892</td>\n",
       "    </tr>\n",
       "    <tr>\n",
       "      <th>18</th>\n",
       "      <td>899</td>\n",
       "    </tr>\n",
       "    <tr>\n",
       "      <th>19</th>\n",
       "      <td>936</td>\n",
       "    </tr>\n",
       "  </tbody>\n",
       "</table>\n",
       "</div>"
      ],
      "text/plain": [
       "    numbers\n",
       "0        15\n",
       "1        68\n",
       "2       165\n",
       "3       193\n",
       "4       216\n",
       "5       228\n",
       "6       361\n",
       "7       470\n",
       "8       500\n",
       "9       529\n",
       "10      544\n",
       "11      602\n",
       "12      647\n",
       "13      692\n",
       "14      696\n",
       "15      699\n",
       "16      809\n",
       "17      892\n",
       "18      899\n",
       "19      936"
      ]
     },
     "execution_count": 3,
     "metadata": {},
     "output_type": "execute_result"
    }
   ],
   "source": [
    "df2 = pd.DataFrame(data2, columns = ['numbers'])\n",
    "df2"
   ]
  },
  {
   "cell_type": "code",
   "execution_count": 6,
   "metadata": {},
   "outputs": [
    {
     "data": {
      "image/png": "[encoded data removed]",
      "text/plain": [
       "<Figure size 432x288 with 1 Axes>"
      ]
     },
     "metadata": {
      "needs_background": "light"
     },
     "output_type": "display_data"
    }
   ],
   "source": [
    "df2.hist(bins = 10);"
   ]
  },
  {
   "cell_type": "markdown",
   "metadata": {},
   "source": [
    "COMPLETED AUGUST 16, 2021"
   ]
  },
  {
   "cell_type": "markdown",
   "metadata": {},
   "source": [
    "Mean, Median, and Mode Exercise"
   ]
  },
  {
   "cell_type": "code",
   "execution_count": 2,
   "metadata": {},
   "outputs": [],
   "source": [
    "annual_income = [62000, 64000, 49000, 324000, 1264000, 54330, 64000, 51000, 55000, 48000, 53000]"
   ]
  },
  {
   "cell_type": "code",
   "execution_count": 4,
   "metadata": {},
   "outputs": [
    {
     "data": {
      "text/plain": [
       "189848.18181818182"
      ]
     },
     "execution_count": 4,
     "metadata": {},
     "output_type": "execute_result"
    }
   ],
   "source": [
    "np.mean(annual_income)"
   ]
  },
  {
   "cell_type": "code",
   "execution_count": 5,
   "metadata": {},
   "outputs": [
    {
     "data": {
      "text/plain": [
       "55000.0"
      ]
     },
     "execution_count": 5,
     "metadata": {},
     "output_type": "execute_result"
    }
   ],
   "source": [
    "np.median(annual_income)"
   ]
  },
  {
   "cell_type": "code",
   "execution_count": 10,
   "metadata": {},
   "outputs": [
    {
     "data": {
      "text/plain": [
       "ModeResult(mode=array([64000]), count=array([2]))"
      ]
     },
     "execution_count": 10,
     "metadata": {},
     "output_type": "execute_result"
    }
   ],
   "source": [
    "stats.mode(annual_income)"
   ]
  },
  {
   "cell_type": "markdown",
   "metadata": {},
   "source": [
    "From the median, mean, and mode we can intepret that the median income of the sample is 55000. There are some extreme outliers for those incredibly wealthy that throw off the mean calculation to be higher than it should be."
   ]
  },
  {
   "cell_type": "markdown",
   "metadata": {},
   "source": [
    "COMPLETED August 21, 2021"
   ]
  },
  {
   "cell_type": "markdown",
   "metadata": {},
   "source": [
    "Skewness Exercise"
   ]
  },
  {
   "cell_type": "code",
   "execution_count": 3,
   "metadata": {},
   "outputs": [
    {
     "data": {
      "image/png": "[encoded data removed]",
      "text/plain": [
       "<Figure size 432x288 with 1 Axes>"
      ]
     },
     "metadata": {
      "needs_background": "light"
     },
     "output_type": "display_data"
    }
   ],
   "source": [
    "skew_data1 = [212, 869, 220, 654, 511, 624, 420, 121, 428, 865, 799, 405, 230, 670, 870, 366, 99, 55, 489, 312, \n",
    "              493, 163, 221, 84, 144, 48, 375, 86, 168, 100]\n",
    "plt.hist(skew_data1)\n",
    "plt.show()"
   ]
  },
  {
   "cell_type": "markdown",
   "metadata": {},
   "source": [
    "There is a positive skew."
   ]
  },
  {
   "cell_type": "code",
   "execution_count": 5,
   "metadata": {},
   "outputs": [
    {
     "data": {
      "image/png": "[encoded data removed]",
      "text/plain": [
       "<Figure size 432x288 with 1 Axes>"
      ]
     },
     "metadata": {
      "needs_background": "light"
     },
     "output_type": "display_data"
    }
   ],
   "source": [
    "skew_data2 = [586, 760, 495, 678, 559, 415, 370, 659, 119, 288, 241, 787, 522, 207, 160, 526, 656, 848, 720, 676,\n",
    "              581, 929, 653, 661, 770, 800, 529, 975, 995, 947]\n",
    "plt.hist(skew_data2)\n",
    "plt.show()"
   ]
  },
  {
   "cell_type": "markdown",
   "metadata": {},
   "source": [
    "There is a slight negative skew."
   ]
  },
  {
   "cell_type": "markdown",
   "metadata": {},
   "source": [
    "COMPLETED August 21, 2021"
   ]
  },
  {
   "cell_type": "markdown",
   "metadata": {},
   "source": [
    "VARIANCE EXERCISE"
   ]
  },
  {
   "cell_type": "code",
   "execution_count": 4,
   "metadata": {},
   "outputs": [
    {
     "name": "stdout",
     "output_type": "stream",
     "text": [
      "133433409536.36362\n"
     ]
    }
   ],
   "source": [
    "# Task 1: Due to annual_income being a small sample of incomes of USA residents, the sample variance formula\n",
    "# should be used\n",
    "\n",
    "# Task 2:\n",
    "error_squared = []\n",
    "for income in annual_income:\n",
    "    error_squared.append((income - np.mean(annual_income))**2)\n",
    "variance_squared = np.sum(error_squared)/ (len(annual_income)-1)\n",
    "print(variance)\n",
    "\n",
    "#Task 3: The is a large variance of incomes between different individuals in the USA."
   ]
  },
  {
   "cell_type": "markdown",
   "metadata": {},
   "source": [
    "COMPLETED August 22, 2021"
   ]
  },
  {
   "cell_type": "markdown",
   "metadata": {},
   "source": [
    "STANDARD DEVIATION AND COEFFICIENT OF VARIATION EXERCISE"
   ]
  },
  {
   "cell_type": "code",
   "execution_count": 4,
   "metadata": {},
   "outputs": [
    {
     "name": "stdout",
     "output_type": "stream",
     "text": [
      "365285.38095078483 1.9240920874289384 45809.91722492684 0.09072530929304154\n"
     ]
    }
   ],
   "source": [
    "# TASK 1: Do you have to use the sample formula or the population formula. Answer: Sample, there are only 11 \n",
    "# observations for each country.\n",
    "\n",
    "# TASK 2: Calculate Standard Deviation of income in the US and Denmark\n",
    "\n",
    "us_mean = 189848.18\n",
    "us_variance = 133433409536.36\n",
    "us_stdev = math.sqrt(us_variance)\n",
    "us_coeff = us_stdev / us_mean\n",
    "\n",
    "denmark_income_data = [462852.37, 470317.73, 567367.42, 589763.50, 500179.17, 492713.81, 515109.89, \n",
    "                       507644.53, 425525.56, 522575.25, 500179.17]\n",
    "denmark_mean = np.mean(denmark_income_data)\n",
    "denmark_error_squared = []\n",
    "for income in denmark_income_data:\n",
    "    denmark_error_squared.append((income - np.mean(denmark_income_data))**2)\n",
    "denmark_variance = np.sum(denmark_error_squared)/ (len(denmark_income_data)-1)\n",
    "denmark_stdev = math.sqrt(denmark_variance)\n",
    "denmark_coeff = denmark_stdev/denmark_mean\n",
    "\n",
    "print(us_stdev, us_coeff, denmark_stdev, denmark_coeff)"
   ]
  },
  {
   "cell_type": "code",
   "execution_count": 5,
   "metadata": {},
   "outputs": [],
   "source": [
    "# TASK 4: Try to interpret the numbers you got\n",
    "# Answer: The standard deviation does not tell us much in comparison due to differences in currency values.\n",
    "# The coefficients of variation tell us that the sample from Denmark has much closer incomes than the US sample."
   ]
  },
  {
   "cell_type": "markdown",
   "metadata": {},
   "source": [
    "COMPLETED August 28, 2021"
   ]
  },
  {
   "cell_type": "markdown",
   "metadata": {},
   "source": [
    "COVARIANCE EXERCISE"
   ]
  },
  {
   "cell_type": "code",
   "execution_count": 2,
   "metadata": {},
   "outputs": [
    {
     "name": "stdout",
     "output_type": "stream",
     "text": [
      "21155.55\n"
     ]
    }
   ],
   "source": [
    "writing_scores = [344, 383, 611, 713, 536]\n",
    "reading_scores = [378, 349, 503, 719, 503]\n",
    "# TASK 1: Determine if this is a sample or population. ANSWER: Sample\n",
    "# TASK 2: Calculate the covariance of the two datasets\n",
    "writing_mean = statistics.mean(writing_scores)\n",
    "reading_mean = statistics.mean(reading_scores)\n",
    "covar_st1 = [(writing_scores[i] - writing_mean) * (reading_scores[i] - reading_mean) for i in range(len(writing_scores))]\n",
    "covariance = np.sum(covar_st1) / (len(covar_st1) - 1)\n",
    "print(covariance)"
   ]
  },
  {
   "cell_type": "code",
   "execution_count": 3,
   "metadata": {},
   "outputs": [
    {
     "data": {
      "image/png": "[encoded data removed]",
      "text/plain": [
       "<Figure size 432x288 with 1 Axes>"
      ]
     },
     "metadata": {
      "needs_background": "light"
     },
     "output_type": "display_data"
    }
   ],
   "source": [
    "# TASK 3: Plot the data on a scatter plot and using your previous knowledge comment on whether there is a\n",
    "# noticeable relationship between the two variables.\n",
    "\n",
    "plt.scatter(writing_scores, reading_scores)\n",
    "plt.show();"
   ]
  },
  {
   "cell_type": "code",
   "execution_count": 4,
   "metadata": {},
   "outputs": [],
   "source": [
    "# Answer: There is a noticeable relatioship between the two variables. When one does well in one section, they are\n",
    "# likely to do well in the other."
   ]
  },
  {
   "cell_type": "markdown",
   "metadata": {},
   "source": [
    "COMPLETED AUGUST 28, 2021"
   ]
  },
  {
   "cell_type": "markdown",
   "metadata": {},
   "source": [
    "CORRELATION EXERCISE"
   ]
  },
  {
   "cell_type": "code",
   "execution_count": 5,
   "metadata": {},
   "outputs": [
    {
     "name": "stdout",
     "output_type": "stream",
     "text": [
      "0.938125713331758\n"
     ]
    }
   ],
   "source": [
    "# TASK !: Calculate the correlation coefficient of the two SAT datasets\n",
    "writing_stdev = statistics.stdev(writing_scores)\n",
    "reading_stdev = statistics.stdev(reading_scores)\n",
    "correlation = covariance / (writing_stdev * reading_stdev)\n",
    "print(correlation)"
   ]
  },
  {
   "cell_type": "code",
   "execution_count": 6,
   "metadata": {},
   "outputs": [],
   "source": [
    "# TASK 2: Comment on the strength of the correlation between the variables\n",
    "# ANSWER: There is a strong correlation between the reading and writing scores in the sample of SAT scores."
   ]
  },
  {
   "cell_type": "markdown",
   "metadata": {},
   "source": [
    "COMPLETED August 28, 2021"
   ]
  },
  {
   "cell_type": "markdown",
   "metadata": {},
   "source": [
    "PRACTICAL EXAMPLE DESCRIPTIVE STATISTICS EXERCISE"
   ]
  },
  {
   "cell_type": "code",
   "execution_count": 3,
   "metadata": {},
   "outputs": [],
   "source": [
    "# TASK 1: What are the types of data and the levels of measurement of the following variables: \n",
    "# Cust ID, Mortgage, Year of sale\n",
    "\n",
    "# Customer ID -> Categorical: numerals with no mathematical meaning\n",
    "# Mortgage -> Categorical: Yes or No answer\n",
    "# Year of Sale -> Numerical: Discrete, year that sale was made and only year so no continuous measurement can be \n",
    "# made"
   ]
  },
  {
   "cell_type": "code",
   "execution_count": 4,
   "metadata": {},
   "outputs": [],
   "source": [
    "# TASK 2:  Create a frequency distribution graph representing the price (that is a histogram with the highest \n",
    "# possible number of bins - 272). Use data on all apartments and offices, no matter if sold or not.\n",
    "\n",
    "housing_price = [246172.68, 246331.90, 209280.91, 452667.01, 467083.31, 203491.85, 212520.83, 198591.85, \n",
    "                 265467.68, 235633.26, 317473.86, 503790.23, 217786.38, 460001.26, 460001.26, 448134.27, \n",
    "                 249591.99, 196142.19, 258572.48, 310831.21, 207281.59, 168834.04, 396973.83, 188743.11, \n",
    "                 179674.08, 306363.64, 200300.63, 382041.13, 245572.79, 407214.29, 355073.40, 256821.64, \n",
    "                 226342.80, 191389.87, 297008.97, 250773.15, 312211.14, 190119.50, 225050.52, 261742.74, \n",
    "                 344530.89, 215410.28, 252185.99, 480545.81, 300385.62, 240539.35, 222138.72, 228410.05, \n",
    "                 197053.51, 193660.62, 237060.15, 372001.70, 290031.26, 238811.06, 199054.20, 496266.41, \n",
    "                 346906.89, 376964.62, 315733.15, 188273.73, 253831.02, 278575.87, 402081.80, 310832.59, \n",
    "                 257183.48, 326885.34, 344568.74, 214631.68, 237207.68, 464549.19, 310577.04, 205098.21, \n",
    "                 248525.12, 224463.87, 220606.28, 220865.00, 338181.18, 432679.91, 196220.05, 323915.81, \n",
    "                 200719.02, 380809.52, 213942.56, 207581.43, 241671.52, 336695.25, 171262.65, 299159.14, \n",
    "                 212265.67, 388515.14, 263790.81, 367976.46, 243052.59, 269075.30, 223577.32, 198075.99, \n",
    "                 354553.23, 456919.46, 233142.80, 225401.62, 195153.16, 206631.81, 358525.59, 223917.34, \n",
    "                 201518.89, 269278.57, 204808.16, 306878.46, 275394.25, 192092.24, 165430.28, 310223.29, \n",
    "                 231552.33, 215774.28, 289727.99, 195874.94, 357538.20, 239248.75, 382277.15, 248422.66, \n",
    "                 242740.66, 253025.78, 234172.39, 200678.75, 226578.51, 200148.89, 218585.92, 198841.70, \n",
    "                 252927.84, 225290.22, 234750.59, 287466.41, 229464.71, 377313.56, 276759.18, 219373.41, \n",
    "                 230216.22, 410932.67, 214341.34, 248274.31, 390494.27, 293876.27, 204286.67, 230154.53, \n",
    "                 228170.03, 205085.40, 177555.06, 217748.48, 247739.44, 484458.03, 356506.37, 197869.36, \n",
    "                 236608.95, 208930.81, 263123.42, 286433.57, 229581.78, 252053.03, 244820.67, 241620.48, \n",
    "                 235762.34, 236639.56, 294807.65, 293828.69, 412856.56, 224076.84, 258015.61, 153466.71, \n",
    "                 261871.70, 210038.70, 210824.06, 249075.66, 219865.76, 204292.49, 261579.89, 222867.42, \n",
    "                 291494.36, 296483.14, 532877.38, 117564.07, 317196.40, 264142.16, 222947.21, 250312.53, \n",
    "                 246050.40, 529317.28, 169158.29, 206958.71, 206445.42, 239341.58, 398903.42, 210745.17, \n",
    "                 331154.88, 204434.68, 189194.31, 204027.09, 400865.92, 217787.71, 219630.90, 244624.87, \n",
    "                 163162.88, 401302.82, 538271.74, 461464.99, 275812.49, 216552.71, 495570.44, 388656.81, \n",
    "                 495024.09, 526947.16, 427236.10, 327044.37, 385447.69, 401894.82, 264275.78, 231348.93, \n",
    "                 264238.95, 217357.63, 482404.31, 228937.90, 498994.03, 256376.28, 255243.11, 506786.66, \n",
    "                 233172.49, 233834.00, 523373.45, 228872.91, 208655.67, 322952.56, 216826.00, 298730.40, \n",
    "                 230495.01, 346048.04, 377043.60, 413761.71, 212644.39, 250415.38, 219252.89, 264011.70, \n",
    "                 211406.87, 396330.29, 227072.88, 276323.87, 230943.38, 315382.11, 372016.56, 237680.88, \n",
    "                 234032.88, 273165.58, 271227.49, 349865.22, 199730.73, 338482.45, 351304.58, 338472.13, \n",
    "                 212916.36, 308660.80, 147343.69, 448574.67, 255337.90, 175773.59, 322610.74, 279191.26, \n",
    "                 287996.53, 365868.78, 199216.40]"
   ]
  },
  {
   "cell_type": "code",
   "execution_count": 5,
   "metadata": {},
   "outputs": [
    {
     "data": {
      "image/png": "[encoded data removed]",
      "text/plain": [
       "<Figure size 432x288 with 1 Axes>"
      ]
     },
     "metadata": {
      "needs_background": "light"
     },
     "output_type": "display_data"
    }
   ],
   "source": [
    "plt.hist(housing_price, bins = 272)\n",
    "plt.show();"
   ]
  },
  {
   "cell_type": "code",
   "execution_count": 6,
   "metadata": {},
   "outputs": [
    {
     "data": {
      "image/png": "[encoded data removed]",
      "text/plain": [
       "<Figure size 432x288 with 1 Axes>"
      ]
     },
     "metadata": {
      "needs_background": "light"
     },
     "output_type": "display_data"
    }
   ],
   "source": [
    "# TASK 3: Create a histogram which represents the Price variable. Choose interval width (bins) of length \n",
    "# $100,000. If you don't know how to do that, refer to the Course notes on descriptive statistics provided with\n",
    "# the first lecture in this section. Use the data on all properties, no matter if sold or not.\n",
    "plt.hist(housing_price, bins = 5)\n",
    "plt.show();"
   ]
  },
  {
   "cell_type": "code",
   "execution_count": 7,
   "metadata": {},
   "outputs": [],
   "source": [
    "# TASK 4: Interpret the results.\n",
    "# ANSWER: The majority of house prices are between 217,000 and 317,000. There is a right skew to the data."
   ]
  },
  {
   "cell_type": "code",
   "execution_count": 8,
   "metadata": {},
   "outputs": [],
   "source": [
    "# TASK 5: Create a scatter plot showing the relationship between Price and Area. Use the data on all properties, \n",
    "# no matter if sold or not. Interpret the results.\n",
    "housing_area = [743.09, 756.21, 587.28, 1604.75, 1375.45, 675.19, 670.89, 720.81, 782.25, 794.52, 1160.36, \n",
    "                1942.50, 794.52, 1109.25, 1400.95, 1479.72, 790.54, 723.93, 781.07, 1127.76, 720.70, 649.69, \n",
    "                1307.45, 618.38, 625.80, 1203.29, 670.89, 1434.09, 781.07, 1596.35, 1110.32, 781.07, 697.89, \n",
    "                625.80, 957.53, 722.96, 923.21, 670.24, 785.48, 798.28, 1121.95, 782.25, 923.21, 1434.09, \n",
    "                1160.36, 798.28, 733.19, 798.28, 733.19, 717.05, 747.50, 1121.95, 1121.95, 827.87, 747.50, \n",
    "                1608.84, 1132.06, 1383.84, 927.83, 669.16, 928.16, 798.50, 1305.62, 1121.95, 785.48, 927.08, \n",
    "                1109.25, 649.80, 785.48, 1596.35, 1121.95, 743.41, 756.21, 649.80, 785.48, 785.48, 1283.45, \n",
    "                1434.09, 782.25, 1288.62, 781.07, 1222.34, 781.07, 743.09, 785.48, 1109.25, 579.75, 1128.40, \n",
    "                701.66, 1336.93, 794.52, 1171.55, 794.52, 798.28, 798.28, 649.80, 1137.44, 1604.75, 675.19, \n",
    "                649.69, 785.48, 781.07, 1127.76, 794.52, 794.52, 781.07, 720.81, 927.83, 927.83, 785.48, 618.16,\n",
    "                1109.25, 720.70, 720.81, 927.08, 798.28, 1057.92, 781.07, 1396.86, 794.52, 923.21, 781.07, \n",
    "                782.25, 733.19, 733.19, 794.52, 756.21, 736.63, 785.48, 781.07, 798.28, 798.28, 827.87, 1160.36,\n",
    "                827.87, 723.83, 798.28, 1238.58, 723.83, 977.87, 1093.00, 927.83, 701.66, 680.57, 723.93, 649.80,\n",
    "                649.80, 785.48, 785.48, 1615.29, 1132.06, 720.38, 733.19, 782.25, 798.28, 1057.92, 723.83, 798.28,\n",
    "                794.52, 794.52, 782.25, 785.48, 923.21, 923.21, 1434.09, 782.25, 781.07, 618.38, 923.21, 781.07, \n",
    "                781.07, 781.07, 697.89, 670.89, 782.25, 743.41, 923.21, 923.21, 1769.48, 410.71, 1200.82, 800.96,\n",
    "                827.87, 775.69, 775.69, 1604.75, 587.28, 756.21, 743.09, 827.87, 1160.36, 743.09, 1160.36, 625.80,\n",
    "                756.21, 625.80, 1238.58, 713.71, 763.21, 798.50, 618.38, 1479.72, 1603.99, 1615.29, 784.19, \n",
    "                720.38, 1596.35, 1121.95, 1596.35, 1596.35, 1273.88, 966.57, 1357.16, 1343.39, 758.69, 789.25, \n",
    "                789.25, 733.19, 1611.85, 789.25, 1611.85, 789.25, 794.52, 1611.85, 789.25, 794.52, 1611.85, \n",
    "                789.25, 794.52, 1111.72, 785.48, 1058.25, 791.72, 1068.58, 1325.31, 1273.88, 798.50, 798.50, \n",
    "                798.50, 1058.25, 618.16, 1273.88, 798.50, 798.50, 798.50, 1058.25, 1273.55, 798.50, 798.50, \n",
    "                798.28, 1057.92, 1273.55, 618.16, 1273.55, 1057.92, 1273.55, 798.28, 1057.92, 606.33, 1273.55, \n",
    "                798.28, 598.58, 1238.58, 794.52, 1013.27, 1074.71, 789.25]"
   ]
  },
  {
   "cell_type": "code",
   "execution_count": 9,
   "metadata": {},
   "outputs": [
    {
     "data": {
      "image/png": "[encoded data removed]",
      "text/plain": [
       "<Figure size 432x288 with 1 Axes>"
      ]
     },
     "metadata": {
      "needs_background": "light"
     },
     "output_type": "display_data"
    }
   ],
   "source": [
    "plt.scatter(housing_price, housing_area)\n",
    "plt.show();"
   ]
  },
  {
   "cell_type": "code",
   "execution_count": 10,
   "metadata": {},
   "outputs": [],
   "source": [
    "# There is a clear relationship between the square footage of the property and its price."
   ]
  },
  {
   "cell_type": "code",
   "execution_count": 2,
   "metadata": {},
   "outputs": [
    {
     "data": {
      "text/html": [
       "<div>\n",
       "<style scoped>\n",
       "    .dataframe tbody tr th:only-of-type {\n",
       "        vertical-align: middle;\n",
       "    }\n",
       "\n",
       "    .dataframe tbody tr th {\n",
       "        vertical-align: top;\n",
       "    }\n",
       "\n",
       "    .dataframe thead th {\n",
       "        text-align: right;\n",
       "    }\n",
       "</style>\n",
       "<table border=\"1\" class=\"dataframe\">\n",
       "  <thead>\n",
       "    <tr style=\"text-align: right;\">\n",
       "      <th></th>\n",
       "      <th>countries</th>\n",
       "      <th>absolute_frequency</th>\n",
       "      <th>relative_frequency</th>\n",
       "      <th>cumulative_frequency</th>\n",
       "    </tr>\n",
       "  </thead>\n",
       "  <tbody>\n",
       "    <tr>\n",
       "      <th>0</th>\n",
       "      <td>USA</td>\n",
       "      <td>177</td>\n",
       "      <td>0.91</td>\n",
       "      <td>0.91</td>\n",
       "    </tr>\n",
       "    <tr>\n",
       "      <th>1</th>\n",
       "      <td>UK</td>\n",
       "      <td>2</td>\n",
       "      <td>0.01</td>\n",
       "      <td>0.92</td>\n",
       "    </tr>\n",
       "    <tr>\n",
       "      <th>2</th>\n",
       "      <td>Belgium</td>\n",
       "      <td>2</td>\n",
       "      <td>0.01</td>\n",
       "      <td>0.93</td>\n",
       "    </tr>\n",
       "    <tr>\n",
       "      <th>3</th>\n",
       "      <td>Russia</td>\n",
       "      <td>4</td>\n",
       "      <td>0.02</td>\n",
       "      <td>0.95</td>\n",
       "    </tr>\n",
       "    <tr>\n",
       "      <th>4</th>\n",
       "      <td>Denmark</td>\n",
       "      <td>1</td>\n",
       "      <td>0.01</td>\n",
       "      <td>0.96</td>\n",
       "    </tr>\n",
       "    <tr>\n",
       "      <th>5</th>\n",
       "      <td>Germany</td>\n",
       "      <td>1</td>\n",
       "      <td>0.01</td>\n",
       "      <td>0.97</td>\n",
       "    </tr>\n",
       "    <tr>\n",
       "      <th>6</th>\n",
       "      <td>Mexico</td>\n",
       "      <td>1</td>\n",
       "      <td>0.01</td>\n",
       "      <td>0.98</td>\n",
       "    </tr>\n",
       "    <tr>\n",
       "      <th>7</th>\n",
       "      <td>Canada</td>\n",
       "      <td>7</td>\n",
       "      <td>0.04</td>\n",
       "      <td>1.02</td>\n",
       "    </tr>\n",
       "  </tbody>\n",
       "</table>\n",
       "</div>"
      ],
      "text/plain": [
       "  countries  absolute_frequency  relative_frequency  cumulative_frequency\n",
       "0       USA                 177                0.91                  0.91\n",
       "1        UK                   2                0.01                  0.92\n",
       "2   Belgium                   2                0.01                  0.93\n",
       "3    Russia                   4                0.02                  0.95\n",
       "4   Denmark                   1                0.01                  0.96\n",
       "5   Germany                   1                0.01                  0.97\n",
       "6    Mexico                   1                0.01                  0.98\n",
       "7    Canada                   7                0.04                  1.02"
      ]
     },
     "execution_count": 2,
     "metadata": {},
     "output_type": "execute_result"
    }
   ],
   "source": [
    "# Task 6: Task 6: Create a frequency distribution table, where you list all the countries from which the company \n",
    "# has buyers (country vs number of buyers). Count the absolute frequency, the relative frequency and the \n",
    "# cumulative frequency. \n",
    "\n",
    "descriptive_data = [['USA', 177, 0.91, 0.91], ['UK', 2, 0.01, 0.92], ['Belgium', 2, 0.01, 0.93], ['Russia', 4, 0.02, 0.95], \n",
    "                    ['Denmark', 1, 0.01, 0.96], ['Germany', 1, 0.01, 0.97], ['Mexico', 1, 0.01, 0.98], \n",
    "                    ['Canada', 7, 0.04, 1.02]]\n",
    "descriptive_df = pd.DataFrame(descriptive_data, columns = ['countries', 'absolute_frequency', 'relative_frequency', 'cumulative_frequency'])\n",
    "descriptive_df"
   ]
  },
  {
   "cell_type": "code",
   "execution_count": 3,
   "metadata": {},
   "outputs": [],
   "source": [
    "# Task 7: Create a Pareto Diagram representing the data.\n",
    "# Completed in Excel spreadsheet"
   ]
  },
  {
   "cell_type": "code",
   "execution_count": null,
   "metadata": {},
   "outputs": [],
   "source": []
  }
 ],
 "metadata": {
  "kernelspec": {
   "display_name": "learn-env",
   "language": "python",
   "name": "learn-env"
  },
  "language_info": {
   "codemirror_mode": {
    "name": "ipython",
    "version": 3
   },
   "file_extension": ".py",
   "mimetype": "text/x-python",
   "name": "python",
   "nbconvert_exporter": "python",
   "pygments_lexer": "ipython3",
   "version": "3.6.9"
  }
 },
 "nbformat": 4,
 "nbformat_minor": 4
}
