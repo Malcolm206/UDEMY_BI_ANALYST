{
 "cells": [
  {
   "cell_type": "markdown",
   "metadata": {},
   "source": [
    "# UDEMY Business Intelligence Analyst Course\n",
    "## Taught By 365 Careers"
   ]
  },
  {
   "cell_type": "markdown",
   "metadata": {},
   "source": [
    "COMPLETED SECTION 1 August 8th, 2021"
   ]
  },
  {
   "cell_type": "markdown",
   "metadata": {},
   "source": [
    "COMPLETED SECTIONS 2-5 August 12, 2021"
   ]
  },
  {
   "cell_type": "markdown",
   "metadata": {},
   "source": [
    "COMPLETED SECTIONS 5-8 August 14, 2021"
   ]
  },
  {
   "cell_type": "markdown",
   "metadata": {},
   "source": [
    "COMPLETED INTRODUCTION/PART 1 of COURSE AUGUST 14, 2021"
   ]
  },
  {
   "cell_type": "code",
   "execution_count": 1,
   "metadata": {},
   "outputs": [],
   "source": [
    "import matplotlib.pyplot as plt\n",
    "import pandas as pd\n",
    "import numpy as np\n",
    "from scipy import stats\n",
    "import math\n",
    "import statistics"
   ]
  },
  {
   "cell_type": "code",
   "execution_count": 3,
   "metadata": {},
   "outputs": [
    {
     "data": {
      "text/html": [
       "<div>\n",
       "<style scoped>\n",
       "    .dataframe tbody tr th:only-of-type {\n",
       "        vertical-align: middle;\n",
       "    }\n",
       "\n",
       "    .dataframe tbody tr th {\n",
       "        vertical-align: top;\n",
       "    }\n",
       "\n",
       "    .dataframe thead th {\n",
       "        text-align: right;\n",
       "    }\n",
       "</style>\n",
       "<table border=\"1\" class=\"dataframe\">\n",
       "  <thead>\n",
       "    <tr style=\"text-align: right;\">\n",
       "      <th></th>\n",
       "      <th>Sales</th>\n",
       "      <th>City</th>\n",
       "    </tr>\n",
       "  </thead>\n",
       "  <tbody>\n",
       "    <tr>\n",
       "      <th>0</th>\n",
       "      <td>12327</td>\n",
       "      <td>New York</td>\n",
       "    </tr>\n",
       "    <tr>\n",
       "      <th>1</th>\n",
       "      <td>17129</td>\n",
       "      <td>LA</td>\n",
       "    </tr>\n",
       "    <tr>\n",
       "      <th>2</th>\n",
       "      <td>19923</td>\n",
       "      <td>San Francisco</td>\n",
       "    </tr>\n",
       "  </tbody>\n",
       "</table>\n",
       "</div>"
      ],
      "text/plain": [
       "   Sales           City\n",
       "0  12327       New York\n",
       "1  17129             LA\n",
       "2  19923  San Francisco"
      ]
     },
     "execution_count": 3,
     "metadata": {},
     "output_type": "execute_result"
    }
   ],
   "source": [
    "data = [[12327, 'New York'], [17129, 'LA'], [19923, 'San Francisco']]\n",
    "df = pd.DataFrame(data, columns= ['Sales', 'City'])\n",
    "df"
   ]
  },
  {
   "cell_type": "code",
   "execution_count": 4,
   "metadata": {},
   "outputs": [
    {
     "data": {
      "image/png": "[encoded data removed]",
      "text/plain": [
       "<Figure size 432x288 with 1 Axes>"
      ]
     },
     "metadata": {
      "needs_background": "light"
     },
     "output_type": "display_data"
    }
   ],
   "source": [
    "plt.bar(df.City, df.Sales)\n",
    "plt.show();"
   ]
  },
  {
   "cell_type": "code",
   "execution_count": 6,
   "metadata": {},
   "outputs": [
    {
     "data": {
      "text/html": [
       "<div>\n",
       "<style scoped>\n",
       "    .dataframe tbody tr th:only-of-type {\n",
       "        vertical-align: middle;\n",
       "    }\n",
       "\n",
       "    .dataframe tbody tr th {\n",
       "        vertical-align: top;\n",
       "    }\n",
       "\n",
       "    .dataframe thead th {\n",
       "        text-align: right;\n",
       "    }\n",
       "</style>\n",
       "<table border=\"1\" class=\"dataframe\">\n",
       "  <thead>\n",
       "    <tr style=\"text-align: right;\">\n",
       "      <th></th>\n",
       "      <th>Sales</th>\n",
       "      <th>City</th>\n",
       "      <th>relative_frequency</th>\n",
       "    </tr>\n",
       "  </thead>\n",
       "  <tbody>\n",
       "    <tr>\n",
       "      <th>0</th>\n",
       "      <td>12327</td>\n",
       "      <td>New York</td>\n",
       "      <td>0.249641</td>\n",
       "    </tr>\n",
       "    <tr>\n",
       "      <th>1</th>\n",
       "      <td>17129</td>\n",
       "      <td>LA</td>\n",
       "      <td>0.346888</td>\n",
       "    </tr>\n",
       "    <tr>\n",
       "      <th>2</th>\n",
       "      <td>19923</td>\n",
       "      <td>San Francisco</td>\n",
       "      <td>0.403471</td>\n",
       "    </tr>\n",
       "  </tbody>\n",
       "</table>\n",
       "</div>"
      ],
      "text/plain": [
       "   Sales           City  relative_frequency\n",
       "0  12327       New York            0.249641\n",
       "1  17129             LA            0.346888\n",
       "2  19923  San Francisco            0.403471"
      ]
     },
     "execution_count": 6,
     "metadata": {},
     "output_type": "execute_result"
    }
   ],
   "source": [
    "df['relative_frequency'] = [n/sum(df.Sales) for n in df.Sales]\n",
    "df"
   ]
  },
  {
   "cell_type": "code",
   "execution_count": 8,
   "metadata": {},
   "outputs": [
    {
     "data": {
      "image/png": "[encoded data removed]",
      "text/plain": [
       "<Figure size 432x288 with 1 Axes>"
      ]
     },
     "metadata": {},
     "output_type": "display_data"
    }
   ],
   "source": [
    "fig1, ax1 = plt.subplots()\n",
    "\n",
    "ax1.pie(df.relative_frequency, labels = df.City, autopct='%1.1f%%')\n",
    "ax1.axis('equal')\n",
    "plt.show();"
   ]
  },
  {
   "cell_type": "markdown",
   "metadata": {},
   "source": [
    "COMPLETED PART 2 CATEGORICAL VARIABLE VISUALIZATION TECHNIQUES EXERCISES\n",
    "August 14, 2021"
   ]
  },
  {
   "cell_type": "markdown",
   "metadata": {},
   "source": [
    "NUMERICAL VARIABLES FREQUENCY DISTRIBUTION TABLE EXERCISE"
   ]
  },
  {
   "cell_type": "code",
   "execution_count": 28,
   "metadata": {},
   "outputs": [
    {
     "data": {
      "text/html": [
       "<div>\n",
       "<style scoped>\n",
       "    .dataframe tbody tr th:only-of-type {\n",
       "        vertical-align: middle;\n",
       "    }\n",
       "\n",
       "    .dataframe tbody tr th {\n",
       "        vertical-align: top;\n",
       "    }\n",
       "\n",
       "    .dataframe thead th {\n",
       "        text-align: right;\n",
       "    }\n",
       "</style>\n",
       "<table border=\"1\" class=\"dataframe\">\n",
       "  <thead>\n",
       "    <tr style=\"text-align: right;\">\n",
       "      <th></th>\n",
       "      <th>numbers</th>\n",
       "    </tr>\n",
       "  </thead>\n",
       "  <tbody>\n",
       "    <tr>\n",
       "      <th>0</th>\n",
       "      <td>8</td>\n",
       "    </tr>\n",
       "    <tr>\n",
       "      <th>1</th>\n",
       "      <td>30</td>\n",
       "    </tr>\n",
       "    <tr>\n",
       "      <th>2</th>\n",
       "      <td>30</td>\n",
       "    </tr>\n",
       "    <tr>\n",
       "      <th>3</th>\n",
       "      <td>54</td>\n",
       "    </tr>\n",
       "    <tr>\n",
       "      <th>4</th>\n",
       "      <td>86</td>\n",
       "    </tr>\n",
       "    <tr>\n",
       "      <th>5</th>\n",
       "      <td>94</td>\n",
       "    </tr>\n",
       "    <tr>\n",
       "      <th>6</th>\n",
       "      <td>102</td>\n",
       "    </tr>\n",
       "    <tr>\n",
       "      <th>7</th>\n",
       "      <td>110</td>\n",
       "    </tr>\n",
       "    <tr>\n",
       "      <th>8</th>\n",
       "      <td>169</td>\n",
       "    </tr>\n",
       "    <tr>\n",
       "      <th>9</th>\n",
       "      <td>170</td>\n",
       "    </tr>\n",
       "    <tr>\n",
       "      <th>10</th>\n",
       "      <td>176</td>\n",
       "    </tr>\n",
       "    <tr>\n",
       "      <th>11</th>\n",
       "      <td>236</td>\n",
       "    </tr>\n",
       "    <tr>\n",
       "      <th>12</th>\n",
       "      <td>240</td>\n",
       "    </tr>\n",
       "    <tr>\n",
       "      <th>13</th>\n",
       "      <td>241</td>\n",
       "    </tr>\n",
       "    <tr>\n",
       "      <th>14</th>\n",
       "      <td>242</td>\n",
       "    </tr>\n",
       "    <tr>\n",
       "      <th>15</th>\n",
       "      <td>255</td>\n",
       "    </tr>\n",
       "    <tr>\n",
       "      <th>16</th>\n",
       "      <td>262</td>\n",
       "    </tr>\n",
       "    <tr>\n",
       "      <th>17</th>\n",
       "      <td>276</td>\n",
       "    </tr>\n",
       "    <tr>\n",
       "      <th>18</th>\n",
       "      <td>279</td>\n",
       "    </tr>\n",
       "    <tr>\n",
       "      <th>19</th>\n",
       "      <td>282</td>\n",
       "    </tr>\n",
       "  </tbody>\n",
       "</table>\n",
       "</div>"
      ],
      "text/plain": [
       "    numbers\n",
       "0         8\n",
       "1        30\n",
       "2        30\n",
       "3        54\n",
       "4        86\n",
       "5        94\n",
       "6       102\n",
       "7       110\n",
       "8       169\n",
       "9       170\n",
       "10      176\n",
       "11      236\n",
       "12      240\n",
       "13      241\n",
       "14      242\n",
       "15      255\n",
       "16      262\n",
       "17      276\n",
       "18      279\n",
       "19      282"
      ]
     },
     "execution_count": 28,
     "metadata": {},
     "output_type": "execute_result"
    }
   ],
   "source": [
    "data1 = [8, 30, 30, 54, 86, 94, 102, 110, 169, 170, 176, 236, 240, 241, 242, 255, 262, 276, 279, 282]\n",
    "df1 = pd.DataFrame(data1, columns = ['numbers'])\n",
    "df1"
   ]
  },
  {
   "cell_type": "code",
   "execution_count": 29,
   "metadata": {},
   "outputs": [
    {
     "data": {
      "text/plain": [
       "46.0"
      ]
     },
     "execution_count": 29,
     "metadata": {},
     "output_type": "execute_result"
    }
   ],
   "source": [
    "intervals1 = round((np.max(df1.numbers) - np.min(df1.numbers)) / 6)\n",
    "intervals1"
   ]
  },
  {
   "cell_type": "code",
   "execution_count": 30,
   "metadata": {},
   "outputs": [
    {
     "data": {
      "text/plain": [
       "[0, 1, 2, 3, 4, 5]"
      ]
     },
     "execution_count": 30,
     "metadata": {},
     "output_type": "execute_result"
    }
   ],
   "source": [
    "list(range(0, 6))"
   ]
  },
  {
   "cell_type": "code",
   "execution_count": 31,
   "metadata": {},
   "outputs": [
    {
     "data": {
      "text/plain": [
       "[1, 48, 95, 142, 189, 236]"
      ]
     },
     "execution_count": 31,
     "metadata": {},
     "output_type": "execute_result"
    }
   ],
   "source": [
    "beginning_interval = [1]\n",
    "for n in list(range(0, 5)):\n",
    "    beginning_interval.append(beginning_interval[-1] + 47)\n",
    "beginning_interval"
   ]
  },
  {
   "cell_type": "code",
   "execution_count": 32,
   "metadata": {},
   "outputs": [
    {
     "data": {
      "text/html": [
       "<div>\n",
       "<style scoped>\n",
       "    .dataframe tbody tr th:only-of-type {\n",
       "        vertical-align: middle;\n",
       "    }\n",
       "\n",
       "    .dataframe tbody tr th {\n",
       "        vertical-align: top;\n",
       "    }\n",
       "\n",
       "    .dataframe thead th {\n",
       "        text-align: right;\n",
       "    }\n",
       "</style>\n",
       "<table border=\"1\" class=\"dataframe\">\n",
       "  <thead>\n",
       "    <tr style=\"text-align: right;\">\n",
       "      <th></th>\n",
       "      <th>beginning_interval</th>\n",
       "    </tr>\n",
       "  </thead>\n",
       "  <tbody>\n",
       "    <tr>\n",
       "      <th>0</th>\n",
       "      <td>1</td>\n",
       "    </tr>\n",
       "    <tr>\n",
       "      <th>1</th>\n",
       "      <td>48</td>\n",
       "    </tr>\n",
       "    <tr>\n",
       "      <th>2</th>\n",
       "      <td>95</td>\n",
       "    </tr>\n",
       "    <tr>\n",
       "      <th>3</th>\n",
       "      <td>142</td>\n",
       "    </tr>\n",
       "    <tr>\n",
       "      <th>4</th>\n",
       "      <td>189</td>\n",
       "    </tr>\n",
       "    <tr>\n",
       "      <th>5</th>\n",
       "      <td>236</td>\n",
       "    </tr>\n",
       "  </tbody>\n",
       "</table>\n",
       "</div>"
      ],
      "text/plain": [
       "   beginning_interval\n",
       "0                   1\n",
       "1                  48\n",
       "2                  95\n",
       "3                 142\n",
       "4                 189\n",
       "5                 236"
      ]
     },
     "execution_count": 32,
     "metadata": {},
     "output_type": "execute_result"
    }
   ],
   "source": [
    "df1a = pd.DataFrame(beginning_interval, columns = ['beginning_interval'])\n",
    "df1a"
   ]
  },
  {
   "cell_type": "code",
   "execution_count": 33,
   "metadata": {},
   "outputs": [
    {
     "data": {
      "text/html": [
       "<div>\n",
       "<style scoped>\n",
       "    .dataframe tbody tr th:only-of-type {\n",
       "        vertical-align: middle;\n",
       "    }\n",
       "\n",
       "    .dataframe tbody tr th {\n",
       "        vertical-align: top;\n",
       "    }\n",
       "\n",
       "    .dataframe thead th {\n",
       "        text-align: right;\n",
       "    }\n",
       "</style>\n",
       "<table border=\"1\" class=\"dataframe\">\n",
       "  <thead>\n",
       "    <tr style=\"text-align: right;\">\n",
       "      <th></th>\n",
       "      <th>beginning_interval</th>\n",
       "      <th>ending_interval</th>\n",
       "    </tr>\n",
       "  </thead>\n",
       "  <tbody>\n",
       "    <tr>\n",
       "      <th>0</th>\n",
       "      <td>1</td>\n",
       "      <td>47</td>\n",
       "    </tr>\n",
       "    <tr>\n",
       "      <th>1</th>\n",
       "      <td>48</td>\n",
       "      <td>94</td>\n",
       "    </tr>\n",
       "    <tr>\n",
       "      <th>2</th>\n",
       "      <td>95</td>\n",
       "      <td>141</td>\n",
       "    </tr>\n",
       "    <tr>\n",
       "      <th>3</th>\n",
       "      <td>142</td>\n",
       "      <td>188</td>\n",
       "    </tr>\n",
       "    <tr>\n",
       "      <th>4</th>\n",
       "      <td>189</td>\n",
       "      <td>235</td>\n",
       "    </tr>\n",
       "    <tr>\n",
       "      <th>5</th>\n",
       "      <td>236</td>\n",
       "      <td>282</td>\n",
       "    </tr>\n",
       "  </tbody>\n",
       "</table>\n",
       "</div>"
      ],
      "text/plain": [
       "   beginning_interval  ending_interval\n",
       "0                   1               47\n",
       "1                  48               94\n",
       "2                  95              141\n",
       "3                 142              188\n",
       "4                 189              235\n",
       "5                 236              282"
      ]
     },
     "execution_count": 33,
     "metadata": {},
     "output_type": "execute_result"
    }
   ],
   "source": [
    "df1a['ending_interval'] = [n + 46 for n in df1a.beginning_interval]\n",
    "df1a"
   ]
  },
  {
   "cell_type": "code",
   "execution_count": 34,
   "metadata": {},
   "outputs": [
    {
     "data": {
      "text/plain": [
       "[0, 1, 2, 3, 4, 5]"
      ]
     },
     "execution_count": 34,
     "metadata": {},
     "output_type": "execute_result"
    }
   ],
   "source": [
    "list(range(0, len(df1a)))"
   ]
  },
  {
   "cell_type": "code",
   "execution_count": 36,
   "metadata": {},
   "outputs": [
    {
     "data": {
      "text/html": [
       "<div>\n",
       "<style scoped>\n",
       "    .dataframe tbody tr th:only-of-type {\n",
       "        vertical-align: middle;\n",
       "    }\n",
       "\n",
       "    .dataframe tbody tr th {\n",
       "        vertical-align: top;\n",
       "    }\n",
       "\n",
       "    .dataframe thead th {\n",
       "        text-align: right;\n",
       "    }\n",
       "</style>\n",
       "<table border=\"1\" class=\"dataframe\">\n",
       "  <thead>\n",
       "    <tr style=\"text-align: right;\">\n",
       "      <th></th>\n",
       "      <th>beginning_interval</th>\n",
       "      <th>ending_interval</th>\n",
       "      <th>frequency</th>\n",
       "    </tr>\n",
       "  </thead>\n",
       "  <tbody>\n",
       "    <tr>\n",
       "      <th>0</th>\n",
       "      <td>1</td>\n",
       "      <td>47</td>\n",
       "      <td>3</td>\n",
       "    </tr>\n",
       "    <tr>\n",
       "      <th>1</th>\n",
       "      <td>48</td>\n",
       "      <td>94</td>\n",
       "      <td>3</td>\n",
       "    </tr>\n",
       "    <tr>\n",
       "      <th>2</th>\n",
       "      <td>95</td>\n",
       "      <td>141</td>\n",
       "      <td>2</td>\n",
       "    </tr>\n",
       "    <tr>\n",
       "      <th>3</th>\n",
       "      <td>142</td>\n",
       "      <td>188</td>\n",
       "      <td>3</td>\n",
       "    </tr>\n",
       "    <tr>\n",
       "      <th>4</th>\n",
       "      <td>189</td>\n",
       "      <td>235</td>\n",
       "      <td>0</td>\n",
       "    </tr>\n",
       "    <tr>\n",
       "      <th>5</th>\n",
       "      <td>236</td>\n",
       "      <td>282</td>\n",
       "      <td>9</td>\n",
       "    </tr>\n",
       "  </tbody>\n",
       "</table>\n",
       "</div>"
      ],
      "text/plain": [
       "   beginning_interval  ending_interval  frequency\n",
       "0                   1               47          3\n",
       "1                  48               94          3\n",
       "2                  95              141          2\n",
       "3                 142              188          3\n",
       "4                 189              235          0\n",
       "5                 236              282          9"
      ]
     },
     "execution_count": 36,
     "metadata": {},
     "output_type": "execute_result"
    }
   ],
   "source": [
    "df1a['frequency'] = 0\n",
    "for n in df1.numbers:\n",
    "    if n >= 1 and n <= 47:\n",
    "        df1a.at[0, 'frequency'] +=1\n",
    "    elif n>= 48 and n <= 94:\n",
    "        df1a.at[1, 'frequency'] +=1\n",
    "    elif n>= 95 and n <= 141:\n",
    "        df1a.at[2, 'frequency'] +=1 \n",
    "    elif n>= 142 and n <= 188:\n",
    "        df1a.at[3, 'frequency'] +=1\n",
    "    elif n>= 189 and n <= 235:\n",
    "        df1a.at[4, 'frequency'] +=1\n",
    "    else:\n",
    "        df1a.at[5, 'frequency'] +=1\n",
    "df1a"
   ]
  },
  {
   "cell_type": "code",
   "execution_count": 39,
   "metadata": {},
   "outputs": [
    {
     "data": {
      "text/html": [
       "<div>\n",
       "<style scoped>\n",
       "    .dataframe tbody tr th:only-of-type {\n",
       "        vertical-align: middle;\n",
       "    }\n",
       "\n",
       "    .dataframe tbody tr th {\n",
       "        vertical-align: top;\n",
       "    }\n",
       "\n",
       "    .dataframe thead th {\n",
       "        text-align: right;\n",
       "    }\n",
       "</style>\n",
       "<table border=\"1\" class=\"dataframe\">\n",
       "  <thead>\n",
       "    <tr style=\"text-align: right;\">\n",
       "      <th></th>\n",
       "      <th>beginning_interval</th>\n",
       "      <th>ending_interval</th>\n",
       "      <th>frequency</th>\n",
       "      <th>relative_frequency</th>\n",
       "    </tr>\n",
       "  </thead>\n",
       "  <tbody>\n",
       "    <tr>\n",
       "      <th>0</th>\n",
       "      <td>1</td>\n",
       "      <td>47</td>\n",
       "      <td>3</td>\n",
       "      <td>0.15</td>\n",
       "    </tr>\n",
       "    <tr>\n",
       "      <th>1</th>\n",
       "      <td>48</td>\n",
       "      <td>94</td>\n",
       "      <td>3</td>\n",
       "      <td>0.15</td>\n",
       "    </tr>\n",
       "    <tr>\n",
       "      <th>2</th>\n",
       "      <td>95</td>\n",
       "      <td>141</td>\n",
       "      <td>2</td>\n",
       "      <td>0.10</td>\n",
       "    </tr>\n",
       "    <tr>\n",
       "      <th>3</th>\n",
       "      <td>142</td>\n",
       "      <td>188</td>\n",
       "      <td>3</td>\n",
       "      <td>0.15</td>\n",
       "    </tr>\n",
       "    <tr>\n",
       "      <th>4</th>\n",
       "      <td>189</td>\n",
       "      <td>235</td>\n",
       "      <td>0</td>\n",
       "      <td>0.00</td>\n",
       "    </tr>\n",
       "    <tr>\n",
       "      <th>5</th>\n",
       "      <td>236</td>\n",
       "      <td>282</td>\n",
       "      <td>9</td>\n",
       "      <td>0.45</td>\n",
       "    </tr>\n",
       "  </tbody>\n",
       "</table>\n",
       "</div>"
      ],
      "text/plain": [
       "   beginning_interval  ending_interval  frequency  relative_frequency\n",
       "0                   1               47          3                0.15\n",
       "1                  48               94          3                0.15\n",
       "2                  95              141          2                0.10\n",
       "3                 142              188          3                0.15\n",
       "4                 189              235          0                0.00\n",
       "5                 236              282          9                0.45"
      ]
     },
     "execution_count": 39,
     "metadata": {},
     "output_type": "execute_result"
    }
   ],
   "source": [
    "df1a['relative_frequency'] = [n/sum(df1a.frequency) for n in df1a.frequency]\n",
    "df1a"
   ]
  },
  {
   "cell_type": "markdown",
   "metadata": {},
   "source": [
    "COMPLETED August 15, 2021"
   ]
  },
  {
   "cell_type": "markdown",
   "metadata": {},
   "source": [
    "HISTOGRAM EXERCISE"
   ]
  },
  {
   "cell_type": "code",
   "execution_count": 1,
   "metadata": {},
   "outputs": [],
   "source": [
    "data2 = [15, 68, 165, 193, 216, 228, 361, 470, 500, 529, 544, 602, 647, 692, 696, 699, 809, 892, 899, 936]"
   ]
  },
  {
   "cell_type": "code",
   "execution_count": 3,
   "metadata": {},
   "outputs": [
    {
     "data": {
      "text/html": [
       "<div>\n",
       "<style scoped>\n",
       "    .dataframe tbody tr th:only-of-type {\n",
       "        vertical-align: middle;\n",
       "    }\n",
       "\n",
       "    .dataframe tbody tr th {\n",
       "        vertical-align: top;\n",
       "    }\n",
       "\n",
       "    .dataframe thead th {\n",
       "        text-align: right;\n",
       "    }\n",
       "</style>\n",
       "<table border=\"1\" class=\"dataframe\">\n",
       "  <thead>\n",
       "    <tr style=\"text-align: right;\">\n",
       "      <th></th>\n",
       "      <th>numbers</th>\n",
       "    </tr>\n",
       "  </thead>\n",
       "  <tbody>\n",
       "    <tr>\n",
       "      <th>0</th>\n",
       "      <td>15</td>\n",
       "    </tr>\n",
       "    <tr>\n",
       "      <th>1</th>\n",
       "      <td>68</td>\n",
       "    </tr>\n",
       "    <tr>\n",
       "      <th>2</th>\n",
       "      <td>165</td>\n",
       "    </tr>\n",
       "    <tr>\n",
       "      <th>3</th>\n",
       "      <td>193</td>\n",
       "    </tr>\n",
       "    <tr>\n",
       "      <th>4</th>\n",
       "      <td>216</td>\n",
       "    </tr>\n",
       "    <tr>\n",
       "      <th>5</th>\n",
       "      <td>228</td>\n",
       "    </tr>\n",
       "    <tr>\n",
       "      <th>6</th>\n",
       "      <td>361</td>\n",
       "    </tr>\n",
       "    <tr>\n",
       "      <th>7</th>\n",
       "      <td>470</td>\n",
       "    </tr>\n",
       "    <tr>\n",
       "      <th>8</th>\n",
       "      <td>500</td>\n",
       "    </tr>\n",
       "    <tr>\n",
       "      <th>9</th>\n",
       "      <td>529</td>\n",
       "    </tr>\n",
       "    <tr>\n",
       "      <th>10</th>\n",
       "      <td>544</td>\n",
       "    </tr>\n",
       "    <tr>\n",
       "      <th>11</th>\n",
       "      <td>602</td>\n",
       "    </tr>\n",
       "    <tr>\n",
       "      <th>12</th>\n",
       "      <td>647</td>\n",
       "    </tr>\n",
       "    <tr>\n",
       "      <th>13</th>\n",
       "      <td>692</td>\n",
       "    </tr>\n",
       "    <tr>\n",
       "      <th>14</th>\n",
       "      <td>696</td>\n",
       "    </tr>\n",
       "    <tr>\n",
       "      <th>15</th>\n",
       "      <td>699</td>\n",
       "    </tr>\n",
       "    <tr>\n",
       "      <th>16</th>\n",
       "      <td>809</td>\n",
       "    </tr>\n",
       "    <tr>\n",
       "      <th>17</th>\n",
       "      <td>892</td>\n",
       "    </tr>\n",
       "    <tr>\n",
       "      <th>18</th>\n",
       "      <td>899</td>\n",
       "    </tr>\n",
       "    <tr>\n",
       "      <th>19</th>\n",
       "      <td>936</td>\n",
       "    </tr>\n",
       "  </tbody>\n",
       "</table>\n",
       "</div>"
      ],
      "text/plain": [
       "    numbers\n",
       "0        15\n",
       "1        68\n",
       "2       165\n",
       "3       193\n",
       "4       216\n",
       "5       228\n",
       "6       361\n",
       "7       470\n",
       "8       500\n",
       "9       529\n",
       "10      544\n",
       "11      602\n",
       "12      647\n",
       "13      692\n",
       "14      696\n",
       "15      699\n",
       "16      809\n",
       "17      892\n",
       "18      899\n",
       "19      936"
      ]
     },
     "execution_count": 3,
     "metadata": {},
     "output_type": "execute_result"
    }
   ],
   "source": [
    "df2 = pd.DataFrame(data2, columns = ['numbers'])\n",
    "df2"
   ]
  },
  {
   "cell_type": "code",
   "execution_count": 6,
   "metadata": {},
   "outputs": [
    {
     "data": {
      "image/png": "[encoded data removed]",
      "text/plain": [
       "<Figure size 432x288 with 1 Axes>"
      ]
     },
     "metadata": {
      "needs_background": "light"
     },
     "output_type": "display_data"
    }
   ],
   "source": [
    "df2.hist(bins = 10);"
   ]
  },
  {
   "cell_type": "markdown",
   "metadata": {},
   "source": [
    "COMPLETED AUGUST 16, 2021"
   ]
  },
  {
   "cell_type": "markdown",
   "metadata": {},
   "source": [
    "Mean, Median, and Mode Exercise"
   ]
  },
  {
   "cell_type": "code",
   "execution_count": 2,
   "metadata": {},
   "outputs": [],
   "source": [
    "annual_income = [62000, 64000, 49000, 324000, 1264000, 54330, 64000, 51000, 55000, 48000, 53000]"
   ]
  },
  {
   "cell_type": "code",
   "execution_count": 4,
   "metadata": {},
   "outputs": [
    {
     "data": {
      "text/plain": [
       "189848.18181818182"
      ]
     },
     "execution_count": 4,
     "metadata": {},
     "output_type": "execute_result"
    }
   ],
   "source": [
    "np.mean(annual_income)"
   ]
  },
  {
   "cell_type": "code",
   "execution_count": 5,
   "metadata": {},
   "outputs": [
    {
     "data": {
      "text/plain": [
       "55000.0"
      ]
     },
     "execution_count": 5,
     "metadata": {},
     "output_type": "execute_result"
    }
   ],
   "source": [
    "np.median(annual_income)"
   ]
  },
  {
   "cell_type": "code",
   "execution_count": 10,
   "metadata": {},
   "outputs": [
    {
     "data": {
      "text/plain": [
       "ModeResult(mode=array([64000]), count=array([2]))"
      ]
     },
     "execution_count": 10,
     "metadata": {},
     "output_type": "execute_result"
    }
   ],
   "source": [
    "stats.mode(annual_income)"
   ]
  },
  {
   "cell_type": "markdown",
   "metadata": {},
   "source": [
    "From the median, mean, and mode we can intepret that the median income of the sample is 55000. There are some extreme outliers for those incredibly wealthy that throw off the mean calculation to be higher than it should be."
   ]
  },
  {
   "cell_type": "markdown",
   "metadata": {},
   "source": [
    "COMPLETED August 21, 2021"
   ]
  },
  {
   "cell_type": "markdown",
   "metadata": {},
   "source": [
    "Skewness Exercise"
   ]
  },
  {
   "cell_type": "code",
   "execution_count": 3,
   "metadata": {},
   "outputs": [
    {
     "data": {
      "image/png": "[encoded data removed]",
      "text/plain": [
       "<Figure size 432x288 with 1 Axes>"
      ]
     },
     "metadata": {
      "needs_background": "light"
     },
     "output_type": "display_data"
    }
   ],
   "source": [
    "skew_data1 = [212, 869, 220, 654, 511, 624, 420, 121, 428, 865, 799, 405, 230, 670, 870, 366, 99, 55, 489, 312, \n",
    "              493, 163, 221, 84, 144, 48, 375, 86, 168, 100]\n",
    "plt.hist(skew_data1)\n",
    "plt.show()"
   ]
  },
  {
   "cell_type": "markdown",
   "metadata": {},
   "source": [
    "There is a positive skew."
   ]
  },
  {
   "cell_type": "code",
   "execution_count": 5,
   "metadata": {},
   "outputs": [
    {
     "data": {
      "image/png": "[encoded data removed]",
      "text/plain": [
       "<Figure size 432x288 with 1 Axes>"
      ]
     },
     "metadata": {
      "needs_background": "light"
     },
     "output_type": "display_data"
    }
   ],
   "source": [
    "skew_data2 = [586, 760, 495, 678, 559, 415, 370, 659, 119, 288, 241, 787, 522, 207, 160, 526, 656, 848, 720, 676,\n",
    "              581, 929, 653, 661, 770, 800, 529, 975, 995, 947]\n",
    "plt.hist(skew_data2)\n",
    "plt.show()"
   ]
  },
  {
   "cell_type": "markdown",
   "metadata": {},
   "source": [
    "There is a slight negative skew."
   ]
  },
  {
   "cell_type": "markdown",
   "metadata": {},
   "source": [
    "COMPLETED August 21, 2021"
   ]
  },
  {
   "cell_type": "markdown",
   "metadata": {},
   "source": [
    "VARIANCE EXERCISE"
   ]
  },
  {
   "cell_type": "code",
   "execution_count": 4,
   "metadata": {},
   "outputs": [
    {
     "name": "stdout",
     "output_type": "stream",
     "text": [
      "133433409536.36362\n"
     ]
    }
   ],
   "source": [
    "# Task 1: Due to annual_income being a small sample of incomes of USA residents, the sample variance formula\n",
    "# should be used\n",
    "\n",
    "# Task 2:\n",
    "error_squared = []\n",
    "for income in annual_income:\n",
    "    error_squared.append((income - np.mean(annual_income))**2)\n",
    "variance_squared = np.sum(error_squared)/ (len(annual_income)-1)\n",
    "print(variance)\n",
    "\n",
    "#Task 3: The is a large variance of incomes between different individuals in the USA."
   ]
  },
  {
   "cell_type": "markdown",
   "metadata": {},
   "source": [
    "COMPLETED August 22, 2021"
   ]
  },
  {
   "cell_type": "markdown",
   "metadata": {},
   "source": [
    "STANDARD DEVIATION AND COEFFICIENT OF VARIATION EXERCISE"
   ]
  },
  {
   "cell_type": "code",
   "execution_count": 4,
   "metadata": {},
   "outputs": [
    {
     "name": "stdout",
     "output_type": "stream",
     "text": [
      "365285.38095078483 1.9240920874289384 45809.91722492684 0.09072530929304154\n"
     ]
    }
   ],
   "source": [
    "# TASK 1: Do you have to use the sample formula or the population formula. Answer: Sample, there are only 11 \n",
    "# observations for each country.\n",
    "\n",
    "# TASK 2: Calculate Standard Deviation of income in the US and Denmark\n",
    "\n",
    "us_mean = 189848.18\n",
    "us_variance = 133433409536.36\n",
    "us_stdev = math.sqrt(us_variance)\n",
    "us_coeff = us_stdev / us_mean\n",
    "\n",
    "denmark_income_data = [462852.37, 470317.73, 567367.42, 589763.50, 500179.17, 492713.81, 515109.89, \n",
    "                       507644.53, 425525.56, 522575.25, 500179.17]\n",
    "denmark_mean = np.mean(denmark_income_data)\n",
    "denmark_error_squared = []\n",
    "for income in denmark_income_data:\n",
    "    denmark_error_squared.append((income - np.mean(denmark_income_data))**2)\n",
    "denmark_variance = np.sum(denmark_error_squared)/ (len(denmark_income_data)-1)\n",
    "denmark_stdev = math.sqrt(denmark_variance)\n",
    "denmark_coeff = denmark_stdev/denmark_mean\n",
    "\n",
    "print(us_stdev, us_coeff, denmark_stdev, denmark_coeff)"
   ]
  },
  {
   "cell_type": "code",
   "execution_count": 5,
   "metadata": {},
   "outputs": [],
   "source": [
    "# TASK 4: Try to interpret the numbers you got\n",
    "# Answer: The standard deviation does not tell us much in comparison due to differences in currency values.\n",
    "# The coefficients of variation tell us that the sample from Denmark has much closer incomes than the US sample."
   ]
  },
  {
   "cell_type": "markdown",
   "metadata": {},
   "source": [
    "COMPLETED August 28, 2021"
   ]
  },
  {
   "cell_type": "markdown",
   "metadata": {},
   "source": [
    "COVARIANCE EXERCISE"
   ]
  },
  {
   "cell_type": "code",
   "execution_count": 2,
   "metadata": {},
   "outputs": [
    {
     "name": "stdout",
     "output_type": "stream",
     "text": [
      "21155.55\n"
     ]
    }
   ],
   "source": [
    "writing_scores = [344, 383, 611, 713, 536]\n",
    "reading_scores = [378, 349, 503, 719, 503]\n",
    "# TASK 1: Determine if this is a sample or population. ANSWER: Sample\n",
    "# TASK 2: Calculate the covariance of the two datasets\n",
    "writing_mean = statistics.mean(writing_scores)\n",
    "reading_mean = statistics.mean(reading_scores)\n",
    "covar_st1 = [(writing_scores[i] - writing_mean) * (reading_scores[i] - reading_mean) for i in range(len(writing_scores))]\n",
    "covariance = np.sum(covar_st1) / (len(covar_st1) - 1)\n",
    "print(covariance)"
   ]
  },
  {
   "cell_type": "code",
   "execution_count": 3,
   "metadata": {},
   "outputs": [
    {
     "data": {
      "image/png": "[encoded data removed]",
      "text/plain": [
       "<Figure size 432x288 with 1 Axes>"
      ]
     },
     "metadata": {
      "needs_background": "light"
     },
     "output_type": "display_data"
    }
   ],
   "source": [
    "# TASK 3: Plot the data on a scatter plot and using your previous knowledge comment on whether there is a\n",
    "# noticeable relationship between the two variables.\n",
    "\n",
    "plt.scatter(writing_scores, reading_scores)\n",
    "plt.show();"
   ]
  },
  {
   "cell_type": "code",
   "execution_count": 4,
   "metadata": {},
   "outputs": [],
   "source": [
    "# Answer: There is a noticeable relatioship between the two variables. When one does well in one section, they are\n",
    "# likely to do well in the other."
   ]
  },
  {
   "cell_type": "markdown",
   "metadata": {},
   "source": [
    "COMPLETED AUGUST 28, 2021"
   ]
  },
  {
   "cell_type": "markdown",
   "metadata": {},
   "source": [
    "CORRELATION EXERCISE"
   ]
  },
  {
   "cell_type": "code",
   "execution_count": 5,
   "metadata": {},
   "outputs": [
    {
     "name": "stdout",
     "output_type": "stream",
     "text": [
      "0.938125713331758\n"
     ]
    }
   ],
   "source": [
    "# TASK !: Calculate the correlation coefficient of the two SAT datasets\n",
    "writing_stdev = statistics.stdev(writing_scores)\n",
    "reading_stdev = statistics.stdev(reading_scores)\n",
    "correlation = covariance / (writing_stdev * reading_stdev)\n",
    "print(correlation)"
   ]
  },
  {
   "cell_type": "code",
   "execution_count": 6,
   "metadata": {},
   "outputs": [],
   "source": [
    "# TASK 2: Comment on the strength of the correlation between the variables\n",
    "# ANSWER: There is a strong correlation between the reading and writing scores in the sample of SAT scores."
   ]
  },
  {
   "cell_type": "markdown",
   "metadata": {},
   "source": [
    "COMPLETED August 28, 2021"
   ]
  },
  {
   "cell_type": "markdown",
   "metadata": {},
   "source": [
    "PRACTICAL EXAMPLE DESCRIPTIVE STATISTICS EXERCISE"
   ]
  },
  {
   "cell_type": "code",
   "execution_count": 3,
   "metadata": {},
   "outputs": [],
   "source": [
    "# TASK 1: What are the types of data and the levels of measurement of the following variables: \n",
    "# Cust ID, Mortgage, Year of sale\n",
    "\n",
    "# Customer ID -> Categorical: numerals with no mathematical meaning\n",
    "# Mortgage -> Categorical: Yes or No answer\n",
    "# Year of Sale -> Numerical: Discrete, year that sale was made and only year so no continuous measurement can be \n",
    "# made"
   ]
  },
  {
   "cell_type": "code",
   "execution_count": 1,
   "metadata": {},
   "outputs": [],
   "source": [
    "# TASK 2:  Create a frequency distribution graph representing the price (that is a histogram with the highest \n",
    "# possible number of bins - 272). Use data on all apartments and offices, no matter if sold or not.\n",
    "\n",
    "housing_price = [246172.68, 246331.90, 209280.91, 452667.01, 467083.31, 203491.85, 212520.83, 198591.85, \n",
    "                 265467.68, 235633.26, 317473.86, 503790.23, 217786.38, 460001.26, 460001.26, 448134.27, \n",
    "                 249591.99, 196142.19, 258572.48, 310831.21, 207281.59, 168834.04, 396973.83, 188743.11, \n",
    "                 179674.08, 306363.64, 200300.63, 382041.13, 245572.79, 407214.29, 355073.40, 256821.64, \n",
    "                 226342.80, 191389.87, 297008.97, 250773.15, 312211.14, 190119.50, 225050.52, 261742.74, \n",
    "                 344530.89, 215410.28, 252185.99, 480545.81, 300385.62, 240539.35, 222138.72, 228410.05, \n",
    "                 197053.51, 193660.62, 237060.15, 372001.70, 290031.26, 238811.06, 199054.20, 496266.41, \n",
    "                 346906.89, 376964.62, 315733.15, 188273.73, 253831.02, 278575.87, 402081.80, 310832.59, \n",
    "                 257183.48, 326885.34, 344568.74, 214631.68, 237207.68, 464549.19, 310577.04, 205098.21, \n",
    "                 248525.12, 224463.87, 220606.28, 220865.00, 338181.18, 432679.91, 196220.05, 323915.81, \n",
    "                 200719.02, 380809.52, 213942.56, 207581.43, 241671.52, 336695.25, 171262.65, 299159.14, \n",
    "                 212265.67, 388515.14, 263790.81, 367976.46, 243052.59, 269075.30, 223577.32, 198075.99, \n",
    "                 354553.23, 456919.46, 233142.80, 225401.62, 195153.16, 206631.81, 358525.59, 223917.34, \n",
    "                 201518.89, 269278.57, 204808.16, 306878.46, 275394.25, 192092.24, 165430.28, 310223.29, \n",
    "                 231552.33, 215774.28, 289727.99, 195874.94, 357538.20, 239248.75, 382277.15, 248422.66, \n",
    "                 242740.66, 253025.78, 234172.39, 200678.75, 226578.51, 200148.89, 218585.92, 198841.70, \n",
    "                 252927.84, 225290.22, 234750.59, 287466.41, 229464.71, 377313.56, 276759.18, 219373.41, \n",
    "                 230216.22, 410932.67, 214341.34, 248274.31, 390494.27, 293876.27, 204286.67, 230154.53, \n",
    "                 228170.03, 205085.40, 177555.06, 217748.48, 247739.44, 484458.03, 356506.37, 197869.36, \n",
    "                 236608.95, 208930.81, 263123.42, 286433.57, 229581.78, 252053.03, 244820.67, 241620.48, \n",
    "                 235762.34, 236639.56, 294807.65, 293828.69, 412856.56, 224076.84, 258015.61, 153466.71, \n",
    "                 261871.70, 210038.70, 210824.06, 249075.66, 219865.76, 204292.49, 261579.89, 222867.42, \n",
    "                 291494.36, 296483.14, 532877.38, 117564.07, 317196.40, 264142.16, 222947.21, 250312.53, \n",
    "                 246050.40, 529317.28, 169158.29, 206958.71, 206445.42, 239341.58, 398903.42, 210745.17, \n",
    "                 331154.88, 204434.68, 189194.31, 204027.09, 400865.92, 217787.71, 219630.90, 244624.87, \n",
    "                 163162.88, 401302.82, 538271.74, 461464.99, 275812.49, 216552.71, 495570.44, 388656.81, \n",
    "                 495024.09, 526947.16, 427236.10, 327044.37, 385447.69, 401894.82, 264275.78, 231348.93, \n",
    "                 264238.95, 217357.63, 482404.31, 228937.90, 498994.03, 256376.28, 255243.11, 506786.66, \n",
    "                 233172.49, 233834.00, 523373.45, 228872.91, 208655.67, 322952.56, 216826.00, 298730.40, \n",
    "                 230495.01, 346048.04, 377043.60, 413761.71, 212644.39, 250415.38, 219252.89, 264011.70, \n",
    "                 211406.87, 396330.29, 227072.88, 276323.87, 230943.38, 315382.11, 372016.56, 237680.88, \n",
    "                 234032.88, 273165.58, 271227.49, 349865.22, 199730.73, 338482.45, 351304.58, 338472.13, \n",
    "                 212916.36, 308660.80, 147343.69, 448574.67, 255337.90, 175773.59, 322610.74, 279191.26, \n",
    "                 287996.53, 365868.78, 199216.40]"
   ]
  },
  {
   "cell_type": "code",
   "execution_count": 5,
   "metadata": {},
   "outputs": [
    {
     "data": {
      "image/png": "[encoded data removed]",
      "text/plain": [
       "<Figure size 432x288 with 1 Axes>"
      ]
     },
     "metadata": {
      "needs_background": "light"
     },
     "output_type": "display_data"
    }
   ],
   "source": [
    "plt.hist(housing_price, bins = 272)\n",
    "plt.show();"
   ]
  },
  {
   "cell_type": "code",
   "execution_count": 6,
   "metadata": {},
   "outputs": [
    {
     "data": {
      "image/png": "[encoded data removed]",
      "text/plain": [
       "<Figure size 432x288 with 1 Axes>"
      ]
     },
     "metadata": {
      "needs_background": "light"
     },
     "output_type": "display_data"
    }
   ],
   "source": [
    "# TASK 3: Create a histogram which represents the Price variable. Choose interval width (bins) of length \n",
    "# $100,000. If you don't know how to do that, refer to the Course notes on descriptive statistics provided with\n",
    "# the first lecture in this section. Use the data on all properties, no matter if sold or not.\n",
    "plt.hist(housing_price, bins = 5)\n",
    "plt.show();"
   ]
  },
  {
   "cell_type": "code",
   "execution_count": 7,
   "metadata": {},
   "outputs": [],
   "source": [
    "# TASK 4: Interpret the results.\n",
    "# ANSWER: The majority of house prices are between 217,000 and 317,000. There is a right skew to the data."
   ]
  },
  {
   "cell_type": "code",
   "execution_count": 5,
   "metadata": {},
   "outputs": [],
   "source": [
    "# TASK 5: Create a scatter plot showing the relationship between Price and Area. Use the data on all properties, \n",
    "# no matter if sold or not. Interpret the results.\n",
    "housing_area = [743.09, 756.21, 587.28, 1604.75, 1375.45, 675.19, 670.89, 720.81, 782.25, 794.52, 1160.36, \n",
    "                1942.50, 794.52, 1109.25, 1400.95, 1479.72, 790.54, 723.93, 781.07, 1127.76, 720.70, 649.69, \n",
    "                1307.45, 618.38, 625.80, 1203.29, 670.89, 1434.09, 781.07, 1596.35, 1110.32, 781.07, 697.89, \n",
    "                625.80, 957.53, 722.96, 923.21, 670.24, 785.48, 798.28, 1121.95, 782.25, 923.21, 1434.09, \n",
    "                1160.36, 798.28, 733.19, 798.28, 733.19, 717.05, 747.50, 1121.95, 1121.95, 827.87, 747.50, \n",
    "                1608.84, 1132.06, 1383.84, 927.83, 669.16, 928.16, 798.50, 1305.62, 1121.95, 785.48, 927.08, \n",
    "                1109.25, 649.80, 785.48, 1596.35, 1121.95, 743.41, 756.21, 649.80, 785.48, 785.48, 1283.45, \n",
    "                1434.09, 782.25, 1288.62, 781.07, 1222.34, 781.07, 743.09, 785.48, 1109.25, 579.75, 1128.40, \n",
    "                701.66, 1336.93, 794.52, 1171.55, 794.52, 798.28, 798.28, 649.80, 1137.44, 1604.75, 675.19, \n",
    "                649.69, 785.48, 781.07, 1127.76, 794.52, 794.52, 781.07, 720.81, 927.83, 927.83, 785.48, 618.16,\n",
    "                1109.25, 720.70, 720.81, 927.08, 798.28, 1057.92, 781.07, 1396.86, 794.52, 923.21, 781.07, \n",
    "                782.25, 733.19, 733.19, 794.52, 756.21, 736.63, 785.48, 781.07, 798.28, 798.28, 827.87, 1160.36,\n",
    "                827.87, 723.83, 798.28, 1238.58, 723.83, 977.87, 1093.00, 927.83, 701.66, 680.57, 723.93, 649.80,\n",
    "                649.80, 785.48, 785.48, 1615.29, 1132.06, 720.38, 733.19, 782.25, 798.28, 1057.92, 723.83, 798.28,\n",
    "                794.52, 794.52, 782.25, 785.48, 923.21, 923.21, 1434.09, 782.25, 781.07, 618.38, 923.21, 781.07, \n",
    "                781.07, 781.07, 697.89, 670.89, 782.25, 743.41, 923.21, 923.21, 1769.48, 410.71, 1200.82, 800.96,\n",
    "                827.87, 775.69, 775.69, 1604.75, 587.28, 756.21, 743.09, 827.87, 1160.36, 743.09, 1160.36, 625.80,\n",
    "                756.21, 625.80, 1238.58, 713.71, 763.21, 798.50, 618.38, 1479.72, 1603.99, 1615.29, 784.19, \n",
    "                720.38, 1596.35, 1121.95, 1596.35, 1596.35, 1273.88, 966.57, 1357.16, 1343.39, 758.69, 789.25, \n",
    "                789.25, 733.19, 1611.85, 789.25, 1611.85, 789.25, 794.52, 1611.85, 789.25, 794.52, 1611.85, \n",
    "                789.25, 794.52, 1111.72, 785.48, 1058.25, 791.72, 1068.58, 1325.31, 1273.88, 798.50, 798.50, \n",
    "                798.50, 1058.25, 618.16, 1273.88, 798.50, 798.50, 798.50, 1058.25, 1273.55, 798.50, 798.50, \n",
    "                798.28, 1057.92, 1273.55, 618.16, 1273.55, 1057.92, 1273.55, 798.28, 1057.92, 606.33, 1273.55, \n",
    "                798.28, 598.58, 1238.58, 794.52, 1013.27, 1074.71, 789.25]"
   ]
  },
  {
   "cell_type": "code",
   "execution_count": 9,
   "metadata": {},
   "outputs": [
    {
     "data": {
      "image/png": "[encoded data removed]",
      "text/plain": [
       "<Figure size 432x288 with 1 Axes>"
      ]
     },
     "metadata": {
      "needs_background": "light"
     },
     "output_type": "display_data"
    }
   ],
   "source": [
    "plt.scatter(housing_price, housing_area)\n",
    "plt.show();"
   ]
  },
  {
   "cell_type": "code",
   "execution_count": 10,
   "metadata": {},
   "outputs": [],
   "source": [
    "# There is a clear relationship between the square footage of the property and its price."
   ]
  },
  {
   "cell_type": "code",
   "execution_count": 2,
   "metadata": {},
   "outputs": [
    {
     "data": {
      "text/html": [
       "<div>\n",
       "<style scoped>\n",
       "    .dataframe tbody tr th:only-of-type {\n",
       "        vertical-align: middle;\n",
       "    }\n",
       "\n",
       "    .dataframe tbody tr th {\n",
       "        vertical-align: top;\n",
       "    }\n",
       "\n",
       "    .dataframe thead th {\n",
       "        text-align: right;\n",
       "    }\n",
       "</style>\n",
       "<table border=\"1\" class=\"dataframe\">\n",
       "  <thead>\n",
       "    <tr style=\"text-align: right;\">\n",
       "      <th></th>\n",
       "      <th>countries</th>\n",
       "      <th>absolute_frequency</th>\n",
       "      <th>relative_frequency</th>\n",
       "      <th>cumulative_frequency</th>\n",
       "    </tr>\n",
       "  </thead>\n",
       "  <tbody>\n",
       "    <tr>\n",
       "      <th>0</th>\n",
       "      <td>USA</td>\n",
       "      <td>177</td>\n",
       "      <td>0.91</td>\n",
       "      <td>0.91</td>\n",
       "    </tr>\n",
       "    <tr>\n",
       "      <th>1</th>\n",
       "      <td>UK</td>\n",
       "      <td>2</td>\n",
       "      <td>0.01</td>\n",
       "      <td>0.92</td>\n",
       "    </tr>\n",
       "    <tr>\n",
       "      <th>2</th>\n",
       "      <td>Belgium</td>\n",
       "      <td>2</td>\n",
       "      <td>0.01</td>\n",
       "      <td>0.93</td>\n",
       "    </tr>\n",
       "    <tr>\n",
       "      <th>3</th>\n",
       "      <td>Russia</td>\n",
       "      <td>4</td>\n",
       "      <td>0.02</td>\n",
       "      <td>0.95</td>\n",
       "    </tr>\n",
       "    <tr>\n",
       "      <th>4</th>\n",
       "      <td>Denmark</td>\n",
       "      <td>1</td>\n",
       "      <td>0.01</td>\n",
       "      <td>0.96</td>\n",
       "    </tr>\n",
       "    <tr>\n",
       "      <th>5</th>\n",
       "      <td>Germany</td>\n",
       "      <td>1</td>\n",
       "      <td>0.01</td>\n",
       "      <td>0.97</td>\n",
       "    </tr>\n",
       "    <tr>\n",
       "      <th>6</th>\n",
       "      <td>Mexico</td>\n",
       "      <td>1</td>\n",
       "      <td>0.01</td>\n",
       "      <td>0.98</td>\n",
       "    </tr>\n",
       "    <tr>\n",
       "      <th>7</th>\n",
       "      <td>Canada</td>\n",
       "      <td>7</td>\n",
       "      <td>0.04</td>\n",
       "      <td>1.02</td>\n",
       "    </tr>\n",
       "  </tbody>\n",
       "</table>\n",
       "</div>"
      ],
      "text/plain": [
       "  countries  absolute_frequency  relative_frequency  cumulative_frequency\n",
       "0       USA                 177                0.91                  0.91\n",
       "1        UK                   2                0.01                  0.92\n",
       "2   Belgium                   2                0.01                  0.93\n",
       "3    Russia                   4                0.02                  0.95\n",
       "4   Denmark                   1                0.01                  0.96\n",
       "5   Germany                   1                0.01                  0.97\n",
       "6    Mexico                   1                0.01                  0.98\n",
       "7    Canada                   7                0.04                  1.02"
      ]
     },
     "execution_count": 2,
     "metadata": {},
     "output_type": "execute_result"
    }
   ],
   "source": [
    "# Task 6: Task 6: Create a frequency distribution table, where you list all the countries from which the company \n",
    "# has buyers (country vs number of buyers). Count the absolute frequency, the relative frequency and the \n",
    "# cumulative frequency. \n",
    "\n",
    "descriptive_data = [['USA', 177, 0.91, 0.91], ['UK', 2, 0.01, 0.92], ['Belgium', 2, 0.01, 0.93], ['Russia', 4, 0.02, 0.95], \n",
    "                    ['Denmark', 1, 0.01, 0.96], ['Germany', 1, 0.01, 0.97], ['Mexico', 1, 0.01, 0.98], \n",
    "                    ['Canada', 7, 0.04, 1.02]]\n",
    "descriptive_df = pd.DataFrame(descriptive_data, columns = ['countries', 'absolute_frequency', 'relative_frequency', 'cumulative_frequency'])\n",
    "descriptive_df"
   ]
  },
  {
   "cell_type": "code",
   "execution_count": 3,
   "metadata": {},
   "outputs": [],
   "source": [
    "# Task 7: Create a Pareto Diagram representing the data.\n",
    "# Completed in Excel spreadsheet"
   ]
  },
  {
   "cell_type": "code",
   "execution_count": 3,
   "metadata": {},
   "outputs": [
    {
     "name": "stdout",
     "output_type": "stream",
     "text": [
      "281171.9013857678 249075.66 460001.26 1.089847910711828 7942217728.650508 89119.12100470082\n"
     ]
    }
   ],
   "source": [
    "# Task 8: Calculate the mean, median, mode, skewness, variance and standard deviation of Price for all \n",
    "# properties, no matter if sold or not.\n",
    "\n",
    "mean_hp = statistics.mean(housing_price)\n",
    "median_hp = statistics.median(housing_price)\n",
    "mode_hp = statistics.mode(housing_price)\n",
    "skewness_hp = stats.skew(housing_price)\n",
    "variance_hp = statistics.variance(housing_price)\n",
    "st_dev_hp = statistics.stdev(housing_price)\n",
    "\n",
    "print(mean_hp, median_hp, mode_hp, skewness_hp, variance_hp, st_dev_hp)"
   ]
  },
  {
   "cell_type": "code",
   "execution_count": 4,
   "metadata": {},
   "outputs": [],
   "source": [
    "# Task 9: Interpret the measures.\n",
    "# The mean and median are slightly different with the mean being higher. This means that there are outliers that\n",
    "# are increasing the mean. This follos the measure of a positive skew. There is a standard deviation of $89,000."
   ]
  },
  {
   "cell_type": "code",
   "execution_count": 6,
   "metadata": {},
   "outputs": [
    {
     "name": "stdout",
     "output_type": "stream",
     "text": [
      "24147707.289082766 0.9510873336790353\n"
     ]
    }
   ],
   "source": [
    "# Task 10: Calculate the covariance and correlation coefficient between Price and Area, no matter if the property\n",
    "# is sold or not. Is the result in line with the scatter plot?\n",
    "mean_ha = statistics.mean(housing_area)\n",
    "descriptive_covar_st1 = [(housing_price[i] - mean_hp) * (housing_area[i] - mean_ha) for i in range(len(housing_price))]\n",
    "descriptive_covariance = np.sum(descriptive_covar_st1) / (len(descriptive_covar_st1) - 1)\n",
    "\n",
    "st_dev_ha = statistics.stdev(housing_area)\n",
    "descriptive_correlation = descriptive_covariance / (st_dev_ha * st_dev_hp)\n",
    "print(descriptive_covariance, descriptive_correlation)"
   ]
  },
  {
   "cell_type": "code",
   "execution_count": 7,
   "metadata": {},
   "outputs": [],
   "source": [
    "# The result is inline with the scatter plot\n",
    "\n",
    "# COMPLETED EXERCISE Sept. 4 2021"
   ]
  },
  {
   "cell_type": "markdown",
   "metadata": {},
   "source": [
    "Standard Normal Distribution Exercise"
   ]
  },
  {
   "cell_type": "code",
   "execution_count": 2,
   "metadata": {},
   "outputs": [
    {
     "name": "stdout",
     "output_type": "stream",
     "text": [
      "743.027 73.9531720872888\n"
     ]
    }
   ],
   "source": [
    "# Task 1: Calculate the mean and standard deviation of the dataset\n",
    "\n",
    "data_3_4 = [567.45, 572.45, 572.45, 589.12, 613.87, 615.78, 628.45, 644.87, 650.45, 652.20, 656.87, 661.45, \n",
    "            666.45, 667.70, 668.95, 675.28, 675.78, 685.53, 694.28, 697.62, 705.78, 705.87, 708.12, 711.03, \n",
    "            714.03, 716.03, 722.28, 728.12, 728.70, 729.03, 730.12, 731.95, 735.03, 736.95, 737.37, 738.28, \n",
    "            739.78, 740.62, 743.62, 747.20, 748.20, 748.28, 748.53, 750.03, 752.12, 754.70, 755.03, 758.37, \n",
    "            760.53, 764.03, 769.28, 775.45, 781.20, 781.70, 785.62, 792.78, 793.37, 795.28, 797.62, 798.95, \n",
    "            799.70, 799.95, 810.87, 811.53, 813.62, 814.03, 814.78, 817.87, 818.87, 820.70, 821.12, 825.62, \n",
    "            828.62, 841.45, 842.03, 842.87, 849.62, 874.70, 878.78, 897.45]\n",
    "mean_3_4 = statistics.mean(data_3_4)\n",
    "stdev_3_4 = statistics.stdev(data_3_4)\n",
    "print(mean_3_4, stdev_3_4)"
   ]
  },
  {
   "cell_type": "code",
   "execution_count": 3,
   "metadata": {
    "scrolled": true
   },
   "outputs": [
    {
     "data": {
      "text/plain": [
       "[-2.374164556359557,\n",
       " -2.3065542043100415,\n",
       " -2.3065542043100415,\n",
       " -2.0811412905769573,\n",
       " -1.7464700479318556,\n",
       " -1.720642893448941,\n",
       " -1.5493182613554677,\n",
       " -1.3272858652248594,\n",
       " -1.2518327123375994,\n",
       " -1.228169089120269,\n",
       " -1.165021020306022,\n",
       " -1.1030899378286654,\n",
       " -1.03547958577915,\n",
       " -1.018576997766771,\n",
       " -1.0016744097543921,\n",
       " -0.9160797040597064,\n",
       " -0.9093186688547549,\n",
       " -0.7774784823581996,\n",
       " -0.6591603662715475,\n",
       " -0.6139966511024707,\n",
       " -0.5036565565576618,\n",
       " -0.5024395702207701,\n",
       " -0.4720149117984881,\n",
       " -0.43266568690567053,\n",
       " -0.3920994756759612,\n",
       " -0.365055334856155,\n",
       " -0.28054239479426063,\n",
       " -0.20157350360042608,\n",
       " -0.19373070276268173,\n",
       " -0.1892684195274147,\n",
       " -0.17452936278061987,\n",
       " -0.14978397393049664,\n",
       " -0.10813599706799606,\n",
       " -0.08217362188098112,\n",
       " -0.07649435230882237,\n",
       " -0.06418926823581099,\n",
       " -0.043906162620956334,\n",
       " -0.0325476234766373,\n",
       " 0.008018587753072012,\n",
       " 0.05642759982052567,\n",
       " 0.06994967023042878,\n",
       " 0.07103143586322004,\n",
       " 0.07441195346569582,\n",
       " 0.09469505908055047,\n",
       " 0.12295618623724838,\n",
       " 0.15784312789479893,\n",
       " 0.16230541113006597,\n",
       " 0.20746912629914277,\n",
       " 0.23667679838453304,\n",
       " 0.2840040448191939,\n",
       " 0.3549949144711852,\n",
       " 0.4384260889002883,\n",
       " 0.5161779937572312,\n",
       " 0.5229390289621827,\n",
       " 0.5759455449690023,\n",
       " 0.6727635691039081,\n",
       " 0.6807415906457513,\n",
       " 0.7065687451286659,\n",
       " 0.7382103898878395,\n",
       " 0.7561947435330112,\n",
       " 0.7663362963404385,\n",
       " 0.7697168139429144,\n",
       " 0.9173778228190557,\n",
       " 0.9263023892895913,\n",
       " 0.9545635164462891,\n",
       " 0.960107565314349,\n",
       " 0.9702491181217764,\n",
       " 1.0120323156883773,\n",
       " 1.0255543860982805,\n",
       " 1.0502997749484038,\n",
       " 1.0559790445205623,\n",
       " 1.1168283613651264,\n",
       " 1.1573945725948358,\n",
       " 1.330882735953893,\n",
       " 1.338725536791636,\n",
       " 1.350084075935955,\n",
       " 1.4413580512028008,\n",
       " 1.7804915770831713,\n",
       " 1.8356616243555748,\n",
       " 2.088118678908467]"
      ]
     },
     "execution_count": 3,
     "metadata": {},
     "output_type": "execute_result"
    }
   ],
   "source": [
    "# Task 2: Standardize the dataset\n",
    "\n",
    "data_3_4_standardized = [(x-mean_3_4)/stdev_3_4 for x in data_3_4]\n",
    "data_3_4_standardized"
   ]
  },
  {
   "cell_type": "code",
   "execution_count": 6,
   "metadata": {},
   "outputs": [
    {
     "data": {
      "image/png": "[encoded data removed]",
      "text/plain": [
       "<Figure size 432x288 with 1 Axes>"
      ]
     },
     "metadata": {
      "needs_background": "light"
     },
     "output_type": "display_data"
    }
   ],
   "source": [
    "# Task 3: Plot the data on a graph to see the change\n",
    "\n",
    "plt.hist(data_3_4_standardized, bins = 6)\n",
    "plt.show();"
   ]
  },
  {
   "cell_type": "markdown",
   "metadata": {},
   "source": [
    "COMPLETED September 4, 2021"
   ]
  },
  {
   "cell_type": "markdown",
   "metadata": {},
   "source": [
    "Z-Score Exercise"
   ]
  },
  {
   "cell_type": "code",
   "execution_count": 2,
   "metadata": {},
   "outputs": [
    {
     "name": "stdout",
     "output_type": "stream",
     "text": [
      "100200.36666666667 2738.6127875258308\n"
     ]
    }
   ],
   "source": [
    "# Task 1: Calculate the mean and the standard error (Population St Dev = $15,000)\n",
    "\n",
    "data_3_9 = [117313, 104002, 113038, 101936, 84560, 113136, 80740, 100536, 105052, 87201, 91986, 94868, 90745, \n",
    "            102848, 85927, 112276, 108637, 96818, 92307, 114564, 109714, 108833, 115295, 89279, 81720, 89344, \n",
    "            114426, 90410, 95118, 113382]\n",
    "mean_3_9 = statistics.mean(data_3_9)\n",
    "sterr_3_9 = 15000 / np.sqrt(len(data_3_9))\n",
    "print(mean_3_9, sterr_3_9)"
   ]
  },
  {
   "cell_type": "code",
   "execution_count": 3,
   "metadata": {},
   "outputs": [],
   "source": [
    "# Task 2: Find the appropriate z-score for calculating a 90% confidence interval\n",
    "\n",
    "# 90% mean an alpha = 0.1, thus we are looking for the z_score from 1 - .1/2 or .95.\n",
    "# Using the z-table, the Z-Score = 1.65"
   ]
  },
  {
   "cell_type": "code",
   "execution_count": 4,
   "metadata": {},
   "outputs": [
    {
     "name": "stdout",
     "output_type": "stream",
     "text": [
      "[95681.65556724905, 104719.07776608429]\n"
     ]
    }
   ],
   "source": [
    "# Task 3: Find the 90% confidence interval\n",
    "\n",
    "CI_3_9 = [mean_3_9 - (1.65 * sterr_3_9), mean_3_9 + (1.65 * sterr_3_9)]\n",
    "print(CI_3_9)"
   ]
  },
  {
   "cell_type": "markdown",
   "metadata": {},
   "source": [
    "COMPLETED Z-Score Exercise September 4, 2021"
   ]
  },
  {
   "cell_type": "markdown",
   "metadata": {},
   "source": [
    "T-Score Exercise"
   ]
  },
  {
   "cell_type": "code",
   "execution_count": 2,
   "metadata": {},
   "outputs": [
    {
     "name": "stdout",
     "output_type": "stream",
     "text": [
      "92533.33333333333 4643.962627852306\n"
     ]
    }
   ],
   "source": [
    "# Task 1: Calculate the mean and the standard error of the dataset\n",
    "\n",
    "data_3_11 = [78000, 90000, 75000, 117000, 105000, 96000, 89500, 102300, 80000]\n",
    "mean_3_11 = statistics.mean(data_3_11)\n",
    "sterr_3_11 = statistics.stdev(data_3_11) / np.sqrt(len(data_3_11))\n",
    "print(mean_3_11, sterr_3_11)"
   ]
  },
  {
   "cell_type": "code",
   "execution_count": 3,
   "metadata": {},
   "outputs": [],
   "source": [
    "# Task 2: Determine which statistic to use for inference\n",
    "\n",
    "# Due to there only being 9 observations and the unknown population variance: the t-statistic should be used."
   ]
  },
  {
   "cell_type": "code",
   "execution_count": 4,
   "metadata": {},
   "outputs": [],
   "source": [
    "# Task 3: Find the appropriate statistic, taking into consideration the degrees of freedom (if applicable)\n",
    "# for 99% confidence\n",
    "\n",
    "# Using the t-table: 3.355"
   ]
  },
  {
   "cell_type": "code",
   "execution_count": 5,
   "metadata": {},
   "outputs": [
    {
     "name": "stdout",
     "output_type": "stream",
     "text": [
      "[76952.83871688884, 108113.82794977781]\n"
     ]
    }
   ],
   "source": [
    "# Task 4: Find the 99% confidence interval\n",
    "\n",
    "CI_3_11 = [mean_3_11 - (3.355 * sterr_3_11), mean_3_11 + (3.355 * sterr_3_11)]\n",
    "print(CI_3_11)"
   ]
  },
  {
   "cell_type": "markdown",
   "metadata": {},
   "source": [
    "COMPLETED T-Statistic Exercise September 4, 2021"
   ]
  },
  {
   "cell_type": "markdown",
   "metadata": {},
   "source": [
    "DEPENDENT SAMPLES EXERCISE"
   ]
  },
  {
   "cell_type": "code",
   "execution_count": 2,
   "metadata": {},
   "outputs": [
    {
     "name": "stdout",
     "output_type": "stream",
     "text": [
      "-20.023 6.858291089379822\n"
     ]
    }
   ],
   "source": [
    "# Task 1: Calculate the mean and standard deviation of the dataset\n",
    "\n",
    "data_3_13 = [-23.83, -20.06, -29.52, -12.28, -10.41, -13.51, -18.25, -18.03, -24.47, -29.87]\n",
    "mean_3_13 = statistics.mean(data_3_13)\n",
    "stdev_3_13 = statistics.stdev(data_3_13)\n",
    "print(mean_3_13, stdev_3_13)"
   ]
  },
  {
   "cell_type": "code",
   "execution_count": 3,
   "metadata": {},
   "outputs": [],
   "source": [
    "# Task 2: Determine the appropriate statistic to use\n",
    "\n",
    "# There are only 10 samples, so the t-statistic should be used."
   ]
  },
  {
   "cell_type": "code",
   "execution_count": 4,
   "metadata": {},
   "outputs": [
    {
     "name": "stdout",
     "output_type": "stream",
     "text": [
      "[-24.92878504208613, -15.11721495791387]\n"
     ]
    }
   ],
   "source": [
    "# Task 3: Calculate the 95% confidence interval\n",
    "\n",
    "# T-Statistic(95%, 9 degrees of freedom) = 2.262 (using t_table)\n",
    "\n",
    "ci_3_13 = [mean_3_13 - 2.262 * (stdev_3_13 / np.sqrt(10)), mean_3_13 + 2.262 * (stdev_3_13 / np.sqrt(10))]\n",
    "print(ci_3_13)"
   ]
  },
  {
   "cell_type": "code",
   "execution_count": 5,
   "metadata": {},
   "outputs": [],
   "source": [
    "# Task 4: Interpret the result\n",
    "\n",
    "# With a 95% CI, we can say that people will lose between 15 to 25 pounds using this program."
   ]
  },
  {
   "cell_type": "markdown",
   "metadata": {},
   "source": [
    "COMPLETED DEPENDENT SAMPLES EXERCISE Sept. 5, 2021"
   ]
  },
  {
   "cell_type": "markdown",
   "metadata": {},
   "source": [
    "INDEPENDENT SAMPLES EXERCISE PART 1"
   ]
  },
  {
   "cell_type": "code",
   "execution_count": 3,
   "metadata": {},
   "outputs": [
    {
     "name": "stdout",
     "output_type": "stream",
     "text": [
      "(-10.005609042155303, -3.9943909578446974)\n"
     ]
    }
   ],
   "source": [
    "# Task 1: Calculate the 99% confidence interval (Engineering vs Management students)\n",
    "\n",
    "sample_e_3_14 = 100\n",
    "sample_m_3_14 = 70\n",
    "s_mean_diff_3_14 = -7\n",
    "stdev_e_3_14 = 10\n",
    "stdev_m_3_14 = 5\n",
    "zstat_3_14 = 2.58\n",
    "\n",
    "ci_3_14 = (s_mean_diff_3_14 - (zstat_3_14 * np.sqrt(((stdev_e_3_14 ** 2) / sample_e_3_14) + ((stdev_m_3_14 ** 2) / sample_m_3_14))), \n",
    "           s_mean_diff_3_14 + (zstat_3_14 * np.sqrt(((stdev_e_3_14 ** 2) / sample_e_3_14) + ((stdev_m_3_14 ** 2) / sample_m_3_14))))\n",
    "print(ci_3_14)"
   ]
  },
  {
   "cell_type": "code",
   "execution_count": 4,
   "metadata": {},
   "outputs": [],
   "source": [
    "# Task 2: Compare it to the 95% confidence interval from the lesson\n",
    "\n",
    "# 95% CI = (-9.28, -4.72)\n",
    "# The higher confidence requires a wider interval."
   ]
  },
  {
   "cell_type": "markdown",
   "metadata": {},
   "source": [
    "COMPLETED INDEPENDENT SAMPLES EXERCISE PART 1 September 8th, 2021"
   ]
  },
  {
   "cell_type": "markdown",
   "metadata": {},
   "source": [
    "INDEPENDENT SAMPLES PART 2 EXERCISE"
   ]
  },
  {
   "cell_type": "code",
   "execution_count": 2,
   "metadata": {},
   "outputs": [
    {
     "name": "stdout",
     "output_type": "stream",
     "text": [
      "(0.5100129638373615, 0.881987036162638)\n"
     ]
    }
   ],
   "source": [
    "# Task 1: Calculate the 90% confidence interval\n",
    "\n",
    "ny_3_15 = [3.80, 3.76, 3.87, 3.99, 4.02, 4.25, 4.13, 3.98, 3.99, 3.62]\n",
    "la_3_15 = [3.02, 3.22, 3.24, 3.02, 3.06, 3.15, 3.81, 3.44]\n",
    "\n",
    "ny_mean_3_15 = statistics.mean(ny_3_15)\n",
    "la_mean_3_15 = statistics.mean(la_3_15)\n",
    "ny_stdev_3_15 = statistics.stdev(ny_3_15)\n",
    "la_stdev_3_15 = statistics.stdev(la_3_15)\n",
    "ny_size_3_15 = len(ny_3_15)\n",
    "la_size_3_15 = len(la_3_15)\n",
    "\n",
    "pooled_variance_3_15 = ((ny_size_3_15 - 1) * ny_stdev_3_15**2 + (la_size_3_15 - 1) * la_stdev_3_15**2) / (ny_size_3_15 + la_size_3_15 - 2)\n",
    "pooled_stdev_3_15 = np.sqrt(pooled_variance_3_15)\n",
    "\n",
    "tstat_90 = 1.746 # Found in t-table\n",
    "ci_90_3_15 = ((ny_mean_3_15 - la_mean_3_15) - tstat_90 * np.sqrt((pooled_variance_3_15 / ny_size_3_15) + (pooled_variance_3_15 / la_size_3_15)), \n",
    "              (ny_mean_3_15 - la_mean_3_15) + tstat_90 * np.sqrt((pooled_variance_3_15 / ny_size_3_15) + (pooled_variance_3_15 / la_size_3_15)))\n",
    "print(ci_90_3_15)"
   ]
  },
  {
   "cell_type": "code",
   "execution_count": 3,
   "metadata": {},
   "outputs": [],
   "source": [
    "# Task 2: Compare the result with the 95% confidence interval from the lesson\n",
    "\n",
    "# CI95% = (0.47, 0.92)\n",
    "# The confidence interval at 90% is smaller than the confidence interval at 95%, due to being less confident."
   ]
  },
  {
   "cell_type": "markdown",
   "metadata": {},
   "source": [
    "COMPLETED INDEPENDENT SAMPLES PART 2 EXERCISE September 8th, 2021"
   ]
  },
  {
   "cell_type": "markdown",
   "metadata": {},
   "source": [
    "CONFIDENCE INTERVALS PRACTICAL EXAMPLE"
   ]
  },
  {
   "cell_type": "code",
   "execution_count": 3,
   "metadata": {},
   "outputs": [
    {
     "name": "stdout",
     "output_type": "stream",
     "text": [
      "[(1.36309, 2.97691), (0.87654, 2.2834600000000003), (0.62654, 2.0334600000000003), (1.48171, 3.17829), (3.5486000000000004, 6.0314), (5.9351400000000005, 9.82486), (13.723059999999998, 18.93694), (21.917869999999997, 29.24213), (16.03823, 21.54177), (12.849620000000002, 17.07038), (6.05032, 9.029679999999999), (4.12998, 6.53002), (1.8799800000000002, 4.28002), (0.67206, 1.7479399999999998), (1.3393000000000002, 2.5806999999999998), (0.14689000000000002, 0.9331100000000001), (0.0, 0.0)]\n"
     ]
    }
   ],
   "source": [
    "# TASK 1: Calculate the confidence intervals for men shoes sales in the USA, this time based on a bigger \n",
    "# sample - 2015-2016. \n",
    "\n",
    "# Work Completed in excel\n",
    "\n",
    "# Each value is the mean number of shoes sold each month for different size shoes\n",
    "mean_15_to_16 = [2.17, 1.58, 1.33, 2.33, 4.79, 7.88, 16.33, 25.58, 18.79, 14.96, 7.54, 5.33, 3.08, 1.21, 1.96, \n",
    "                 0.54, 0.00]\n",
    "# Each value is the standard error for each shoe size\n",
    "sterr_15_to_16 = [0.39, 0.34, 0.34, 0.41, 0.60, 0.94, 1.26, 1.77, 1.33, 1.02, 0.72, 0.58, 0.58, 0.26, 0.30, 0.19, \n",
    "                  0.00]\n",
    "# T-Statistic (due to being a small sample) for 95% confidence with 23 degrees of freedom\n",
    "t_95_df23 = 2.069\n",
    "\n",
    "margin_error_15_to_16 = [t_95_df23 * x for x in sterr_15_to_16]\n",
    "\n",
    "CI_95_15_to_16 = [(x - y, x + y) for x, y in zip(mean_15_to_16, margin_error_15_to_16)]\n",
    "print(CI_95_15_to_16)"
   ]
  },
  {
   "cell_type": "code",
   "execution_count": 6,
   "metadata": {},
   "outputs": [
    {
     "name": "stdout",
     "output_type": "stream",
     "text": [
      "[1, 1, 1, 2, 2, 3, 4, 7, 4, 4, 3, 1, 2, 0, 1, 0, 0]\n"
     ]
    }
   ],
   "source": [
    "# TASK 2: Compare the results with the confidence intervals when the sample was based just on 2016.\n",
    "\n",
    "num_shoes_15_16 = [round(y) for x, y in CI_95_15_to_16]\n",
    "num_shoes_16 = [4, 3, 3, 5, 8, 13, 23, 36, 26, 21, 12, 8, 6, 2, 4, 1, 0]\n",
    "\n",
    "diff_num_shoes = [y-x for x, y in zip(num_shoes_15_16, num_shoes_16)]\n",
    "print(diff_num_shoes)"
   ]
  },
  {
   "cell_type": "code",
   "execution_count": 7,
   "metadata": {},
   "outputs": [],
   "source": [
    "# We can see that number of shoes that should be in stores is slightly different. While they are mostly the same,\n",
    "# there is an overestimation in the 2016 sample CI compared to the 2015-16 CI. This may be due to one year doing\n",
    "# better than another for some reason."
   ]
  },
  {
   "cell_type": "code",
   "execution_count": 4,
   "metadata": {},
   "outputs": [
    {
     "name": "stdout",
     "output_type": "stream",
     "text": [
      "[(0.0, 0.0), (-0.15, 0.83), (-0.42, 0.42), (-0.62, 0.12), (-1.0, 0.18), (-0.25, 1.41), (-1.4, 0.74), (-4.45, 0.29), (-3.81, 1.31), (-0.43, 3.25), (-1.85, 1.69), (-0.61, 1.77), (-0.62, 0.78), (-0.04, 1.54), (-1.14, 0.48)]\n"
     ]
    }
   ],
   "source": [
    "# TASK 3: Estimate the 90% confidence interval for the same task as the lesson. What changes can you see?\n",
    "\n",
    "# From the data, found the means for each shoe size in each sample\n",
    "GER1_means = [0.00, 0.42, 0.17, 0.08, 0.17, 1.83, 1.25, 3.25, 6.08, 8.08, 3.17, 2.50, 0.83, 1.25, 0.17]\n",
    "GER2_means = [0.00, 0.08, 0.17, 0.33, 0.58, 1.25, 1.58, 5.33, 7.33, 6.67, 3.25, 1.92, 0.75, 0.50, 0.50]\n",
    "# For prep in confidence interval calculations, will create a list of the differences between the two means\n",
    "GER_means = [x - y for x, y in zip(GER1_means, GER2_means)]\n",
    "# Next create two lists for the sample variances of each shoe size in both sample data sets\n",
    "GER1_sv = [0.00, 0.81, 0.33, 0.08, 0.33, 1.61, 2.02, 4.93, 12.27, 7.72, 5.06, 1.55, 0.70, 1.66, 0.33]\n",
    "GER2_sv = [0.00, 0.08, 0.33, 0.42, 0.99, 0.93, 2.27, 16.06, 12.24, 4.97, 6.57, 3.72, 1.11, 0.64, 2.09]\n",
    "# Using the t-statistic graph, find the value for 90% confidence with 22 degrees of freedom (12 + 12 - 2)\n",
    "t_statistic_90_df22 = 1.717\n",
    "# Create a list of the pooled variances using the previous sample variance lists\n",
    "GER_pooled_variance = [((11*x) + (11*y)) / 22 for x, y in zip(GER1_sv, GER2_sv)]\n",
    "# Create a list of margin of errors using the t-statistic and pooled variance. The samples are equeal in length\n",
    "# so the interior of the sqrt can be double a single calculation.\n",
    "GER_moe = [t_statistic_90_df22 * np.sqrt(2*z/11) for z in GER_pooled_variance]\n",
    "# Create a list of confidence intervals using the means difference list and margin of errors list.\n",
    "GER_CI_90 = [(round(x - y, 2), round(x + y, 2)) for x, y in zip(GER_means, GER_moe)]\n",
    "print(GER_CI_90)"
   ]
  },
  {
   "cell_type": "code",
   "execution_count": 5,
   "metadata": {},
   "outputs": [],
   "source": [
    "# The major change is the difference in CI width. The smaller confidence rating allows for a smaller confidence\n",
    "# interval. The other difference is how the 10.5 size shoe sells in on store consistantly better in one store than\n",
    "# the other. For the most part, there are no major differences in the two different stores' sales."
   ]
  },
  {
   "cell_type": "markdown",
   "metadata": {},
   "source": [
    "COMPLETED Confidence Intervals Practical Example Exercise Sept. 11, 2021"
   ]
  },
  {
   "cell_type": "markdown",
   "metadata": {},
   "source": [
    "Z-TEST EXERCISE"
   ]
  },
  {
   "cell_type": "code",
   "execution_count": 4,
   "metadata": {},
   "outputs": [
    {
     "name": "stdout",
     "output_type": "stream",
     "text": [
      "-4.673765269641137 1.65\n"
     ]
    }
   ],
   "source": [
    "# Test the null hypothesis at 10% signficance\n",
    "\n",
    "# Using data science income data\n",
    "data_4_4 = [117313, 104002, 113038, 101936, 84560, 113136, 80740, 100536, 105052, 87201, 91986, 94868, 90745, \n",
    "            102848, 85927, 112276, 108637, 96818, 92307, 114564, 109714, 108833, 115295, 89279, 81720, 89344, \n",
    "            114426, 90410, 95118, 113382]\n",
    "\n",
    "population_std_4_4 = 15000\n",
    "\n",
    "# On Glassdoor, they say that data scientists make on average $113,000. Our null hypothesis is that average \n",
    "# data scientist income is $113,000. The null hypothesis can be rejected by the z value both being lower or higher\n",
    "# than the Z-Score, thus it will be a two sided test.\n",
    "\n",
    "# The alpha value is equal 0.1. Due to being a two-sided test, the value becomes 0.05. Looking at the z-table at\n",
    "# .95\n",
    "z_4_4 = 1.65\n",
    "\n",
    "# To reject the null hypothesis, the absolute value of the Z-Score must be greater than 1.65.\n",
    "mean_4_4 = statistics.mean(data_4_4)\n",
    "st_err_4_4 = population_std_4_4 / np.sqrt(len(data_4_4))\n",
    "Z_score_4_4 = (mean_4_4 - 113000)/st_err_4_4\n",
    "print(Z_score_4_4, z_4_4)"
   ]
  },
  {
   "cell_type": "code",
   "execution_count": 5,
   "metadata": {},
   "outputs": [],
   "source": [
    "# The absolute value of the Z-Score (4.67) is greater than the z-critical 1.65. \n",
    "# We can reject the null hypothesis"
   ]
  },
  {
   "cell_type": "markdown",
   "metadata": {},
   "source": [
    "COMPLETED Z-Test Exercise Sept. 11, 2021"
   ]
  },
  {
   "cell_type": "markdown",
   "metadata": {},
   "source": [
    "TEST FOR THE MEAN, POPULATION VARIANCE UNKNOWN EXERCISE"
   ]
  },
  {
   "cell_type": "code",
   "execution_count": 1,
   "metadata": {},
   "outputs": [],
   "source": [
    "# TASK 1: What if the question was: is the competitor open rate EXACTLY 40%. What would be the decision then?\n",
    "## This is a two-tail test.\n",
    "\n",
    "# SAMPLE MEAN = 37.70%\n",
    "# SAMPLE STANDARD DEVIATION = 13.74%\n",
    "# STANDARD ERROR = 4.34%\n",
    "\n",
    "# NULL HYPOTHESIS VALUE = 40%\n",
    "# T-SCORE = -0.53\n",
    "\n",
    "# TASK 1.1: Test at 5% significance. Comment on the decision with the appropriate statistical jargon.\n",
    "## Using the t-table: There are 10 observations: degrees of freedom = 9, t = 2.262\n",
    "## 0.53 < 2.262 : so we cannot reject the null hypothesis. At a five percent significance level we cannot \n",
    "## say that the competitor's open rate is not 40%. \n",
    "\n",
    "# TASK 1.2: Test at 1% significance. Comment on the decision with the appropriate statistical jargon.\n",
    "## Using the t-table, t = 3.25.\n",
    "## As expected 0.53 < 3.25, thus we can say at a 1% significance level that the competitor's open rate is most\n",
    "## likely 40%. \n",
    "\n",
    "# TASK 1.3: Calculate the p-value of the test. Solve 1.1 and 1.2 using the p-value\n",
    "## p value = 0.602. 0.602 > 0.05 and 0.602 > 0.01. In both cases we cannot reject the null hypothesis that the \n",
    "## competitor's open rate is exactly 40%. "
   ]
  },
  {
   "cell_type": "markdown",
   "metadata": {},
   "source": [
    "COMPLETED TEST FOR MEAN, POPULATION VARIANCE UNKNOWN EXERCISE SEPT. 18, 2021"
   ]
  },
  {
   "cell_type": "markdown",
   "metadata": {},
   "source": [
    "TEST FOR THE MEAN WITH DEPENDENT SAMPLES EXERCISE"
   ]
  },
  {
   "cell_type": "code",
   "execution_count": 3,
   "metadata": {},
   "outputs": [
    {
     "name": "stdout",
     "output_type": "stream",
     "text": [
      "[-0.03, -5.06, -6.84, -0.1, -2.43, 1.49, -3.26, -3.03, -9.47, 3.66]\n"
     ]
    }
   ],
   "source": [
    "# DATA FOR EXERCISE (Weights for weight loss program)\n",
    "\n",
    "before_4_7 = [228.58, 244.01, 262.46, 224.32, 202.14, 246.98, 195.86, 231.88, 243.32, 266.74]\n",
    "after_4_7 = [228.55, 238.95, 255.62, 224.22, 199.71, 248.47, 192.60, 228.85, 233.85, 270.40]\n",
    "\n",
    "# TASK 1: Calculate the difference between before and after\n",
    "\n",
    "diff_4_7 = [round(y-x, 2) for x, y in zip(before_4_7, after_4_7)]\n",
    "print(diff_4_7)"
   ]
  },
  {
   "cell_type": "code",
   "execution_count": 4,
   "metadata": {},
   "outputs": [],
   "source": [
    "# TASK 2: State the null hypothesis.\n",
    "\n",
    "# There is no significant change in weight of the individuals using the weight loss program."
   ]
  },
  {
   "cell_type": "code",
   "execution_count": 5,
   "metadata": {},
   "outputs": [
    {
     "name": "stdout",
     "output_type": "stream",
     "text": [
      "-2.507 3.9519279401887437 1.2497093439854103 2.006066460225865\n"
     ]
    }
   ],
   "source": [
    "# TASK 3: Calculate the appropriate statistic\n",
    "## There are only 10 individuals and we don't know the population variation so the t-statistic should be used.\n",
    "\n",
    "mean_4_7 = statistics.mean(diff_4_7)\n",
    "stdev_4_7 = statistics.stdev(diff_4_7)\n",
    "sterr_4_7 = stdev_4_7 / np.sqrt(len(diff_4_7))\n",
    "\n",
    "tstat_4_7 = np.abs(mean_4_7/sterr_4_7)\n",
    "\n",
    "print(mean_4_7, stdev_4_7, sterr_4_7, tstat_4_7)"
   ]
  },
  {
   "cell_type": "code",
   "execution_count": 6,
   "metadata": {},
   "outputs": [],
   "source": [
    "# TASK 4: Decide if this is a one-sided or a two-sided test. Calculate the p-value of this statistic\n",
    "\n",
    "# Due to wanting to know if individuals are losing weight, we are only looking in one direction.\n",
    "# Thus, we should be using a one-sided test\n",
    "\n",
    "# Using an online p-value calculator suggested by the course:\n",
    "p_4_7 = 0.038"
   ]
  },
  {
   "cell_type": "code",
   "execution_count": 7,
   "metadata": {},
   "outputs": [],
   "source": [
    "# TASK 5: Based on the p-value, decide at 1%,5% and 10% significance, if the program is working. \n",
    "# Comment using the appropriate statistical jargon.\n",
    "\n",
    "# Based on the p-value, the null hypothesis can be rejected at the 10% and 5% significance levels.\n",
    "# This means at these levels, the sample is losing significant weight."
   ]
  },
  {
   "cell_type": "markdown",
   "metadata": {},
   "source": [
    "COMPLETED TEST FOR THE MEAN WITH DEPENDENT SAMPLES EXERCISE SEPT. 18, 2021"
   ]
  },
  {
   "cell_type": "markdown",
   "metadata": {},
   "source": [
    "TEST FOR THE MEAN WITH INDEPENDENT SAMLES EXERCISE"
   ]
  },
  {
   "cell_type": "code",
   "execution_count": 4,
   "metadata": {},
   "outputs": [
    {
     "name": "stdout",
     "output_type": "stream",
     "text": [
      "25.0 20.0\n"
     ]
    }
   ],
   "source": [
    "# DATA FOR EXERCISE (Two different dish detergents and how many dishes one bottle can clean)\n",
    "\n",
    "ajax_size_4_8 = 25\n",
    "ajaxplus_size_4_8 = 25\n",
    "ajax_mean_4_8 = 100\n",
    "ajaxplus_mean_4_8 = 115\n",
    "ajax_variance_4_8 = 400\n",
    "ajaxplus_variance_4_8 = 625\n",
    "\n",
    "diff_4_8 = ajaxplus_mean_4_8 - ajax_mean_4_8\n",
    "\n",
    "# TASK 1: Find the standard deviations of the two samples\n",
    "stdev_ap_4_8 = np.sqrt(ajaxplus_variance_4_8)\n",
    "stdev_a_4_8 = np.sqrt(ajax_variance_4_8)\n",
    "\n",
    "print(stdev_ap_4_8, stdev_a_4_8)"
   ]
  },
  {
   "cell_type": "code",
   "execution_count": 5,
   "metadata": {},
   "outputs": [],
   "source": [
    "# TASK 2: State the Null Hypothesis\n",
    "# The Ajax Plus dish detergent does not clean more dishes with one bottle than the normal dish detergent.\n",
    "# Hypothesized Difference = 0"
   ]
  },
  {
   "cell_type": "code",
   "execution_count": 6,
   "metadata": {},
   "outputs": [
    {
     "name": "stdout",
     "output_type": "stream",
     "text": [
      "2.342606428329091\n"
     ]
    }
   ],
   "source": [
    "# TASK 3: Determine the Z-score\n",
    "\n",
    "zscore_4_8 = (diff_4_8 - 0) / np.sqrt((ajaxplus_variance_4_8 / ajaxplus_size_4_8) + (ajax_variance_4_8 / ajax_size_4_8))\n",
    "print(zscore_4_8)"
   ]
  },
  {
   "cell_type": "code",
   "execution_count": 8,
   "metadata": {},
   "outputs": [],
   "source": [
    "# TASK 4: Find the p-value\n",
    "\n",
    "# Using the online p-value calculator the course suggested\n",
    "\n",
    "p_4_8 = 0.0096"
   ]
  },
  {
   "cell_type": "code",
   "execution_count": 10,
   "metadata": {},
   "outputs": [],
   "source": [
    "# TASK 5: Interpret the result\n",
    "\n",
    "# Using the p-value, we can reject the null hypothesis, thus saying that there is a significantly greater number \n",
    "# of dished washed using Ajax Plus than the normal detergent with a 1% signifance level."
   ]
  },
  {
   "cell_type": "markdown",
   "metadata": {},
   "source": [
    "COMPLETED TEST FOR THE MEAN WITH INDEPENDENT SAMPLES PART 1 EXERCISE SEPT. 18, 2021"
   ]
  },
  {
   "cell_type": "markdown",
   "metadata": {},
   "source": [
    "TEST FOR THE MEAN INDEPENDENT SAMPLES PART 2 Exercise"
   ]
  },
  {
   "cell_type": "code",
   "execution_count": 4,
   "metadata": {},
   "outputs": [
    {
     "name": "stdout",
     "output_type": "stream",
     "text": [
      "316978.78604651167 563.0086909156125 168.23102367156125 1.0093263198083002\n"
     ]
    }
   ],
   "source": [
    "# Background: You have data on the amount of times people click on a pop-up add on 24 Mondays and 21 Saturdays \n",
    "# on an e-learning platform for several years. The samples are drawn independently.\n",
    "\n",
    "# Task: Statistically speaking, is there strong evidence that the number of clicks the add records on Mondays \n",
    "# is higher than the number of clicks on Saturdays? \n",
    "\n",
    "monday_mean_4_9 = 1078.00\n",
    "saturday_mean_4_9 = 908.20\n",
    "monday_stdev_4_9 = 633.00\n",
    "saturday_stdev_4_9 = 469.80\n",
    "monday_size_4_9 = 24\n",
    "saturday_size_4_9 = 21\n",
    "\n",
    "pooled_variance_4_9 = (((monday_stdev_4_9**2)*23) + ((saturday_stdev_4_9**2)*20)) / 43\n",
    "pooled_stdev_4_9 = np.sqrt(pooled_variance_4_9)\n",
    "pooled_sterror_4_9 = np.sqrt((pooled_variance_4_9 / 24) + (pooled_variance_4_9 / 21))\n",
    "\n",
    "t_score_4_9 = (monday_mean_4_9 - saturday_mean_4_9) / pooled_sterror_4_9\n",
    "print(pooled_variance_4_9, pooled_stdev_4_9, pooled_sterror_4_9, t_score_4_9)"
   ]
  },
  {
   "cell_type": "code",
   "execution_count": 5,
   "metadata": {},
   "outputs": [],
   "source": [
    "# Using T-table, T-Critical at 10% Confidence is 1.303."
   ]
  },
  {
   "cell_type": "code",
   "execution_count": 1,
   "metadata": {},
   "outputs": [],
   "source": [
    "# Using online p-calculator suggested by course: P-Value = 0.16\n",
    "\n",
    "# Using the p-value and t-value, statistically speaking, there is no strong evidence that the number of clicks\n",
    "# on Monday is higher than the number of clicks on Saturdays."
   ]
  },
  {
   "cell_type": "markdown",
   "metadata": {},
   "source": [
    "COMPLETED TEST FOR THE MEAN INDEPENDENT SAMPLES PART 2 EXERCISE SEPT. 19, 2021"
   ]
  },
  {
   "cell_type": "markdown",
   "metadata": {},
   "source": [
    "HYPOTHESIS TESTING SECTION PRACTICAL EXAMPLE"
   ]
  },
  {
   "cell_type": "code",
   "execution_count": 2,
   "metadata": {},
   "outputs": [],
   "source": [
    "data_4_10 = pd.read_excel(\"../4.10.Hypothesis-testing-section-practical-example-exercise.xlsx\", sheet_name = \"Dataset\", header = 3)"
   ]
  },
  {
   "cell_type": "code",
   "execution_count": 3,
   "metadata": {},
   "outputs": [
    {
     "data": {
      "text/html": [
       "<div>\n",
       "<style scoped>\n",
       "    .dataframe tbody tr th:only-of-type {\n",
       "        vertical-align: middle;\n",
       "    }\n",
       "\n",
       "    .dataframe tbody tr th {\n",
       "        vertical-align: top;\n",
       "    }\n",
       "\n",
       "    .dataframe thead th {\n",
       "        text-align: right;\n",
       "    }\n",
       "</style>\n",
       "<table border=\"1\" class=\"dataframe\">\n",
       "  <thead>\n",
       "    <tr style=\"text-align: right;\">\n",
       "      <th></th>\n",
       "      <th>Unnamed: 0</th>\n",
       "      <th>Surname</th>\n",
       "      <th>Name</th>\n",
       "      <th>Age</th>\n",
       "      <th>Gender</th>\n",
       "      <th>Country</th>\n",
       "      <th>Ethnicity</th>\n",
       "      <th>Start_date</th>\n",
       "      <th>Department</th>\n",
       "      <th>Position</th>\n",
       "      <th>Salary</th>\n",
       "      <th>Unnamed: 11</th>\n",
       "    </tr>\n",
       "  </thead>\n",
       "  <tbody>\n",
       "    <tr>\n",
       "      <th>0</th>\n",
       "      <td>NaN</td>\n",
       "      <td>Sweetwater</td>\n",
       "      <td>Alex</td>\n",
       "      <td>51</td>\n",
       "      <td>Male</td>\n",
       "      <td>United States</td>\n",
       "      <td>White</td>\n",
       "      <td>2011-08-15</td>\n",
       "      <td>Software Engineering</td>\n",
       "      <td>Software Engineering Manager</td>\n",
       "      <td>56160.0</td>\n",
       "      <td>1</td>\n",
       "    </tr>\n",
       "    <tr>\n",
       "      <th>1</th>\n",
       "      <td>NaN</td>\n",
       "      <td>Carabbio</td>\n",
       "      <td>Judith</td>\n",
       "      <td>30</td>\n",
       "      <td>Female</td>\n",
       "      <td>United States</td>\n",
       "      <td>White</td>\n",
       "      <td>2013-11-11</td>\n",
       "      <td>Software Engineering</td>\n",
       "      <td>Software Engineer</td>\n",
       "      <td>116480.0</td>\n",
       "      <td>1</td>\n",
       "    </tr>\n",
       "    <tr>\n",
       "      <th>2</th>\n",
       "      <td>NaN</td>\n",
       "      <td>Saada</td>\n",
       "      <td>Adell</td>\n",
       "      <td>31</td>\n",
       "      <td>Female</td>\n",
       "      <td>United States</td>\n",
       "      <td>White</td>\n",
       "      <td>2012-11-05</td>\n",
       "      <td>Software Engineering</td>\n",
       "      <td>Software Engineer</td>\n",
       "      <td>102440.0</td>\n",
       "      <td>1</td>\n",
       "    </tr>\n",
       "    <tr>\n",
       "      <th>3</th>\n",
       "      <td>NaN</td>\n",
       "      <td>Szabo</td>\n",
       "      <td>Andrew</td>\n",
       "      <td>34</td>\n",
       "      <td>Male</td>\n",
       "      <td>United States</td>\n",
       "      <td>White</td>\n",
       "      <td>2014-07-07</td>\n",
       "      <td>Software Engineering</td>\n",
       "      <td>Software Engineer</td>\n",
       "      <td>99840.0</td>\n",
       "      <td>1</td>\n",
       "    </tr>\n",
       "    <tr>\n",
       "      <th>4</th>\n",
       "      <td>NaN</td>\n",
       "      <td>Andreola</td>\n",
       "      <td>Colby</td>\n",
       "      <td>38</td>\n",
       "      <td>Female</td>\n",
       "      <td>United States</td>\n",
       "      <td>White</td>\n",
       "      <td>2014-11-10</td>\n",
       "      <td>Software Engineering</td>\n",
       "      <td>Software Engineer</td>\n",
       "      <td>99008.0</td>\n",
       "      <td>1</td>\n",
       "    </tr>\n",
       "  </tbody>\n",
       "</table>\n",
       "</div>"
      ],
      "text/plain": [
       "   Unnamed: 0     Surname    Name  Age  Gender        Country Ethnicity  \\\n",
       "0         NaN  Sweetwater    Alex   51    Male  United States     White   \n",
       "1         NaN    Carabbio  Judith   30  Female  United States     White   \n",
       "2         NaN       Saada   Adell   31  Female  United States     White   \n",
       "3         NaN       Szabo  Andrew   34    Male  United States     White   \n",
       "4         NaN    Andreola   Colby   38  Female  United States     White   \n",
       "\n",
       "  Start_date                 Department                      Position  \\\n",
       "0 2011-08-15  Software Engineering       Software Engineering Manager   \n",
       "1 2013-11-11       Software Engineering             Software Engineer   \n",
       "2 2012-11-05       Software Engineering             Software Engineer   \n",
       "3 2014-07-07       Software Engineering             Software Engineer   \n",
       "4 2014-11-10       Software Engineering             Software Engineer   \n",
       "\n",
       "     Salary  Unnamed: 11  \n",
       "0   56160.0            1  \n",
       "1  116480.0            1  \n",
       "2  102440.0            1  \n",
       "3   99840.0            1  \n",
       "4   99008.0            1  "
      ]
     },
     "execution_count": 3,
     "metadata": {},
     "output_type": "execute_result"
    }
   ],
   "source": [
    "data_4_10.head()"
   ]
  },
  {
   "cell_type": "code",
   "execution_count": 4,
   "metadata": {},
   "outputs": [
    {
     "data": {
      "text/html": [
       "<div>\n",
       "<style scoped>\n",
       "    .dataframe tbody tr th:only-of-type {\n",
       "        vertical-align: middle;\n",
       "    }\n",
       "\n",
       "    .dataframe tbody tr th {\n",
       "        vertical-align: top;\n",
       "    }\n",
       "\n",
       "    .dataframe thead th {\n",
       "        text-align: right;\n",
       "    }\n",
       "</style>\n",
       "<table border=\"1\" class=\"dataframe\">\n",
       "  <thead>\n",
       "    <tr style=\"text-align: right;\">\n",
       "      <th></th>\n",
       "      <th>Surname</th>\n",
       "      <th>Name</th>\n",
       "      <th>Age</th>\n",
       "      <th>Gender</th>\n",
       "      <th>Country</th>\n",
       "      <th>Ethnicity</th>\n",
       "      <th>Start_date</th>\n",
       "      <th>Department</th>\n",
       "      <th>Position</th>\n",
       "      <th>Salary</th>\n",
       "    </tr>\n",
       "  </thead>\n",
       "  <tbody>\n",
       "    <tr>\n",
       "      <th>0</th>\n",
       "      <td>Sweetwater</td>\n",
       "      <td>Alex</td>\n",
       "      <td>51</td>\n",
       "      <td>Male</td>\n",
       "      <td>United States</td>\n",
       "      <td>White</td>\n",
       "      <td>2011-08-15</td>\n",
       "      <td>Software Engineering</td>\n",
       "      <td>Software Engineering Manager</td>\n",
       "      <td>56160.0</td>\n",
       "    </tr>\n",
       "    <tr>\n",
       "      <th>1</th>\n",
       "      <td>Carabbio</td>\n",
       "      <td>Judith</td>\n",
       "      <td>30</td>\n",
       "      <td>Female</td>\n",
       "      <td>United States</td>\n",
       "      <td>White</td>\n",
       "      <td>2013-11-11</td>\n",
       "      <td>Software Engineering</td>\n",
       "      <td>Software Engineer</td>\n",
       "      <td>116480.0</td>\n",
       "    </tr>\n",
       "    <tr>\n",
       "      <th>2</th>\n",
       "      <td>Saada</td>\n",
       "      <td>Adell</td>\n",
       "      <td>31</td>\n",
       "      <td>Female</td>\n",
       "      <td>United States</td>\n",
       "      <td>White</td>\n",
       "      <td>2012-11-05</td>\n",
       "      <td>Software Engineering</td>\n",
       "      <td>Software Engineer</td>\n",
       "      <td>102440.0</td>\n",
       "    </tr>\n",
       "    <tr>\n",
       "      <th>3</th>\n",
       "      <td>Szabo</td>\n",
       "      <td>Andrew</td>\n",
       "      <td>34</td>\n",
       "      <td>Male</td>\n",
       "      <td>United States</td>\n",
       "      <td>White</td>\n",
       "      <td>2014-07-07</td>\n",
       "      <td>Software Engineering</td>\n",
       "      <td>Software Engineer</td>\n",
       "      <td>99840.0</td>\n",
       "    </tr>\n",
       "    <tr>\n",
       "      <th>4</th>\n",
       "      <td>Andreola</td>\n",
       "      <td>Colby</td>\n",
       "      <td>38</td>\n",
       "      <td>Female</td>\n",
       "      <td>United States</td>\n",
       "      <td>White</td>\n",
       "      <td>2014-11-10</td>\n",
       "      <td>Software Engineering</td>\n",
       "      <td>Software Engineer</td>\n",
       "      <td>99008.0</td>\n",
       "    </tr>\n",
       "  </tbody>\n",
       "</table>\n",
       "</div>"
      ],
      "text/plain": [
       "      Surname    Name  Age  Gender        Country Ethnicity Start_date  \\\n",
       "0  Sweetwater    Alex   51    Male  United States     White 2011-08-15   \n",
       "1    Carabbio  Judith   30  Female  United States     White 2013-11-11   \n",
       "2       Saada   Adell   31  Female  United States     White 2012-11-05   \n",
       "3       Szabo  Andrew   34    Male  United States     White 2014-07-07   \n",
       "4    Andreola   Colby   38  Female  United States     White 2014-11-10   \n",
       "\n",
       "                  Department                      Position    Salary  \n",
       "0  Software Engineering       Software Engineering Manager   56160.0  \n",
       "1       Software Engineering             Software Engineer  116480.0  \n",
       "2       Software Engineering             Software Engineer  102440.0  \n",
       "3       Software Engineering             Software Engineer   99840.0  \n",
       "4       Software Engineering             Software Engineer   99008.0  "
      ]
     },
     "execution_count": 4,
     "metadata": {},
     "output_type": "execute_result"
    }
   ],
   "source": [
    "data_4_10.drop([\"Unnamed: 0\", \"Unnamed: 11\"], 1, inplace = True)\n",
    "data_4_10.head()"
   ]
  },
  {
   "cell_type": "code",
   "execution_count": 10,
   "metadata": {},
   "outputs": [
    {
     "data": {
      "text/html": [
       "<div>\n",
       "<style scoped>\n",
       "    .dataframe tbody tr th:only-of-type {\n",
       "        vertical-align: middle;\n",
       "    }\n",
       "\n",
       "    .dataframe tbody tr th {\n",
       "        vertical-align: top;\n",
       "    }\n",
       "\n",
       "    .dataframe thead th {\n",
       "        text-align: right;\n",
       "    }\n",
       "</style>\n",
       "<table border=\"1\" class=\"dataframe\">\n",
       "  <thead>\n",
       "    <tr style=\"text-align: right;\">\n",
       "      <th></th>\n",
       "      <th>Surname</th>\n",
       "      <th>Name</th>\n",
       "      <th>Age</th>\n",
       "      <th>Gender</th>\n",
       "      <th>Country</th>\n",
       "      <th>Ethnicity</th>\n",
       "      <th>Start_date</th>\n",
       "      <th>Department</th>\n",
       "      <th>Position</th>\n",
       "      <th>Salary</th>\n",
       "    </tr>\n",
       "  </thead>\n",
       "  <tbody>\n",
       "    <tr>\n",
       "      <th>112</th>\n",
       "      <td>Friedman</td>\n",
       "      <td>Gerry</td>\n",
       "      <td>48</td>\n",
       "      <td>Male</td>\n",
       "      <td>United States</td>\n",
       "      <td>Two or more races</td>\n",
       "      <td>2011-03-07</td>\n",
       "      <td>Sales</td>\n",
       "      <td>Area Sales Manager</td>\n",
       "      <td>115440.0</td>\n",
       "    </tr>\n",
       "    <tr>\n",
       "      <th>113</th>\n",
       "      <td>Mullaney</td>\n",
       "      <td>Howard</td>\n",
       "      <td>42</td>\n",
       "      <td>Male</td>\n",
       "      <td>United States</td>\n",
       "      <td>Two or more races</td>\n",
       "      <td>2014-09-29</td>\n",
       "      <td>Sales</td>\n",
       "      <td>Area Sales Manager</td>\n",
       "      <td>114400.0</td>\n",
       "    </tr>\n",
       "    <tr>\n",
       "      <th>114</th>\n",
       "      <td>Nguyen</td>\n",
       "      <td>Dheepa</td>\n",
       "      <td>28</td>\n",
       "      <td>Female</td>\n",
       "      <td>United States</td>\n",
       "      <td>Two or more races</td>\n",
       "      <td>2013-07-08</td>\n",
       "      <td>Sales</td>\n",
       "      <td>Area Sales Manager</td>\n",
       "      <td>114400.0</td>\n",
       "    </tr>\n",
       "    <tr>\n",
       "      <th>115</th>\n",
       "      <td>Valentin</td>\n",
       "      <td>Jackie</td>\n",
       "      <td>26</td>\n",
       "      <td>Female</td>\n",
       "      <td>United States</td>\n",
       "      <td>Two or more races</td>\n",
       "      <td>2011-07-05</td>\n",
       "      <td>Sales</td>\n",
       "      <td>Area Sales Manager</td>\n",
       "      <td>114400.0</td>\n",
       "    </tr>\n",
       "    <tr>\n",
       "      <th>116</th>\n",
       "      <td>Davis</td>\n",
       "      <td>Daniel</td>\n",
       "      <td>38</td>\n",
       "      <td>Male</td>\n",
       "      <td>Australia</td>\n",
       "      <td>Two or more races</td>\n",
       "      <td>2011-11-07</td>\n",
       "      <td>Production</td>\n",
       "      <td>Production Technician II</td>\n",
       "      <td>52000.0</td>\n",
       "    </tr>\n",
       "  </tbody>\n",
       "</table>\n",
       "</div>"
      ],
      "text/plain": [
       "      Surname    Name  Age  Gender        Country          Ethnicity  \\\n",
       "112  Friedman   Gerry   48    Male  United States  Two or more races   \n",
       "113  Mullaney  Howard   42    Male  United States  Two or more races   \n",
       "114    Nguyen  Dheepa   28  Female  United States  Two or more races   \n",
       "115  Valentin  Jackie   26  Female  United States  Two or more races   \n",
       "116     Davis  Daniel   38    Male      Australia  Two or more races   \n",
       "\n",
       "    Start_date         Department                  Position    Salary  \n",
       "112 2011-03-07              Sales        Area Sales Manager  115440.0  \n",
       "113 2014-09-29              Sales        Area Sales Manager  114400.0  \n",
       "114 2013-07-08              Sales        Area Sales Manager  114400.0  \n",
       "115 2011-07-05              Sales        Area Sales Manager  114400.0  \n",
       "116 2011-11-07  Production         Production Technician II   52000.0  "
      ]
     },
     "execution_count": 10,
     "metadata": {},
     "output_type": "execute_result"
    }
   ],
   "source": [
    "# Task: Is there a paygap based on race? (White and Non-White)\n",
    "\n",
    "# Null Hypothesis: There is no pay gap between races.\n",
    "# Alternative Hypothesis: There is a difference in pay.\n",
    "\n",
    "# The first step is to separate the data set into white and non-white\n",
    "dataw_4_10 = data_4_10.loc[data_4_10['Ethnicity'] == 'White']\n",
    "dataw_4_10.head()\n",
    "datanw_4_10 = data_4_10.loc[data_4_10['Ethnicity'] != \"White\"]\n",
    "datanw_4_10.head()"
   ]
  },
  {
   "cell_type": "code",
   "execution_count": 15,
   "metadata": {},
   "outputs": [
    {
     "data": {
      "text/html": [
       "<div>\n",
       "<style scoped>\n",
       "    .dataframe tbody tr th:only-of-type {\n",
       "        vertical-align: middle;\n",
       "    }\n",
       "\n",
       "    .dataframe tbody tr th {\n",
       "        vertical-align: top;\n",
       "    }\n",
       "\n",
       "    .dataframe thead th {\n",
       "        text-align: right;\n",
       "    }\n",
       "</style>\n",
       "<table border=\"1\" class=\"dataframe\">\n",
       "  <thead>\n",
       "    <tr style=\"text-align: right;\">\n",
       "      <th></th>\n",
       "      <th>Age</th>\n",
       "      <th>Salary</th>\n",
       "    </tr>\n",
       "  </thead>\n",
       "  <tbody>\n",
       "    <tr>\n",
       "      <th>count</th>\n",
       "      <td>112.000000</td>\n",
       "      <td>112.000000</td>\n",
       "    </tr>\n",
       "    <tr>\n",
       "      <th>mean</th>\n",
       "      <td>38.267857</td>\n",
       "      <td>67323.100000</td>\n",
       "    </tr>\n",
       "    <tr>\n",
       "      <th>std</th>\n",
       "      <td>8.818472</td>\n",
       "      <td>33715.397343</td>\n",
       "    </tr>\n",
       "    <tr>\n",
       "      <th>min</th>\n",
       "      <td>25.000000</td>\n",
       "      <td>31200.000000</td>\n",
       "    </tr>\n",
       "    <tr>\n",
       "      <th>25%</th>\n",
       "      <td>31.000000</td>\n",
       "      <td>40300.000000</td>\n",
       "    </tr>\n",
       "    <tr>\n",
       "      <th>50%</th>\n",
       "      <td>36.000000</td>\n",
       "      <td>50700.000000</td>\n",
       "    </tr>\n",
       "    <tr>\n",
       "      <th>75%</th>\n",
       "      <td>43.000000</td>\n",
       "      <td>102206.000000</td>\n",
       "    </tr>\n",
       "    <tr>\n",
       "      <th>max</th>\n",
       "      <td>67.000000</td>\n",
       "      <td>166400.000000</td>\n",
       "    </tr>\n",
       "  </tbody>\n",
       "</table>\n",
       "</div>"
      ],
      "text/plain": [
       "              Age         Salary\n",
       "count  112.000000     112.000000\n",
       "mean    38.267857   67323.100000\n",
       "std      8.818472   33715.397343\n",
       "min     25.000000   31200.000000\n",
       "25%     31.000000   40300.000000\n",
       "50%     36.000000   50700.000000\n",
       "75%     43.000000  102206.000000\n",
       "max     67.000000  166400.000000"
      ]
     },
     "execution_count": 15,
     "metadata": {},
     "output_type": "execute_result"
    }
   ],
   "source": [
    "dataw_4_10.describe()"
   ]
  },
  {
   "cell_type": "code",
   "execution_count": 16,
   "metadata": {},
   "outputs": [
    {
     "data": {
      "text/html": [
       "<div>\n",
       "<style scoped>\n",
       "    .dataframe tbody tr th:only-of-type {\n",
       "        vertical-align: middle;\n",
       "    }\n",
       "\n",
       "    .dataframe tbody tr th {\n",
       "        vertical-align: top;\n",
       "    }\n",
       "\n",
       "    .dataframe thead th {\n",
       "        text-align: right;\n",
       "    }\n",
       "</style>\n",
       "<table border=\"1\" class=\"dataframe\">\n",
       "  <thead>\n",
       "    <tr style=\"text-align: right;\">\n",
       "      <th></th>\n",
       "      <th>Age</th>\n",
       "      <th>Salary</th>\n",
       "    </tr>\n",
       "  </thead>\n",
       "  <tbody>\n",
       "    <tr>\n",
       "      <th>count</th>\n",
       "      <td>62.000000</td>\n",
       "      <td>62.000000</td>\n",
       "    </tr>\n",
       "    <tr>\n",
       "      <th>mean</th>\n",
       "      <td>36.935484</td>\n",
       "      <td>70917.264516</td>\n",
       "    </tr>\n",
       "    <tr>\n",
       "      <th>std</th>\n",
       "      <td>7.531074</td>\n",
       "      <td>35000.713083</td>\n",
       "    </tr>\n",
       "    <tr>\n",
       "      <th>min</th>\n",
       "      <td>26.000000</td>\n",
       "      <td>29120.000000</td>\n",
       "    </tr>\n",
       "    <tr>\n",
       "      <th>25%</th>\n",
       "      <td>31.000000</td>\n",
       "      <td>45760.000000</td>\n",
       "    </tr>\n",
       "    <tr>\n",
       "      <th>50%</th>\n",
       "      <td>36.000000</td>\n",
       "      <td>53040.000000</td>\n",
       "    </tr>\n",
       "    <tr>\n",
       "      <th>75%</th>\n",
       "      <td>39.750000</td>\n",
       "      <td>114400.000000</td>\n",
       "    </tr>\n",
       "    <tr>\n",
       "      <th>max</th>\n",
       "      <td>59.000000</td>\n",
       "      <td>135200.000000</td>\n",
       "    </tr>\n",
       "  </tbody>\n",
       "</table>\n",
       "</div>"
      ],
      "text/plain": [
       "             Age         Salary\n",
       "count  62.000000      62.000000\n",
       "mean   36.935484   70917.264516\n",
       "std     7.531074   35000.713083\n",
       "min    26.000000   29120.000000\n",
       "25%    31.000000   45760.000000\n",
       "50%    36.000000   53040.000000\n",
       "75%    39.750000  114400.000000\n",
       "max    59.000000  135200.000000"
      ]
     },
     "execution_count": 16,
     "metadata": {},
     "output_type": "execute_result"
    }
   ],
   "source": [
    "datanw_4_10.describe()"
   ]
  },
  {
   "cell_type": "code",
   "execution_count": 20,
   "metadata": {},
   "outputs": [
    {
     "name": "stdout",
     "output_type": "stream",
     "text": [
      "112 62 1136728018.0252254 1225049916.2974088 1168051481.947337 -0.6643495514356892\n"
     ]
    }
   ],
   "source": [
    "wsize_4_10 = dataw_4_10.Salary.count()\n",
    "nwsize_4_10 = datanw_4_10.Salary.count()\n",
    "\n",
    "wmean_4_10 = 67323.10\n",
    "nwmean_4_10 = 70917.26\n",
    "\n",
    "wvar_4_10 = stats.tvar(dataw_4_10.Salary)\n",
    "nwvar_4_10 = stats.tvar(datanw_4_10.Salary)\n",
    "\n",
    "pooled_var_4_10 = ((wsize_4_10 - 1)*(wvar_4_10) + (nwsize_4_10 - 1)*(nwvar_4_10))/ (wsize_4_10 + nwsize_4_10 - 2)\n",
    "\n",
    "t_score_4_10 = (wmean_4_10 - nwmean_4_10)/ np.sqrt((pooled_var_4_10 / wsize_4_10) + (pooled_var_4_10 / nwsize_4_10))\n",
    "print(wsize_4_10, nwsize_4_10, wvar_4_10, nwvar_4_10, pooled_var_4_10, t_score_4_10)"
   ]
  },
  {
   "cell_type": "code",
   "execution_count": 21,
   "metadata": {},
   "outputs": [],
   "source": [
    "# T-Score = 0.66\n",
    "# Using the suggested p calculator (t = 0.66, dof = 174, two-tailed test)\n",
    "# p = 0.51 > common significance levels\n",
    "# The null hypothesis cannot be rejected, thus there is no pay gap based purely on race."
   ]
  },
  {
   "cell_type": "markdown",
   "metadata": {},
   "source": [
    "COMPLETED HYPOTHESIS TESTING SECTION PRACTICAL EXAMPLE EXERCISE Sept. 25, 2021"
   ]
  },
  {
   "cell_type": "markdown",
   "metadata": {},
   "source": [
    "HYPOTHESIS TESTING PRACTICAL EXAMPLE EXTRA PRACTICE 1"
   ]
  },
  {
   "cell_type": "code",
   "execution_count": 5,
   "metadata": {},
   "outputs": [],
   "source": [
    "# TASK: Focus on a single department and conduct the same tests. e.g. Is there gender / racial discrimination \n",
    "# in the Production department\n",
    "\n",
    "# Null Hypothesis: There is no pay gap between white and non-white races in the Production Department\n",
    "# Alternative Hypothesis: There is racial descrimination in pay within the Production department"
   ]
  },
  {
   "cell_type": "code",
   "execution_count": 8,
   "metadata": {},
   "outputs": [
    {
     "data": {
      "text/html": [
       "<div>\n",
       "<style scoped>\n",
       "    .dataframe tbody tr th:only-of-type {\n",
       "        vertical-align: middle;\n",
       "    }\n",
       "\n",
       "    .dataframe tbody tr th {\n",
       "        vertical-align: top;\n",
       "    }\n",
       "\n",
       "    .dataframe thead th {\n",
       "        text-align: right;\n",
       "    }\n",
       "</style>\n",
       "<table border=\"1\" class=\"dataframe\">\n",
       "  <thead>\n",
       "    <tr style=\"text-align: right;\">\n",
       "      <th></th>\n",
       "      <th>Surname</th>\n",
       "      <th>Name</th>\n",
       "      <th>Age</th>\n",
       "      <th>Gender</th>\n",
       "      <th>Country</th>\n",
       "      <th>Ethnicity</th>\n",
       "      <th>Start_date</th>\n",
       "      <th>Department</th>\n",
       "      <th>Position</th>\n",
       "      <th>Salary</th>\n",
       "    </tr>\n",
       "  </thead>\n",
       "  <tbody>\n",
       "    <tr>\n",
       "      <th>18</th>\n",
       "      <td>Sahoo</td>\n",
       "      <td>Adil</td>\n",
       "      <td>31</td>\n",
       "      <td>Male</td>\n",
       "      <td>United States</td>\n",
       "      <td>White</td>\n",
       "      <td>2010-08-30</td>\n",
       "      <td>Production</td>\n",
       "      <td>Production Technician II</td>\n",
       "      <td>60320.0</td>\n",
       "    </tr>\n",
       "    <tr>\n",
       "      <th>19</th>\n",
       "      <td>Blount</td>\n",
       "      <td>Dianna</td>\n",
       "      <td>27</td>\n",
       "      <td>Female</td>\n",
       "      <td>United States</td>\n",
       "      <td>White</td>\n",
       "      <td>2011-04-04</td>\n",
       "      <td>Production</td>\n",
       "      <td>Production Technician II</td>\n",
       "      <td>56160.0</td>\n",
       "    </tr>\n",
       "    <tr>\n",
       "      <th>20</th>\n",
       "      <td>Monkfish</td>\n",
       "      <td>Erasumus</td>\n",
       "      <td>25</td>\n",
       "      <td>Male</td>\n",
       "      <td>United States</td>\n",
       "      <td>White</td>\n",
       "      <td>2011-11-07</td>\n",
       "      <td>Production</td>\n",
       "      <td>Production Technician II</td>\n",
       "      <td>56160.0</td>\n",
       "    </tr>\n",
       "    <tr>\n",
       "      <th>21</th>\n",
       "      <td>Nowlan</td>\n",
       "      <td>Kristie</td>\n",
       "      <td>32</td>\n",
       "      <td>Female</td>\n",
       "      <td>United States</td>\n",
       "      <td>White</td>\n",
       "      <td>2014-11-10</td>\n",
       "      <td>Production</td>\n",
       "      <td>Production Technician II</td>\n",
       "      <td>54891.2</td>\n",
       "    </tr>\n",
       "    <tr>\n",
       "      <th>22</th>\n",
       "      <td>Burkett</td>\n",
       "      <td>Benjamin</td>\n",
       "      <td>40</td>\n",
       "      <td>Male</td>\n",
       "      <td>United States</td>\n",
       "      <td>White</td>\n",
       "      <td>2011-04-04</td>\n",
       "      <td>Production</td>\n",
       "      <td>Production Technician II</td>\n",
       "      <td>54080.0</td>\n",
       "    </tr>\n",
       "  </tbody>\n",
       "</table>\n",
       "</div>"
      ],
      "text/plain": [
       "     Surname      Name  Age  Gender        Country Ethnicity Start_date  \\\n",
       "18     Sahoo      Adil   31    Male  United States     White 2010-08-30   \n",
       "19    Blount    Dianna   27  Female  United States     White 2011-04-04   \n",
       "20  Monkfish  Erasumus   25    Male  United States     White 2011-11-07   \n",
       "21    Nowlan   Kristie   32  Female  United States     White 2014-11-10   \n",
       "22   Burkett  Benjamin   40    Male  United States     White 2011-04-04   \n",
       "\n",
       "           Department                  Position   Salary  \n",
       "18  Production         Production Technician II  60320.0  \n",
       "19  Production         Production Technician II  56160.0  \n",
       "20  Production         Production Technician II  56160.0  \n",
       "21  Production         Production Technician II  54891.2  \n",
       "22  Production         Production Technician II  54080.0  "
      ]
     },
     "execution_count": 8,
     "metadata": {},
     "output_type": "execute_result"
    }
   ],
   "source": [
    "product_data_4_10 = data_4_10.loc[data_4_10['Department'] == 'Production       ']\n",
    "product_data_4_10.head()"
   ]
  },
  {
   "cell_type": "code",
   "execution_count": 9,
   "metadata": {},
   "outputs": [
    {
     "data": {
      "text/html": [
       "<div>\n",
       "<style scoped>\n",
       "    .dataframe tbody tr th:only-of-type {\n",
       "        vertical-align: middle;\n",
       "    }\n",
       "\n",
       "    .dataframe tbody tr th {\n",
       "        vertical-align: top;\n",
       "    }\n",
       "\n",
       "    .dataframe thead th {\n",
       "        text-align: right;\n",
       "    }\n",
       "</style>\n",
       "<table border=\"1\" class=\"dataframe\">\n",
       "  <thead>\n",
       "    <tr style=\"text-align: right;\">\n",
       "      <th></th>\n",
       "      <th>Surname</th>\n",
       "      <th>Name</th>\n",
       "      <th>Age</th>\n",
       "      <th>Gender</th>\n",
       "      <th>Country</th>\n",
       "      <th>Ethnicity</th>\n",
       "      <th>Start_date</th>\n",
       "      <th>Department</th>\n",
       "      <th>Position</th>\n",
       "      <th>Salary</th>\n",
       "    </tr>\n",
       "  </thead>\n",
       "  <tbody>\n",
       "    <tr>\n",
       "      <th>116</th>\n",
       "      <td>Davis</td>\n",
       "      <td>Daniel</td>\n",
       "      <td>38</td>\n",
       "      <td>Male</td>\n",
       "      <td>Australia</td>\n",
       "      <td>Two or more races</td>\n",
       "      <td>2011-11-07</td>\n",
       "      <td>Production</td>\n",
       "      <td>Production Technician II</td>\n",
       "      <td>52000.0</td>\n",
       "    </tr>\n",
       "    <tr>\n",
       "      <th>117</th>\n",
       "      <td>Barone</td>\n",
       "      <td>Francesco A</td>\n",
       "      <td>34</td>\n",
       "      <td>Male</td>\n",
       "      <td>United States</td>\n",
       "      <td>Two or more races</td>\n",
       "      <td>2012-02-20</td>\n",
       "      <td>Production</td>\n",
       "      <td>Production Technician I</td>\n",
       "      <td>34860.8</td>\n",
       "    </tr>\n",
       "    <tr>\n",
       "      <th>118</th>\n",
       "      <td>Girifalco</td>\n",
       "      <td>Evelyn</td>\n",
       "      <td>37</td>\n",
       "      <td>Female</td>\n",
       "      <td>United States</td>\n",
       "      <td>Two or more races</td>\n",
       "      <td>2014-09-29</td>\n",
       "      <td>Production</td>\n",
       "      <td>Production Technician I</td>\n",
       "      <td>33280.0</td>\n",
       "    </tr>\n",
       "    <tr>\n",
       "      <th>119</th>\n",
       "      <td>Stanford</td>\n",
       "      <td>Barbara M</td>\n",
       "      <td>35</td>\n",
       "      <td>Female</td>\n",
       "      <td>United States</td>\n",
       "      <td>Two or more races</td>\n",
       "      <td>2011-01-10</td>\n",
       "      <td>Production</td>\n",
       "      <td>Production Technician I</td>\n",
       "      <td>29120.0</td>\n",
       "    </tr>\n",
       "    <tr>\n",
       "      <th>121</th>\n",
       "      <td>Miller</td>\n",
       "      <td>Brannon</td>\n",
       "      <td>36</td>\n",
       "      <td>Male</td>\n",
       "      <td>United States</td>\n",
       "      <td>Hispanic</td>\n",
       "      <td>2012-08-16</td>\n",
       "      <td>Production</td>\n",
       "      <td>Production Manager</td>\n",
       "      <td>110240.0</td>\n",
       "    </tr>\n",
       "  </tbody>\n",
       "</table>\n",
       "</div>"
      ],
      "text/plain": [
       "       Surname         Name  Age  Gender        Country          Ethnicity  \\\n",
       "116      Davis       Daniel   38    Male      Australia  Two or more races   \n",
       "117     Barone  Francesco A   34    Male  United States  Two or more races   \n",
       "118  Girifalco       Evelyn   37  Female  United States  Two or more races   \n",
       "119   Stanford    Barbara M   35  Female  United States  Two or more races   \n",
       "121     Miller      Brannon   36    Male  United States           Hispanic   \n",
       "\n",
       "    Start_date         Department                  Position    Salary  \n",
       "116 2011-11-07  Production         Production Technician II   52000.0  \n",
       "117 2012-02-20  Production          Production Technician I   34860.8  \n",
       "118 2014-09-29  Production          Production Technician I   33280.0  \n",
       "119 2011-01-10  Production          Production Technician I   29120.0  \n",
       "121 2012-08-16  Production               Production Manager  110240.0  "
      ]
     },
     "execution_count": 9,
     "metadata": {},
     "output_type": "execute_result"
    }
   ],
   "source": [
    "pr_dataw_4_10 = product_data_4_10.loc[product_data_4_10['Ethnicity'] == 'White']\n",
    "pr_dataw_4_10.head()\n",
    "pr_datanw_4_10 = product_data_4_10.loc[product_data_4_10['Ethnicity'] != \"White\"]\n",
    "pr_datanw_4_10.head()"
   ]
  },
  {
   "cell_type": "code",
   "execution_count": 10,
   "metadata": {},
   "outputs": [
    {
     "data": {
      "text/html": [
       "<div>\n",
       "<style scoped>\n",
       "    .dataframe tbody tr th:only-of-type {\n",
       "        vertical-align: middle;\n",
       "    }\n",
       "\n",
       "    .dataframe tbody tr th {\n",
       "        vertical-align: top;\n",
       "    }\n",
       "\n",
       "    .dataframe thead th {\n",
       "        text-align: right;\n",
       "    }\n",
       "</style>\n",
       "<table border=\"1\" class=\"dataframe\">\n",
       "  <thead>\n",
       "    <tr style=\"text-align: right;\">\n",
       "      <th></th>\n",
       "      <th>Age</th>\n",
       "      <th>Salary</th>\n",
       "    </tr>\n",
       "  </thead>\n",
       "  <tbody>\n",
       "    <tr>\n",
       "      <th>count</th>\n",
       "      <td>69.000000</td>\n",
       "      <td>69.000000</td>\n",
       "    </tr>\n",
       "    <tr>\n",
       "      <th>mean</th>\n",
       "      <td>38.217391</td>\n",
       "      <td>49042.481159</td>\n",
       "    </tr>\n",
       "    <tr>\n",
       "      <th>std</th>\n",
       "      <td>8.354058</td>\n",
       "      <td>22271.876000</td>\n",
       "    </tr>\n",
       "    <tr>\n",
       "      <th>min</th>\n",
       "      <td>25.000000</td>\n",
       "      <td>31200.000000</td>\n",
       "    </tr>\n",
       "    <tr>\n",
       "      <th>25%</th>\n",
       "      <td>32.000000</td>\n",
       "      <td>35360.000000</td>\n",
       "    </tr>\n",
       "    <tr>\n",
       "      <th>50%</th>\n",
       "      <td>36.000000</td>\n",
       "      <td>43680.000000</td>\n",
       "    </tr>\n",
       "    <tr>\n",
       "      <th>75%</th>\n",
       "      <td>43.000000</td>\n",
       "      <td>49920.000000</td>\n",
       "    </tr>\n",
       "    <tr>\n",
       "      <th>max</th>\n",
       "      <td>67.000000</td>\n",
       "      <td>114400.000000</td>\n",
       "    </tr>\n",
       "  </tbody>\n",
       "</table>\n",
       "</div>"
      ],
      "text/plain": [
       "             Age         Salary\n",
       "count  69.000000      69.000000\n",
       "mean   38.217391   49042.481159\n",
       "std     8.354058   22271.876000\n",
       "min    25.000000   31200.000000\n",
       "25%    32.000000   35360.000000\n",
       "50%    36.000000   43680.000000\n",
       "75%    43.000000   49920.000000\n",
       "max    67.000000  114400.000000"
      ]
     },
     "execution_count": 10,
     "metadata": {},
     "output_type": "execute_result"
    }
   ],
   "source": [
    "pr_dataw_4_10.describe()"
   ]
  },
  {
   "cell_type": "code",
   "execution_count": 11,
   "metadata": {},
   "outputs": [
    {
     "data": {
      "text/html": [
       "<div>\n",
       "<style scoped>\n",
       "    .dataframe tbody tr th:only-of-type {\n",
       "        vertical-align: middle;\n",
       "    }\n",
       "\n",
       "    .dataframe tbody tr th {\n",
       "        vertical-align: top;\n",
       "    }\n",
       "\n",
       "    .dataframe thead th {\n",
       "        text-align: right;\n",
       "    }\n",
       "</style>\n",
       "<table border=\"1\" class=\"dataframe\">\n",
       "  <thead>\n",
       "    <tr style=\"text-align: right;\">\n",
       "      <th></th>\n",
       "      <th>Age</th>\n",
       "      <th>Salary</th>\n",
       "    </tr>\n",
       "  </thead>\n",
       "  <tbody>\n",
       "    <tr>\n",
       "      <th>count</th>\n",
       "      <td>37.000000</td>\n",
       "      <td>37.000000</td>\n",
       "    </tr>\n",
       "    <tr>\n",
       "      <th>mean</th>\n",
       "      <td>38.162162</td>\n",
       "      <td>49546.724324</td>\n",
       "    </tr>\n",
       "    <tr>\n",
       "      <th>std</th>\n",
       "      <td>6.881995</td>\n",
       "      <td>21836.934782</td>\n",
       "    </tr>\n",
       "    <tr>\n",
       "      <th>min</th>\n",
       "      <td>27.000000</td>\n",
       "      <td>29120.000000</td>\n",
       "    </tr>\n",
       "    <tr>\n",
       "      <th>25%</th>\n",
       "      <td>34.000000</td>\n",
       "      <td>37440.000000</td>\n",
       "    </tr>\n",
       "    <tr>\n",
       "      <th>50%</th>\n",
       "      <td>37.000000</td>\n",
       "      <td>45760.000000</td>\n",
       "    </tr>\n",
       "    <tr>\n",
       "      <th>75%</th>\n",
       "      <td>40.000000</td>\n",
       "      <td>52000.000000</td>\n",
       "    </tr>\n",
       "    <tr>\n",
       "      <th>max</th>\n",
       "      <td>59.000000</td>\n",
       "      <td>124800.000000</td>\n",
       "    </tr>\n",
       "  </tbody>\n",
       "</table>\n",
       "</div>"
      ],
      "text/plain": [
       "             Age         Salary\n",
       "count  37.000000      37.000000\n",
       "mean   38.162162   49546.724324\n",
       "std     6.881995   21836.934782\n",
       "min    27.000000   29120.000000\n",
       "25%    34.000000   37440.000000\n",
       "50%    37.000000   45760.000000\n",
       "75%    40.000000   52000.000000\n",
       "max    59.000000  124800.000000"
      ]
     },
     "execution_count": 11,
     "metadata": {},
     "output_type": "execute_result"
    }
   ],
   "source": [
    "pr_datanw_4_10.describe()"
   ]
  },
  {
   "cell_type": "code",
   "execution_count": 12,
   "metadata": {},
   "outputs": [
    {
     "name": "stdout",
     "output_type": "stream",
     "text": [
      "69 37 496036460.5391986 476851720.65633637 489395589.0412847 -0.11186126943794956\n"
     ]
    }
   ],
   "source": [
    "pr_wsize_4_10 = pr_dataw_4_10.Salary.count()\n",
    "pr_nwsize_4_10 = pr_datanw_4_10.Salary.count()\n",
    "\n",
    "pr_wmean_4_10 = 49042.48\n",
    "pr_nwmean_4_10 = 49546.72\n",
    "\n",
    "pr_wvar_4_10 = stats.tvar(pr_dataw_4_10.Salary)\n",
    "pr_nwvar_4_10 = stats.tvar(pr_datanw_4_10.Salary)\n",
    "\n",
    "pr_pooled_var_4_10 = ((pr_wsize_4_10 - 1)*(pr_wvar_4_10) + (pr_nwsize_4_10 - 1)*(pr_nwvar_4_10))/ (pr_wsize_4_10 + pr_nwsize_4_10 - 2)\n",
    "\n",
    "pr_t_score_4_10 = (pr_wmean_4_10 - pr_nwmean_4_10)/ np.sqrt((pr_pooled_var_4_10 / pr_wsize_4_10) + (pr_pooled_var_4_10 / pr_nwsize_4_10))\n",
    "print(pr_wsize_4_10, pr_nwsize_4_10, pr_wvar_4_10, pr_nwvar_4_10, pr_pooled_var_4_10, pr_t_score_4_10)"
   ]
  },
  {
   "cell_type": "code",
   "execution_count": 14,
   "metadata": {},
   "outputs": [],
   "source": [
    "# T-Score = 0.112\n",
    "# Using the suggested p-calculator (T-Score = 0.112, DOF = 104, Two-Tailed Test)\n",
    "# p = 0.991 > common significance levels\n",
    "# We cannot reject the null hypothesis, thus there is no pay gap between races in the Production Department."
   ]
  },
  {
   "cell_type": "markdown",
   "metadata": {},
   "source": [
    "COMPLETED HYPOTHESIS TESTING PRACTICAL EXAMPLE EXTRA PRACTICE 1 SEPT. 25, 2021"
   ]
  },
  {
   "cell_type": "markdown",
   "metadata": {},
   "source": [
    "HYPOTHESIS TESTING PRACTICAL EXAMPLE EXTRA PRACTICE 2"
   ]
  },
  {
   "cell_type": "code",
   "execution_count": 5,
   "metadata": {},
   "outputs": [
    {
     "data": {
      "text/html": [
       "<div>\n",
       "<style scoped>\n",
       "    .dataframe tbody tr th:only-of-type {\n",
       "        vertical-align: middle;\n",
       "    }\n",
       "\n",
       "    .dataframe tbody tr th {\n",
       "        vertical-align: top;\n",
       "    }\n",
       "\n",
       "    .dataframe thead th {\n",
       "        text-align: right;\n",
       "    }\n",
       "</style>\n",
       "<table border=\"1\" class=\"dataframe\">\n",
       "  <thead>\n",
       "    <tr style=\"text-align: right;\">\n",
       "      <th></th>\n",
       "      <th>Surname</th>\n",
       "      <th>Name</th>\n",
       "      <th>Age</th>\n",
       "      <th>Gender</th>\n",
       "      <th>Country</th>\n",
       "      <th>Ethnicity</th>\n",
       "      <th>Start_date</th>\n",
       "      <th>Department</th>\n",
       "      <th>Position</th>\n",
       "      <th>Salary</th>\n",
       "    </tr>\n",
       "  </thead>\n",
       "  <tbody>\n",
       "    <tr>\n",
       "      <th>0</th>\n",
       "      <td>Sweetwater</td>\n",
       "      <td>Alex</td>\n",
       "      <td>51</td>\n",
       "      <td>Male</td>\n",
       "      <td>United States</td>\n",
       "      <td>White</td>\n",
       "      <td>2011-08-15</td>\n",
       "      <td>Software Engineering</td>\n",
       "      <td>Software Engineering Manager</td>\n",
       "      <td>56160.0</td>\n",
       "    </tr>\n",
       "    <tr>\n",
       "      <th>4</th>\n",
       "      <td>Andreola</td>\n",
       "      <td>Colby</td>\n",
       "      <td>38</td>\n",
       "      <td>Female</td>\n",
       "      <td>United States</td>\n",
       "      <td>White</td>\n",
       "      <td>2014-11-10</td>\n",
       "      <td>Software Engineering</td>\n",
       "      <td>Software Engineer</td>\n",
       "      <td>99008.0</td>\n",
       "    </tr>\n",
       "    <tr>\n",
       "      <th>6</th>\n",
       "      <td>Houlihan</td>\n",
       "      <td>Debra</td>\n",
       "      <td>51</td>\n",
       "      <td>Female</td>\n",
       "      <td>United States</td>\n",
       "      <td>White</td>\n",
       "      <td>2014-05-05</td>\n",
       "      <td>Sales</td>\n",
       "      <td>Director of Sales</td>\n",
       "      <td>124800.0</td>\n",
       "    </tr>\n",
       "    <tr>\n",
       "      <th>8</th>\n",
       "      <td>Jeremy</td>\n",
       "      <td>Peter</td>\n",
       "      <td>43</td>\n",
       "      <td>Male</td>\n",
       "      <td>United States</td>\n",
       "      <td>White</td>\n",
       "      <td>2014-05-12</td>\n",
       "      <td>Sales</td>\n",
       "      <td>Area Sales Manager</td>\n",
       "      <td>116480.0</td>\n",
       "    </tr>\n",
       "    <tr>\n",
       "      <th>9</th>\n",
       "      <td>Gonzales</td>\n",
       "      <td>Ricardo</td>\n",
       "      <td>63</td>\n",
       "      <td>Male</td>\n",
       "      <td>United States</td>\n",
       "      <td>White</td>\n",
       "      <td>2014-05-12</td>\n",
       "      <td>Sales</td>\n",
       "      <td>Area Sales Manager</td>\n",
       "      <td>115440.0</td>\n",
       "    </tr>\n",
       "  </tbody>\n",
       "</table>\n",
       "</div>"
      ],
      "text/plain": [
       "      Surname     Name  Age  Gender        Country Ethnicity Start_date  \\\n",
       "0  Sweetwater     Alex   51    Male  United States     White 2011-08-15   \n",
       "4    Andreola    Colby   38  Female  United States     White 2014-11-10   \n",
       "6    Houlihan    Debra   51  Female  United States     White 2014-05-05   \n",
       "8      Jeremy    Peter   43    Male  United States     White 2014-05-12   \n",
       "9    Gonzales  Ricardo   63    Male  United States     White 2014-05-12   \n",
       "\n",
       "                  Department                      Position    Salary  \n",
       "0  Software Engineering       Software Engineering Manager   56160.0  \n",
       "4       Software Engineering             Software Engineer   99008.0  \n",
       "6                      Sales             Director of Sales  124800.0  \n",
       "8                      Sales            Area Sales Manager  116480.0  \n",
       "9                      Sales            Area Sales Manager  115440.0  "
      ]
     },
     "execution_count": 5,
     "metadata": {},
     "output_type": "execute_result"
    }
   ],
   "source": [
    "# TASK: Check if there is racial discrimination for employees above 35 years. \n",
    "ab35_data_4_10 = data_4_10.loc[data_4_10['Age'] > 35]\n",
    "ab35_data_4_10.head()"
   ]
  },
  {
   "cell_type": "code",
   "execution_count": 6,
   "metadata": {},
   "outputs": [
    {
     "data": {
      "text/html": [
       "<div>\n",
       "<style scoped>\n",
       "    .dataframe tbody tr th:only-of-type {\n",
       "        vertical-align: middle;\n",
       "    }\n",
       "\n",
       "    .dataframe tbody tr th {\n",
       "        vertical-align: top;\n",
       "    }\n",
       "\n",
       "    .dataframe thead th {\n",
       "        text-align: right;\n",
       "    }\n",
       "</style>\n",
       "<table border=\"1\" class=\"dataframe\">\n",
       "  <thead>\n",
       "    <tr style=\"text-align: right;\">\n",
       "      <th></th>\n",
       "      <th>Surname</th>\n",
       "      <th>Name</th>\n",
       "      <th>Age</th>\n",
       "      <th>Gender</th>\n",
       "      <th>Country</th>\n",
       "      <th>Ethnicity</th>\n",
       "      <th>Start_date</th>\n",
       "      <th>Department</th>\n",
       "      <th>Position</th>\n",
       "      <th>Salary</th>\n",
       "    </tr>\n",
       "  </thead>\n",
       "  <tbody>\n",
       "    <tr>\n",
       "      <th>112</th>\n",
       "      <td>Friedman</td>\n",
       "      <td>Gerry</td>\n",
       "      <td>48</td>\n",
       "      <td>Male</td>\n",
       "      <td>United States</td>\n",
       "      <td>Two or more races</td>\n",
       "      <td>2011-03-07</td>\n",
       "      <td>Sales</td>\n",
       "      <td>Area Sales Manager</td>\n",
       "      <td>115440.0</td>\n",
       "    </tr>\n",
       "    <tr>\n",
       "      <th>113</th>\n",
       "      <td>Mullaney</td>\n",
       "      <td>Howard</td>\n",
       "      <td>42</td>\n",
       "      <td>Male</td>\n",
       "      <td>United States</td>\n",
       "      <td>Two or more races</td>\n",
       "      <td>2014-09-29</td>\n",
       "      <td>Sales</td>\n",
       "      <td>Area Sales Manager</td>\n",
       "      <td>114400.0</td>\n",
       "    </tr>\n",
       "    <tr>\n",
       "      <th>116</th>\n",
       "      <td>Davis</td>\n",
       "      <td>Daniel</td>\n",
       "      <td>38</td>\n",
       "      <td>Male</td>\n",
       "      <td>Australia</td>\n",
       "      <td>Two or more races</td>\n",
       "      <td>2011-11-07</td>\n",
       "      <td>Production</td>\n",
       "      <td>Production Technician II</td>\n",
       "      <td>52000.0</td>\n",
       "    </tr>\n",
       "    <tr>\n",
       "      <th>118</th>\n",
       "      <td>Girifalco</td>\n",
       "      <td>Evelyn</td>\n",
       "      <td>37</td>\n",
       "      <td>Female</td>\n",
       "      <td>United States</td>\n",
       "      <td>Two or more races</td>\n",
       "      <td>2014-09-29</td>\n",
       "      <td>Production</td>\n",
       "      <td>Production Technician I</td>\n",
       "      <td>33280.0</td>\n",
       "    </tr>\n",
       "    <tr>\n",
       "      <th>121</th>\n",
       "      <td>Miller</td>\n",
       "      <td>Brannon</td>\n",
       "      <td>36</td>\n",
       "      <td>Male</td>\n",
       "      <td>United States</td>\n",
       "      <td>Hispanic</td>\n",
       "      <td>2012-08-16</td>\n",
       "      <td>Production</td>\n",
       "      <td>Production Manager</td>\n",
       "      <td>110240.0</td>\n",
       "    </tr>\n",
       "  </tbody>\n",
       "</table>\n",
       "</div>"
      ],
      "text/plain": [
       "       Surname     Name  Age  Gender        Country          Ethnicity  \\\n",
       "112   Friedman    Gerry   48    Male  United States  Two or more races   \n",
       "113   Mullaney   Howard   42    Male  United States  Two or more races   \n",
       "116      Davis   Daniel   38    Male      Australia  Two or more races   \n",
       "118  Girifalco   Evelyn   37  Female  United States  Two or more races   \n",
       "121     Miller  Brannon   36    Male  United States           Hispanic   \n",
       "\n",
       "    Start_date         Department                  Position    Salary  \n",
       "112 2011-03-07              Sales        Area Sales Manager  115440.0  \n",
       "113 2014-09-29              Sales        Area Sales Manager  114400.0  \n",
       "116 2011-11-07  Production         Production Technician II   52000.0  \n",
       "118 2014-09-29  Production          Production Technician I   33280.0  \n",
       "121 2012-08-16  Production               Production Manager  110240.0  "
      ]
     },
     "execution_count": 6,
     "metadata": {},
     "output_type": "execute_result"
    }
   ],
   "source": [
    "age_dataw_4_10 = ab35_data_4_10.loc[ab35_data_4_10['Ethnicity'] == 'White']\n",
    "age_dataw_4_10.head()\n",
    "age_datanw_4_10 = ab35_data_4_10.loc[ab35_data_4_10['Ethnicity'] != \"White\"]\n",
    "age_datanw_4_10.head()"
   ]
  },
  {
   "cell_type": "code",
   "execution_count": 7,
   "metadata": {},
   "outputs": [
    {
     "data": {
      "text/html": [
       "<div>\n",
       "<style scoped>\n",
       "    .dataframe tbody tr th:only-of-type {\n",
       "        vertical-align: middle;\n",
       "    }\n",
       "\n",
       "    .dataframe tbody tr th {\n",
       "        vertical-align: top;\n",
       "    }\n",
       "\n",
       "    .dataframe thead th {\n",
       "        text-align: right;\n",
       "    }\n",
       "</style>\n",
       "<table border=\"1\" class=\"dataframe\">\n",
       "  <thead>\n",
       "    <tr style=\"text-align: right;\">\n",
       "      <th></th>\n",
       "      <th>Age</th>\n",
       "      <th>Salary</th>\n",
       "    </tr>\n",
       "  </thead>\n",
       "  <tbody>\n",
       "    <tr>\n",
       "      <th>count</th>\n",
       "      <td>60.000000</td>\n",
       "      <td>60.000000</td>\n",
       "    </tr>\n",
       "    <tr>\n",
       "      <th>mean</th>\n",
       "      <td>44.650000</td>\n",
       "      <td>71004.266667</td>\n",
       "    </tr>\n",
       "    <tr>\n",
       "      <th>std</th>\n",
       "      <td>7.149315</td>\n",
       "      <td>36559.191757</td>\n",
       "    </tr>\n",
       "    <tr>\n",
       "      <th>min</th>\n",
       "      <td>36.000000</td>\n",
       "      <td>31200.000000</td>\n",
       "    </tr>\n",
       "    <tr>\n",
       "      <th>25%</th>\n",
       "      <td>39.000000</td>\n",
       "      <td>41600.000000</td>\n",
       "    </tr>\n",
       "    <tr>\n",
       "      <th>50%</th>\n",
       "      <td>43.000000</td>\n",
       "      <td>53040.000000</td>\n",
       "    </tr>\n",
       "    <tr>\n",
       "      <th>75%</th>\n",
       "      <td>49.000000</td>\n",
       "      <td>110240.000000</td>\n",
       "    </tr>\n",
       "    <tr>\n",
       "      <th>max</th>\n",
       "      <td>67.000000</td>\n",
       "      <td>166400.000000</td>\n",
       "    </tr>\n",
       "  </tbody>\n",
       "</table>\n",
       "</div>"
      ],
      "text/plain": [
       "             Age         Salary\n",
       "count  60.000000      60.000000\n",
       "mean   44.650000   71004.266667\n",
       "std     7.149315   36559.191757\n",
       "min    36.000000   31200.000000\n",
       "25%    39.000000   41600.000000\n",
       "50%    43.000000   53040.000000\n",
       "75%    49.000000  110240.000000\n",
       "max    67.000000  166400.000000"
      ]
     },
     "execution_count": 7,
     "metadata": {},
     "output_type": "execute_result"
    }
   ],
   "source": [
    "age_dataw_4_10.describe()"
   ]
  },
  {
   "cell_type": "code",
   "execution_count": 13,
   "metadata": {},
   "outputs": [
    {
     "data": {
      "text/html": [
       "<div>\n",
       "<style scoped>\n",
       "    .dataframe tbody tr th:only-of-type {\n",
       "        vertical-align: middle;\n",
       "    }\n",
       "\n",
       "    .dataframe tbody tr th {\n",
       "        vertical-align: top;\n",
       "    }\n",
       "\n",
       "    .dataframe thead th {\n",
       "        text-align: right;\n",
       "    }\n",
       "</style>\n",
       "<table border=\"1\" class=\"dataframe\">\n",
       "  <thead>\n",
       "    <tr style=\"text-align: right;\">\n",
       "      <th></th>\n",
       "      <th>Age</th>\n",
       "      <th>Salary</th>\n",
       "    </tr>\n",
       "  </thead>\n",
       "  <tbody>\n",
       "    <tr>\n",
       "      <th>count</th>\n",
       "      <td>32.000000</td>\n",
       "      <td>32.000000</td>\n",
       "    </tr>\n",
       "    <tr>\n",
       "      <th>mean</th>\n",
       "      <td>42.593750</td>\n",
       "      <td>66710.150000</td>\n",
       "    </tr>\n",
       "    <tr>\n",
       "      <th>std</th>\n",
       "      <td>6.079364</td>\n",
       "      <td>35489.374059</td>\n",
       "    </tr>\n",
       "    <tr>\n",
       "      <th>min</th>\n",
       "      <td>36.000000</td>\n",
       "      <td>29120.000000</td>\n",
       "    </tr>\n",
       "    <tr>\n",
       "      <th>25%</th>\n",
       "      <td>38.000000</td>\n",
       "      <td>42120.000000</td>\n",
       "    </tr>\n",
       "    <tr>\n",
       "      <th>50%</th>\n",
       "      <td>39.500000</td>\n",
       "      <td>52000.000000</td>\n",
       "    </tr>\n",
       "    <tr>\n",
       "      <th>75%</th>\n",
       "      <td>47.250000</td>\n",
       "      <td>114400.000000</td>\n",
       "    </tr>\n",
       "    <tr>\n",
       "      <th>max</th>\n",
       "      <td>59.000000</td>\n",
       "      <td>135200.000000</td>\n",
       "    </tr>\n",
       "  </tbody>\n",
       "</table>\n",
       "</div>"
      ],
      "text/plain": [
       "             Age         Salary\n",
       "count  32.000000      32.000000\n",
       "mean   42.593750   66710.150000\n",
       "std     6.079364   35489.374059\n",
       "min    36.000000   29120.000000\n",
       "25%    38.000000   42120.000000\n",
       "50%    39.500000   52000.000000\n",
       "75%    47.250000  114400.000000\n",
       "max    59.000000  135200.000000"
      ]
     },
     "execution_count": 13,
     "metadata": {},
     "output_type": "execute_result"
    }
   ],
   "source": [
    "age_datanw_4_10.describe()"
   ]
  },
  {
   "cell_type": "code",
   "execution_count": 14,
   "metadata": {},
   "outputs": [
    {
     "name": "stdout",
     "output_type": "stream",
     "text": [
      "60 32 1336574501.8937855 1259495671.099355 1310025126.8423705 0.5419897390412814\n"
     ]
    }
   ],
   "source": [
    "age_wsize_4_10 = age_dataw_4_10.Salary.count()\n",
    "age_nwsize_4_10 = age_datanw_4_10.Salary.count()\n",
    "\n",
    "age_wmean_4_10 = 71004.27\n",
    "age_nwmean_4_10 = 66710.15\n",
    "\n",
    "age_wvar_4_10 = stats.tvar(age_dataw_4_10.Salary)\n",
    "age_nwvar_4_10 = stats.tvar(age_datanw_4_10.Salary)\n",
    "\n",
    "age_pooled_var_4_10 = ((age_wsize_4_10 - 1)*(age_wvar_4_10) + (age_nwsize_4_10 - 1)*(age_nwvar_4_10))/ (age_wsize_4_10 + age_nwsize_4_10 - 2)\n",
    "\n",
    "age_t_score_4_10 = (age_wmean_4_10 - age_nwmean_4_10)/ np.sqrt((age_pooled_var_4_10 / age_wsize_4_10) + (age_pooled_var_4_10 / age_nwsize_4_10))\n",
    "print(age_wsize_4_10, age_nwsize_4_10, age_wvar_4_10, age_nwvar_4_10, age_pooled_var_4_10, age_t_score_4_10)"
   ]
  },
  {
   "cell_type": "code",
   "execution_count": 15,
   "metadata": {},
   "outputs": [],
   "source": [
    "# T-Score = 0.542\n",
    "# Using the suggested p-calculator (T-Score = 0.542, DOF = 90, Two-Tailed Test)\n",
    "# p = 0.589 > common significance levels\n",
    "# We cannot reject the null hypothesis, thus there is no pay discrimination based on race for those older than 35."
   ]
  },
  {
   "cell_type": "markdown",
   "metadata": {},
   "source": [
    "COMPLETED HYPOTHESIS TESTING PRACTICAL EXAMPLE EXTRA PRACTICE 2 SEPT. 25, 2021"
   ]
  },
  {
   "cell_type": "markdown",
   "metadata": {},
   "source": [
    "HYPOTHESIS TESTING PRACTICAL EXAMPLE EXTRA PRACTICE 3"
   ]
  },
  {
   "cell_type": "code",
   "execution_count": 6,
   "metadata": {},
   "outputs": [
    {
     "data": {
      "text/plain": [
       "0     2011-08-15\n",
       "1     2013-11-11\n",
       "2     2012-11-05\n",
       "3     2014-07-07\n",
       "4     2014-11-10\n",
       "         ...    \n",
       "169   2014-09-29\n",
       "170   2012-05-14\n",
       "171   2015-03-30\n",
       "172   2014-11-10\n",
       "173   2015-02-16\n",
       "Name: Start_date, Length: 174, dtype: datetime64[ns]"
      ]
     },
     "execution_count": 6,
     "metadata": {},
     "output_type": "execute_result"
    }
   ],
   "source": [
    "# First change start date to a datetime data type\n",
    "pd.to_datetime(data_4_10.Start_date)"
   ]
  },
  {
   "cell_type": "code",
   "execution_count": 7,
   "metadata": {},
   "outputs": [
    {
     "data": {
      "text/html": [
       "<div>\n",
       "<style scoped>\n",
       "    .dataframe tbody tr th:only-of-type {\n",
       "        vertical-align: middle;\n",
       "    }\n",
       "\n",
       "    .dataframe tbody tr th {\n",
       "        vertical-align: top;\n",
       "    }\n",
       "\n",
       "    .dataframe thead th {\n",
       "        text-align: right;\n",
       "    }\n",
       "</style>\n",
       "<table border=\"1\" class=\"dataframe\">\n",
       "  <thead>\n",
       "    <tr style=\"text-align: right;\">\n",
       "      <th></th>\n",
       "      <th>Surname</th>\n",
       "      <th>Name</th>\n",
       "      <th>Age</th>\n",
       "      <th>Gender</th>\n",
       "      <th>Country</th>\n",
       "      <th>Ethnicity</th>\n",
       "      <th>Start_date</th>\n",
       "      <th>Department</th>\n",
       "      <th>Position</th>\n",
       "      <th>Salary</th>\n",
       "    </tr>\n",
       "  </thead>\n",
       "  <tbody>\n",
       "    <tr>\n",
       "      <th>17</th>\n",
       "      <td>Riordan</td>\n",
       "      <td>Michael</td>\n",
       "      <td>50</td>\n",
       "      <td>Male</td>\n",
       "      <td>United States</td>\n",
       "      <td>White</td>\n",
       "      <td>2006-01-09</td>\n",
       "      <td>Sales</td>\n",
       "      <td>Area Sales Manager</td>\n",
       "      <td>114400.0</td>\n",
       "    </tr>\n",
       "    <tr>\n",
       "      <th>149</th>\n",
       "      <td>Pitt</td>\n",
       "      <td>Brad</td>\n",
       "      <td>36</td>\n",
       "      <td>Male</td>\n",
       "      <td>United States</td>\n",
       "      <td>Black or African American</td>\n",
       "      <td>2007-11-05</td>\n",
       "      <td>Production</td>\n",
       "      <td>Production Technician I</td>\n",
       "      <td>35360.0</td>\n",
       "    </tr>\n",
       "    <tr>\n",
       "      <th>42</th>\n",
       "      <td>Alagbe</td>\n",
       "      <td>Trina</td>\n",
       "      <td>29</td>\n",
       "      <td>Female</td>\n",
       "      <td>United States</td>\n",
       "      <td>White</td>\n",
       "      <td>2008-01-07</td>\n",
       "      <td>Production</td>\n",
       "      <td>Production Technician I</td>\n",
       "      <td>43680.0</td>\n",
       "    </tr>\n",
       "    <tr>\n",
       "      <th>157</th>\n",
       "      <td>Brown</td>\n",
       "      <td>Mia</td>\n",
       "      <td>32</td>\n",
       "      <td>Female</td>\n",
       "      <td>United States</td>\n",
       "      <td>Black or African American</td>\n",
       "      <td>2008-10-27</td>\n",
       "      <td>Admin Offices</td>\n",
       "      <td>Accountant I</td>\n",
       "      <td>59280.0</td>\n",
       "    </tr>\n",
       "    <tr>\n",
       "      <th>153</th>\n",
       "      <td>Bramante</td>\n",
       "      <td>Elisa</td>\n",
       "      <td>34</td>\n",
       "      <td>Female</td>\n",
       "      <td>United States</td>\n",
       "      <td>Black or African American</td>\n",
       "      <td>2009-01-05</td>\n",
       "      <td>Production</td>\n",
       "      <td>Director of Operations</td>\n",
       "      <td>124800.0</td>\n",
       "    </tr>\n",
       "    <tr>\n",
       "      <th>...</th>\n",
       "      <td>...</td>\n",
       "      <td>...</td>\n",
       "      <td>...</td>\n",
       "      <td>...</td>\n",
       "      <td>...</td>\n",
       "      <td>...</td>\n",
       "      <td>...</td>\n",
       "      <td>...</td>\n",
       "      <td>...</td>\n",
       "      <td>...</td>\n",
       "    </tr>\n",
       "    <tr>\n",
       "      <th>110</th>\n",
       "      <td>Singh</td>\n",
       "      <td>Nan</td>\n",
       "      <td>29</td>\n",
       "      <td>Female</td>\n",
       "      <td>United States</td>\n",
       "      <td>White</td>\n",
       "      <td>2015-05-01</td>\n",
       "      <td>Admin Offices</td>\n",
       "      <td>Administrative Assistant</td>\n",
       "      <td>34444.8</td>\n",
       "    </tr>\n",
       "    <tr>\n",
       "      <th>59</th>\n",
       "      <td>Fernandes</td>\n",
       "      <td>Nilson</td>\n",
       "      <td>28</td>\n",
       "      <td>Male</td>\n",
       "      <td>United States</td>\n",
       "      <td>White</td>\n",
       "      <td>2015-05-11</td>\n",
       "      <td>Production</td>\n",
       "      <td>Production Technician I</td>\n",
       "      <td>37440.0</td>\n",
       "    </tr>\n",
       "    <tr>\n",
       "      <th>83</th>\n",
       "      <td>Gray</td>\n",
       "      <td>Elijiah</td>\n",
       "      <td>36</td>\n",
       "      <td>Male</td>\n",
       "      <td>United States</td>\n",
       "      <td>White</td>\n",
       "      <td>2015-06-02</td>\n",
       "      <td>Production</td>\n",
       "      <td>Production Manager</td>\n",
       "      <td>112320.0</td>\n",
       "    </tr>\n",
       "    <tr>\n",
       "      <th>108</th>\n",
       "      <td>LeBlanc</td>\n",
       "      <td>Brandon R</td>\n",
       "      <td>33</td>\n",
       "      <td>Male</td>\n",
       "      <td>United States</td>\n",
       "      <td>White</td>\n",
       "      <td>2016-01-05</td>\n",
       "      <td>Admin Offices</td>\n",
       "      <td>Shared Services Manager</td>\n",
       "      <td>114400.0</td>\n",
       "    </tr>\n",
       "    <tr>\n",
       "      <th>80</th>\n",
       "      <td>Butler</td>\n",
       "      <td>Webster L</td>\n",
       "      <td>34</td>\n",
       "      <td>Male</td>\n",
       "      <td>United States</td>\n",
       "      <td>White</td>\n",
       "      <td>2016-01-28</td>\n",
       "      <td>Production</td>\n",
       "      <td>Production Manager</td>\n",
       "      <td>114400.0</td>\n",
       "    </tr>\n",
       "  </tbody>\n",
       "</table>\n",
       "<p>174 rows × 10 columns</p>\n",
       "</div>"
      ],
      "text/plain": [
       "       Surname        Name  Age  Gender        Country  \\\n",
       "17     Riordan     Michael   50    Male  United States   \n",
       "149       Pitt        Brad   36    Male  United States   \n",
       "42      Alagbe       Trina   29  Female  United States   \n",
       "157      Brown         Mia   32  Female  United States   \n",
       "153   Bramante       Elisa   34  Female  United States   \n",
       "..         ...         ...  ...     ...            ...   \n",
       "110      Singh         Nan   29  Female  United States   \n",
       "59   Fernandes      Nilson   28    Male  United States   \n",
       "83        Gray     Elijiah   36    Male  United States   \n",
       "108    LeBlanc  Brandon R    33    Male  United States   \n",
       "80      Butler   Webster L   34    Male  United States   \n",
       "\n",
       "                     Ethnicity Start_date         Department  \\\n",
       "17                       White 2006-01-09              Sales   \n",
       "149  Black or African American 2007-11-05  Production          \n",
       "42                       White 2008-01-07  Production          \n",
       "157  Black or African American 2008-10-27      Admin Offices   \n",
       "153  Black or African American 2009-01-05  Production          \n",
       "..                         ...        ...                ...   \n",
       "110                      White 2015-05-01      Admin Offices   \n",
       "59                       White 2015-05-11  Production          \n",
       "83                       White 2015-06-02  Production          \n",
       "108                      White 2016-01-05      Admin Offices   \n",
       "80                       White 2016-01-28  Production          \n",
       "\n",
       "                     Position    Salary  \n",
       "17         Area Sales Manager  114400.0  \n",
       "149   Production Technician I   35360.0  \n",
       "42    Production Technician I   43680.0  \n",
       "157              Accountant I   59280.0  \n",
       "153    Director of Operations  124800.0  \n",
       "..                        ...       ...  \n",
       "110  Administrative Assistant   34444.8  \n",
       "59    Production Technician I   37440.0  \n",
       "83         Production Manager  112320.0  \n",
       "108   Shared Services Manager  114400.0  \n",
       "80         Production Manager  114400.0  \n",
       "\n",
       "[174 rows x 10 columns]"
      ]
     },
     "execution_count": 7,
     "metadata": {},
     "output_type": "execute_result"
    }
   ],
   "source": [
    "# TASK: Filter the employees by start date. Check gender and racial pay gap only looking at the 50 employees \n",
    "# that are working the longest in the firm.\n",
    "\n",
    "# Sort the employees by start date\n",
    "data_sorted_4_10 = data_4_10.sort_values(by = ['Start_date'])\n",
    "data_sorted_4_10"
   ]
  },
  {
   "cell_type": "code",
   "execution_count": 8,
   "metadata": {
    "scrolled": true
   },
   "outputs": [
    {
     "data": {
      "text/html": [
       "<div>\n",
       "<style scoped>\n",
       "    .dataframe tbody tr th:only-of-type {\n",
       "        vertical-align: middle;\n",
       "    }\n",
       "\n",
       "    .dataframe tbody tr th {\n",
       "        vertical-align: top;\n",
       "    }\n",
       "\n",
       "    .dataframe thead th {\n",
       "        text-align: right;\n",
       "    }\n",
       "</style>\n",
       "<table border=\"1\" class=\"dataframe\">\n",
       "  <thead>\n",
       "    <tr style=\"text-align: right;\">\n",
       "      <th></th>\n",
       "      <th>Surname</th>\n",
       "      <th>Name</th>\n",
       "      <th>Age</th>\n",
       "      <th>Gender</th>\n",
       "      <th>Country</th>\n",
       "      <th>Ethnicity</th>\n",
       "      <th>Start_date</th>\n",
       "      <th>Department</th>\n",
       "      <th>Position</th>\n",
       "      <th>Salary</th>\n",
       "    </tr>\n",
       "  </thead>\n",
       "  <tbody>\n",
       "    <tr>\n",
       "      <th>17</th>\n",
       "      <td>Riordan</td>\n",
       "      <td>Michael</td>\n",
       "      <td>50</td>\n",
       "      <td>Male</td>\n",
       "      <td>United States</td>\n",
       "      <td>White</td>\n",
       "      <td>2006-01-09</td>\n",
       "      <td>Sales</td>\n",
       "      <td>Area Sales Manager</td>\n",
       "      <td>114400.0</td>\n",
       "    </tr>\n",
       "    <tr>\n",
       "      <th>149</th>\n",
       "      <td>Pitt</td>\n",
       "      <td>Brad</td>\n",
       "      <td>36</td>\n",
       "      <td>Male</td>\n",
       "      <td>United States</td>\n",
       "      <td>Black or African American</td>\n",
       "      <td>2007-11-05</td>\n",
       "      <td>Production</td>\n",
       "      <td>Production Technician I</td>\n",
       "      <td>35360.0</td>\n",
       "    </tr>\n",
       "    <tr>\n",
       "      <th>42</th>\n",
       "      <td>Alagbe</td>\n",
       "      <td>Trina</td>\n",
       "      <td>29</td>\n",
       "      <td>Female</td>\n",
       "      <td>United States</td>\n",
       "      <td>White</td>\n",
       "      <td>2008-01-07</td>\n",
       "      <td>Production</td>\n",
       "      <td>Production Technician I</td>\n",
       "      <td>43680.0</td>\n",
       "    </tr>\n",
       "    <tr>\n",
       "      <th>157</th>\n",
       "      <td>Brown</td>\n",
       "      <td>Mia</td>\n",
       "      <td>32</td>\n",
       "      <td>Female</td>\n",
       "      <td>United States</td>\n",
       "      <td>Black or African American</td>\n",
       "      <td>2008-10-27</td>\n",
       "      <td>Admin Offices</td>\n",
       "      <td>Accountant I</td>\n",
       "      <td>59280.0</td>\n",
       "    </tr>\n",
       "    <tr>\n",
       "      <th>153</th>\n",
       "      <td>Bramante</td>\n",
       "      <td>Elisa</td>\n",
       "      <td>34</td>\n",
       "      <td>Female</td>\n",
       "      <td>United States</td>\n",
       "      <td>Black or African American</td>\n",
       "      <td>2009-01-05</td>\n",
       "      <td>Production</td>\n",
       "      <td>Director of Operations</td>\n",
       "      <td>124800.0</td>\n",
       "    </tr>\n",
       "    <tr>\n",
       "      <th>107</th>\n",
       "      <td>Foster-Baker</td>\n",
       "      <td>Amy</td>\n",
       "      <td>38</td>\n",
       "      <td>Female</td>\n",
       "      <td>United States</td>\n",
       "      <td>White</td>\n",
       "      <td>2009-01-05</td>\n",
       "      <td>Admin Offices</td>\n",
       "      <td>Sr. Accountant</td>\n",
       "      <td>72696.0</td>\n",
       "    </tr>\n",
       "    <tr>\n",
       "      <th>152</th>\n",
       "      <td>Sullivan</td>\n",
       "      <td>Kissy</td>\n",
       "      <td>39</td>\n",
       "      <td>Female</td>\n",
       "      <td>United States</td>\n",
       "      <td>Black or African American</td>\n",
       "      <td>2009-01-08</td>\n",
       "      <td>Production</td>\n",
       "      <td>Production Manager</td>\n",
       "      <td>114400.0</td>\n",
       "    </tr>\n",
       "    <tr>\n",
       "      <th>105</th>\n",
       "      <td>Zamora</td>\n",
       "      <td>Jennifer</td>\n",
       "      <td>38</td>\n",
       "      <td>Female</td>\n",
       "      <td>United States</td>\n",
       "      <td>White</td>\n",
       "      <td>2010-04-10</td>\n",
       "      <td>IT/IS</td>\n",
       "      <td>CIO</td>\n",
       "      <td>135200.0</td>\n",
       "    </tr>\n",
       "    <tr>\n",
       "      <th>63</th>\n",
       "      <td>Peterson</td>\n",
       "      <td>Kayla</td>\n",
       "      <td>44</td>\n",
       "      <td>Female</td>\n",
       "      <td>United States</td>\n",
       "      <td>White</td>\n",
       "      <td>2010-04-26</td>\n",
       "      <td>Production</td>\n",
       "      <td>Production Technician I</td>\n",
       "      <td>35360.0</td>\n",
       "    </tr>\n",
       "    <tr>\n",
       "      <th>96</th>\n",
       "      <td>Galia</td>\n",
       "      <td>Lisa</td>\n",
       "      <td>49</td>\n",
       "      <td>Female</td>\n",
       "      <td>United States</td>\n",
       "      <td>White</td>\n",
       "      <td>2010-05-01</td>\n",
       "      <td>IT/IS</td>\n",
       "      <td>IT Support</td>\n",
       "      <td>65312.0</td>\n",
       "    </tr>\n",
       "    <tr>\n",
       "      <th>84</th>\n",
       "      <td>Stanley</td>\n",
       "      <td>David</td>\n",
       "      <td>42</td>\n",
       "      <td>Male</td>\n",
       "      <td>United States</td>\n",
       "      <td>White</td>\n",
       "      <td>2010-07-20</td>\n",
       "      <td>Production</td>\n",
       "      <td>Production Manager</td>\n",
       "      <td>110240.0</td>\n",
       "    </tr>\n",
       "    <tr>\n",
       "      <th>18</th>\n",
       "      <td>Sahoo</td>\n",
       "      <td>Adil</td>\n",
       "      <td>31</td>\n",
       "      <td>Male</td>\n",
       "      <td>United States</td>\n",
       "      <td>White</td>\n",
       "      <td>2010-08-30</td>\n",
       "      <td>Production</td>\n",
       "      <td>Production Technician II</td>\n",
       "      <td>60320.0</td>\n",
       "    </tr>\n",
       "    <tr>\n",
       "      <th>131</th>\n",
       "      <td>Strong</td>\n",
       "      <td>Caitrin</td>\n",
       "      <td>28</td>\n",
       "      <td>Female</td>\n",
       "      <td>United States</td>\n",
       "      <td>Black or African American</td>\n",
       "      <td>2010-09-27</td>\n",
       "      <td>Sales</td>\n",
       "      <td>Area Sales Manager</td>\n",
       "      <td>112320.0</td>\n",
       "    </tr>\n",
       "    <tr>\n",
       "      <th>12</th>\n",
       "      <td>Costa</td>\n",
       "      <td>Latia</td>\n",
       "      <td>29</td>\n",
       "      <td>Female</td>\n",
       "      <td>United States</td>\n",
       "      <td>White</td>\n",
       "      <td>2011-01-10</td>\n",
       "      <td>Sales</td>\n",
       "      <td>Area Sales Manager</td>\n",
       "      <td>114400.0</td>\n",
       "    </tr>\n",
       "    <tr>\n",
       "      <th>166</th>\n",
       "      <td>Kretschmer</td>\n",
       "      <td>John</td>\n",
       "      <td>37</td>\n",
       "      <td>Male</td>\n",
       "      <td>United States</td>\n",
       "      <td>Asian</td>\n",
       "      <td>2011-01-10</td>\n",
       "      <td>Production</td>\n",
       "      <td>Production Technician I</td>\n",
       "      <td>43680.0</td>\n",
       "    </tr>\n",
       "    <tr>\n",
       "      <th>119</th>\n",
       "      <td>Stanford</td>\n",
       "      <td>Barbara M</td>\n",
       "      <td>35</td>\n",
       "      <td>Female</td>\n",
       "      <td>United States</td>\n",
       "      <td>Two or more races</td>\n",
       "      <td>2011-01-10</td>\n",
       "      <td>Production</td>\n",
       "      <td>Production Technician I</td>\n",
       "      <td>29120.0</td>\n",
       "    </tr>\n",
       "    <tr>\n",
       "      <th>120</th>\n",
       "      <td>Lindsay</td>\n",
       "      <td>Leonara</td>\n",
       "      <td>29</td>\n",
       "      <td>Female</td>\n",
       "      <td>United States</td>\n",
       "      <td>Two or more races</td>\n",
       "      <td>2011-01-21</td>\n",
       "      <td>IT/IS</td>\n",
       "      <td>IT Support</td>\n",
       "      <td>54080.0</td>\n",
       "    </tr>\n",
       "    <tr>\n",
       "      <th>112</th>\n",
       "      <td>Friedman</td>\n",
       "      <td>Gerry</td>\n",
       "      <td>48</td>\n",
       "      <td>Male</td>\n",
       "      <td>United States</td>\n",
       "      <td>Two or more races</td>\n",
       "      <td>2011-03-07</td>\n",
       "      <td>Sales</td>\n",
       "      <td>Area Sales Manager</td>\n",
       "      <td>115440.0</td>\n",
       "    </tr>\n",
       "    <tr>\n",
       "      <th>38</th>\n",
       "      <td>Beatrice</td>\n",
       "      <td>Courtney</td>\n",
       "      <td>47</td>\n",
       "      <td>Female</td>\n",
       "      <td>Australia</td>\n",
       "      <td>White</td>\n",
       "      <td>2011-04-04</td>\n",
       "      <td>Production</td>\n",
       "      <td>Production Technician I</td>\n",
       "      <td>45760.0</td>\n",
       "    </tr>\n",
       "    <tr>\n",
       "      <th>19</th>\n",
       "      <td>Blount</td>\n",
       "      <td>Dianna</td>\n",
       "      <td>27</td>\n",
       "      <td>Female</td>\n",
       "      <td>United States</td>\n",
       "      <td>White</td>\n",
       "      <td>2011-04-04</td>\n",
       "      <td>Production</td>\n",
       "      <td>Production Technician II</td>\n",
       "      <td>56160.0</td>\n",
       "    </tr>\n",
       "    <tr>\n",
       "      <th>22</th>\n",
       "      <td>Burkett</td>\n",
       "      <td>Benjamin</td>\n",
       "      <td>40</td>\n",
       "      <td>Male</td>\n",
       "      <td>United States</td>\n",
       "      <td>White</td>\n",
       "      <td>2011-04-04</td>\n",
       "      <td>Production</td>\n",
       "      <td>Production Technician II</td>\n",
       "      <td>54080.0</td>\n",
       "    </tr>\n",
       "    <tr>\n",
       "      <th>155</th>\n",
       "      <td>Foss</td>\n",
       "      <td>Jason</td>\n",
       "      <td>37</td>\n",
       "      <td>Male</td>\n",
       "      <td>United States</td>\n",
       "      <td>Black or African American</td>\n",
       "      <td>2011-04-15</td>\n",
       "      <td>IT/IS</td>\n",
       "      <td>IT Director</td>\n",
       "      <td>135200.0</td>\n",
       "    </tr>\n",
       "    <tr>\n",
       "      <th>140</th>\n",
       "      <td>Gaul</td>\n",
       "      <td>Barbara</td>\n",
       "      <td>34</td>\n",
       "      <td>Female</td>\n",
       "      <td>United States</td>\n",
       "      <td>Black or African American</td>\n",
       "      <td>2011-05-16</td>\n",
       "      <td>Production</td>\n",
       "      <td>Production Technician I</td>\n",
       "      <td>49920.0</td>\n",
       "    </tr>\n",
       "    <tr>\n",
       "      <th>50</th>\n",
       "      <td>Maurice</td>\n",
       "      <td>Shana</td>\n",
       "      <td>40</td>\n",
       "      <td>Female</td>\n",
       "      <td>United States</td>\n",
       "      <td>White</td>\n",
       "      <td>2011-05-31</td>\n",
       "      <td>Production</td>\n",
       "      <td>Production Technician I</td>\n",
       "      <td>41600.0</td>\n",
       "    </tr>\n",
       "    <tr>\n",
       "      <th>154</th>\n",
       "      <td>Soto</td>\n",
       "      <td>Julia</td>\n",
       "      <td>44</td>\n",
       "      <td>Female</td>\n",
       "      <td>United States</td>\n",
       "      <td>Black or African American</td>\n",
       "      <td>2011-06-10</td>\n",
       "      <td>IT/IS</td>\n",
       "      <td>IT Support</td>\n",
       "      <td>57179.2</td>\n",
       "    </tr>\n",
       "    <tr>\n",
       "      <th>46</th>\n",
       "      <td>Adinolfi</td>\n",
       "      <td>WilsonK</td>\n",
       "      <td>34</td>\n",
       "      <td>Male</td>\n",
       "      <td>United States</td>\n",
       "      <td>White</td>\n",
       "      <td>2011-07-05</td>\n",
       "      <td>Production</td>\n",
       "      <td>Production Technician I</td>\n",
       "      <td>41600.0</td>\n",
       "    </tr>\n",
       "    <tr>\n",
       "      <th>138</th>\n",
       "      <td>Jeannite</td>\n",
       "      <td>Tayana</td>\n",
       "      <td>31</td>\n",
       "      <td>Female</td>\n",
       "      <td>United States</td>\n",
       "      <td>Black or African American</td>\n",
       "      <td>2011-07-05</td>\n",
       "      <td>Production</td>\n",
       "      <td>Production Technician II</td>\n",
       "      <td>46800.0</td>\n",
       "    </tr>\n",
       "    <tr>\n",
       "      <th>115</th>\n",
       "      <td>Valentin</td>\n",
       "      <td>Jackie</td>\n",
       "      <td>26</td>\n",
       "      <td>Female</td>\n",
       "      <td>United States</td>\n",
       "      <td>Two or more races</td>\n",
       "      <td>2011-07-05</td>\n",
       "      <td>Sales</td>\n",
       "      <td>Area Sales Manager</td>\n",
       "      <td>114400.0</td>\n",
       "    </tr>\n",
       "    <tr>\n",
       "      <th>150</th>\n",
       "      <td>Gonzalez</td>\n",
       "      <td>Cayo</td>\n",
       "      <td>48</td>\n",
       "      <td>Male</td>\n",
       "      <td>United States</td>\n",
       "      <td>Black or African American</td>\n",
       "      <td>2011-07-11</td>\n",
       "      <td>Production</td>\n",
       "      <td>Production Technician I</td>\n",
       "      <td>33280.0</td>\n",
       "    </tr>\n",
       "    <tr>\n",
       "      <th>82</th>\n",
       "      <td>Albert</td>\n",
       "      <td>Michael</td>\n",
       "      <td>49</td>\n",
       "      <td>Male</td>\n",
       "      <td>United States</td>\n",
       "      <td>White</td>\n",
       "      <td>2011-08-01</td>\n",
       "      <td>Production</td>\n",
       "      <td>Production Manager</td>\n",
       "      <td>113360.0</td>\n",
       "    </tr>\n",
       "    <tr>\n",
       "      <th>0</th>\n",
       "      <td>Sweetwater</td>\n",
       "      <td>Alex</td>\n",
       "      <td>51</td>\n",
       "      <td>Male</td>\n",
       "      <td>United States</td>\n",
       "      <td>White</td>\n",
       "      <td>2011-08-15</td>\n",
       "      <td>Software Engineering</td>\n",
       "      <td>Software Engineering Manager</td>\n",
       "      <td>56160.0</td>\n",
       "    </tr>\n",
       "    <tr>\n",
       "      <th>127</th>\n",
       "      <td>Fraval</td>\n",
       "      <td>Maruk</td>\n",
       "      <td>54</td>\n",
       "      <td>Male</td>\n",
       "      <td>United States</td>\n",
       "      <td>Black or African American</td>\n",
       "      <td>2011-09-06</td>\n",
       "      <td>Sales</td>\n",
       "      <td>Area Sales Manager</td>\n",
       "      <td>114400.0</td>\n",
       "    </tr>\n",
       "    <tr>\n",
       "      <th>143</th>\n",
       "      <td>Cierpiszewski</td>\n",
       "      <td>Caroline</td>\n",
       "      <td>29</td>\n",
       "      <td>Female</td>\n",
       "      <td>Poland</td>\n",
       "      <td>Black or African American</td>\n",
       "      <td>2011-10-03</td>\n",
       "      <td>Production</td>\n",
       "      <td>Production Technician I</td>\n",
       "      <td>45760.0</td>\n",
       "    </tr>\n",
       "    <tr>\n",
       "      <th>20</th>\n",
       "      <td>Monkfish</td>\n",
       "      <td>Erasumus</td>\n",
       "      <td>25</td>\n",
       "      <td>Male</td>\n",
       "      <td>United States</td>\n",
       "      <td>White</td>\n",
       "      <td>2011-11-07</td>\n",
       "      <td>Production</td>\n",
       "      <td>Production Technician II</td>\n",
       "      <td>56160.0</td>\n",
       "    </tr>\n",
       "    <tr>\n",
       "      <th>116</th>\n",
       "      <td>Davis</td>\n",
       "      <td>Daniel</td>\n",
       "      <td>38</td>\n",
       "      <td>Male</td>\n",
       "      <td>Australia</td>\n",
       "      <td>Two or more races</td>\n",
       "      <td>2011-11-07</td>\n",
       "      <td>Production</td>\n",
       "      <td>Production Technician II</td>\n",
       "      <td>52000.0</td>\n",
       "    </tr>\n",
       "    <tr>\n",
       "      <th>33</th>\n",
       "      <td>Handschiegl</td>\n",
       "      <td>Joanne</td>\n",
       "      <td>40</td>\n",
       "      <td>Female</td>\n",
       "      <td>United States</td>\n",
       "      <td>White</td>\n",
       "      <td>2011-11-28</td>\n",
       "      <td>Production</td>\n",
       "      <td>Production Technician I</td>\n",
       "      <td>49920.0</td>\n",
       "    </tr>\n",
       "    <tr>\n",
       "      <th>163</th>\n",
       "      <td>Rivera</td>\n",
       "      <td>Haley</td>\n",
       "      <td>45</td>\n",
       "      <td>Female</td>\n",
       "      <td>United States</td>\n",
       "      <td>Asian</td>\n",
       "      <td>2011-11-28</td>\n",
       "      <td>Production</td>\n",
       "      <td>Production Technician I</td>\n",
       "      <td>45760.0</td>\n",
       "    </tr>\n",
       "    <tr>\n",
       "      <th>32</th>\n",
       "      <td>Fidelia</td>\n",
       "      <td>Libby</td>\n",
       "      <td>36</td>\n",
       "      <td>Female</td>\n",
       "      <td>United States</td>\n",
       "      <td>White</td>\n",
       "      <td>2012-01-09</td>\n",
       "      <td>Production</td>\n",
       "      <td>Production Technician I</td>\n",
       "      <td>49920.0</td>\n",
       "    </tr>\n",
       "    <tr>\n",
       "      <th>34</th>\n",
       "      <td>Anderson</td>\n",
       "      <td>Linda</td>\n",
       "      <td>40</td>\n",
       "      <td>Female</td>\n",
       "      <td>United States</td>\n",
       "      <td>White</td>\n",
       "      <td>2012-01-09</td>\n",
       "      <td>Production</td>\n",
       "      <td>Production Technician I</td>\n",
       "      <td>47840.0</td>\n",
       "    </tr>\n",
       "    <tr>\n",
       "      <th>123</th>\n",
       "      <td>Del Bosque</td>\n",
       "      <td>Keyla</td>\n",
       "      <td>38</td>\n",
       "      <td>Female</td>\n",
       "      <td>United States</td>\n",
       "      <td>Black or African American</td>\n",
       "      <td>2012-01-09</td>\n",
       "      <td>Software Engineering</td>\n",
       "      <td>Software Engineer</td>\n",
       "      <td>118809.6</td>\n",
       "    </tr>\n",
       "    <tr>\n",
       "      <th>129</th>\n",
       "      <td>Potts</td>\n",
       "      <td>Xana</td>\n",
       "      <td>29</td>\n",
       "      <td>Female</td>\n",
       "      <td>United States</td>\n",
       "      <td>Black or African American</td>\n",
       "      <td>2012-01-09</td>\n",
       "      <td>Sales</td>\n",
       "      <td>Area Sales Manager</td>\n",
       "      <td>114400.0</td>\n",
       "    </tr>\n",
       "    <tr>\n",
       "      <th>122</th>\n",
       "      <td>Monroe</td>\n",
       "      <td>Peter</td>\n",
       "      <td>31</td>\n",
       "      <td>Male</td>\n",
       "      <td>France</td>\n",
       "      <td>Hispanic</td>\n",
       "      <td>2012-02-15</td>\n",
       "      <td>IT/IS</td>\n",
       "      <td>IT Manager - Infra</td>\n",
       "      <td>131040.0</td>\n",
       "    </tr>\n",
       "    <tr>\n",
       "      <th>73</th>\n",
       "      <td>Sparks</td>\n",
       "      <td>Taylor</td>\n",
       "      <td>49</td>\n",
       "      <td>Female</td>\n",
       "      <td>United States</td>\n",
       "      <td>White</td>\n",
       "      <td>2012-02-20</td>\n",
       "      <td>Production</td>\n",
       "      <td>Production Technician I</td>\n",
       "      <td>33280.0</td>\n",
       "    </tr>\n",
       "    <tr>\n",
       "      <th>35</th>\n",
       "      <td>Ferreira</td>\n",
       "      <td>Violeta</td>\n",
       "      <td>31</td>\n",
       "      <td>Female</td>\n",
       "      <td>United States</td>\n",
       "      <td>White</td>\n",
       "      <td>2012-02-20</td>\n",
       "      <td>Production</td>\n",
       "      <td>Production Technician I</td>\n",
       "      <td>47840.0</td>\n",
       "    </tr>\n",
       "    <tr>\n",
       "      <th>13</th>\n",
       "      <td>Dietrich</td>\n",
       "      <td>Jenna</td>\n",
       "      <td>30</td>\n",
       "      <td>Female</td>\n",
       "      <td>United States</td>\n",
       "      <td>White</td>\n",
       "      <td>2012-02-20</td>\n",
       "      <td>Sales</td>\n",
       "      <td>Area Sales Manager</td>\n",
       "      <td>114400.0</td>\n",
       "    </tr>\n",
       "    <tr>\n",
       "      <th>117</th>\n",
       "      <td>Barone</td>\n",
       "      <td>Francesco A</td>\n",
       "      <td>34</td>\n",
       "      <td>Male</td>\n",
       "      <td>United States</td>\n",
       "      <td>Two or more races</td>\n",
       "      <td>2012-02-20</td>\n",
       "      <td>Production</td>\n",
       "      <td>Production Technician I</td>\n",
       "      <td>34860.8</td>\n",
       "    </tr>\n",
       "    <tr>\n",
       "      <th>135</th>\n",
       "      <td>Burke</td>\n",
       "      <td>Joelle</td>\n",
       "      <td>37</td>\n",
       "      <td>Female</td>\n",
       "      <td>United States</td>\n",
       "      <td>Black or African American</td>\n",
       "      <td>2012-03-05</td>\n",
       "      <td>Production</td>\n",
       "      <td>Production Technician II</td>\n",
       "      <td>52000.0</td>\n",
       "    </tr>\n",
       "    <tr>\n",
       "      <th>160</th>\n",
       "      <td>Villanueva</td>\n",
       "      <td>Noah</td>\n",
       "      <td>28</td>\n",
       "      <td>Male</td>\n",
       "      <td>United States</td>\n",
       "      <td>Asian</td>\n",
       "      <td>2012-03-05</td>\n",
       "      <td>Sales</td>\n",
       "      <td>Area Sales Manager</td>\n",
       "      <td>116480.0</td>\n",
       "    </tr>\n",
       "    <tr>\n",
       "      <th>67</th>\n",
       "      <td>Bernstein</td>\n",
       "      <td>Sean</td>\n",
       "      <td>47</td>\n",
       "      <td>Male</td>\n",
       "      <td>United States</td>\n",
       "      <td>White</td>\n",
       "      <td>2012-04-02</td>\n",
       "      <td>Production</td>\n",
       "      <td>Production Technician I</td>\n",
       "      <td>33280.0</td>\n",
       "    </tr>\n",
       "    <tr>\n",
       "      <th>66</th>\n",
       "      <td>Dobrin</td>\n",
       "      <td>Denisa S</td>\n",
       "      <td>31</td>\n",
       "      <td>Female</td>\n",
       "      <td>United States</td>\n",
       "      <td>White</td>\n",
       "      <td>2012-04-02</td>\n",
       "      <td>Production</td>\n",
       "      <td>Production Technician I</td>\n",
       "      <td>34840.0</td>\n",
       "    </tr>\n",
       "  </tbody>\n",
       "</table>\n",
       "</div>"
      ],
      "text/plain": [
       "           Surname         Name  Age  Gender        Country  \\\n",
       "17         Riordan      Michael   50    Male  United States   \n",
       "149           Pitt         Brad   36    Male  United States   \n",
       "42          Alagbe        Trina   29  Female  United States   \n",
       "157          Brown          Mia   32  Female  United States   \n",
       "153       Bramante        Elisa   34  Female  United States   \n",
       "107   Foster-Baker          Amy   38  Female  United States   \n",
       "152       Sullivan        Kissy   39  Female  United States   \n",
       "105         Zamora     Jennifer   38  Female  United States   \n",
       "63        Peterson        Kayla   44  Female  United States   \n",
       "96           Galia         Lisa   49  Female  United States   \n",
       "84         Stanley        David   42    Male  United States   \n",
       "18           Sahoo         Adil   31    Male  United States   \n",
       "131         Strong      Caitrin   28  Female  United States   \n",
       "12           Costa        Latia   29  Female  United States   \n",
       "166     Kretschmer         John   37    Male  United States   \n",
       "119       Stanford    Barbara M   35  Female  United States   \n",
       "120        Lindsay      Leonara   29  Female  United States   \n",
       "112       Friedman        Gerry   48    Male  United States   \n",
       "38        Beatrice     Courtney   47  Female      Australia   \n",
       "19          Blount       Dianna   27  Female  United States   \n",
       "22         Burkett     Benjamin   40    Male  United States   \n",
       "155           Foss        Jason   37    Male  United States   \n",
       "140           Gaul      Barbara   34  Female  United States   \n",
       "50         Maurice        Shana   40  Female  United States   \n",
       "154           Soto        Julia   44  Female  United States   \n",
       "46        Adinolfi      WilsonK   34    Male  United States   \n",
       "138       Jeannite       Tayana   31  Female  United States   \n",
       "115       Valentin       Jackie   26  Female  United States   \n",
       "150       Gonzalez         Cayo   48    Male  United States   \n",
       "82          Albert      Michael   49    Male  United States   \n",
       "0       Sweetwater         Alex   51    Male  United States   \n",
       "127         Fraval        Maruk   54    Male  United States   \n",
       "143  Cierpiszewski     Caroline   29  Female         Poland   \n",
       "20        Monkfish     Erasumus   25    Male  United States   \n",
       "116          Davis       Daniel   38    Male      Australia   \n",
       "33     Handschiegl       Joanne   40  Female  United States   \n",
       "163         Rivera        Haley   45  Female  United States   \n",
       "32         Fidelia        Libby   36  Female  United States   \n",
       "34        Anderson        Linda   40  Female  United States   \n",
       "123     Del Bosque        Keyla   38  Female  United States   \n",
       "129          Potts         Xana   29  Female  United States   \n",
       "122         Monroe        Peter   31    Male         France   \n",
       "73          Sparks       Taylor   49  Female  United States   \n",
       "35        Ferreira      Violeta   31  Female  United States   \n",
       "13        Dietrich        Jenna   30  Female  United States   \n",
       "117         Barone  Francesco A   34    Male  United States   \n",
       "135          Burke       Joelle   37  Female  United States   \n",
       "160     Villanueva         Noah   28    Male  United States   \n",
       "67       Bernstein         Sean   47    Male  United States   \n",
       "66          Dobrin     Denisa S   31  Female  United States   \n",
       "\n",
       "                     Ethnicity Start_date                 Department  \\\n",
       "17                       White 2006-01-09                      Sales   \n",
       "149  Black or African American 2007-11-05          Production          \n",
       "42                       White 2008-01-07          Production          \n",
       "157  Black or African American 2008-10-27              Admin Offices   \n",
       "153  Black or African American 2009-01-05          Production          \n",
       "107                      White 2009-01-05              Admin Offices   \n",
       "152  Black or African American 2009-01-08          Production          \n",
       "105                      White 2010-04-10                      IT/IS   \n",
       "63                       White 2010-04-26          Production          \n",
       "96                       White 2010-05-01                      IT/IS   \n",
       "84                       White 2010-07-20          Production          \n",
       "18                       White 2010-08-30          Production          \n",
       "131  Black or African American 2010-09-27                      Sales   \n",
       "12                       White 2011-01-10                      Sales   \n",
       "166                      Asian 2011-01-10          Production          \n",
       "119          Two or more races 2011-01-10          Production          \n",
       "120          Two or more races 2011-01-21                      IT/IS   \n",
       "112          Two or more races 2011-03-07                      Sales   \n",
       "38                       White 2011-04-04          Production          \n",
       "19                       White 2011-04-04          Production          \n",
       "22                       White 2011-04-04          Production          \n",
       "155  Black or African American 2011-04-15                      IT/IS   \n",
       "140  Black or African American 2011-05-16          Production          \n",
       "50                       White 2011-05-31          Production          \n",
       "154  Black or African American 2011-06-10                      IT/IS   \n",
       "46                       White 2011-07-05          Production          \n",
       "138  Black or African American 2011-07-05          Production          \n",
       "115          Two or more races 2011-07-05                      Sales   \n",
       "150  Black or African American 2011-07-11          Production          \n",
       "82                       White 2011-08-01          Production          \n",
       "0                        White 2011-08-15  Software Engineering        \n",
       "127  Black or African American 2011-09-06                      Sales   \n",
       "143  Black or African American 2011-10-03          Production          \n",
       "20                       White 2011-11-07          Production          \n",
       "116          Two or more races 2011-11-07          Production          \n",
       "33                       White 2011-11-28          Production          \n",
       "163                      Asian 2011-11-28          Production          \n",
       "32                       White 2012-01-09          Production          \n",
       "34                       White 2012-01-09          Production          \n",
       "123  Black or African American 2012-01-09       Software Engineering   \n",
       "129  Black or African American 2012-01-09                      Sales   \n",
       "122                   Hispanic 2012-02-15                      IT/IS   \n",
       "73                       White 2012-02-20          Production          \n",
       "35                       White 2012-02-20          Production          \n",
       "13                       White 2012-02-20                      Sales   \n",
       "117          Two or more races 2012-02-20          Production          \n",
       "135  Black or African American 2012-03-05          Production          \n",
       "160                      Asian 2012-03-05                      Sales   \n",
       "67                       White 2012-04-02          Production          \n",
       "66                       White 2012-04-02          Production          \n",
       "\n",
       "                         Position    Salary  \n",
       "17             Area Sales Manager  114400.0  \n",
       "149       Production Technician I   35360.0  \n",
       "42        Production Technician I   43680.0  \n",
       "157                  Accountant I   59280.0  \n",
       "153        Director of Operations  124800.0  \n",
       "107                Sr. Accountant   72696.0  \n",
       "152            Production Manager  114400.0  \n",
       "105                           CIO  135200.0  \n",
       "63        Production Technician I   35360.0  \n",
       "96                     IT Support   65312.0  \n",
       "84             Production Manager  110240.0  \n",
       "18       Production Technician II   60320.0  \n",
       "131            Area Sales Manager  112320.0  \n",
       "12             Area Sales Manager  114400.0  \n",
       "166       Production Technician I   43680.0  \n",
       "119       Production Technician I   29120.0  \n",
       "120                    IT Support   54080.0  \n",
       "112            Area Sales Manager  115440.0  \n",
       "38        Production Technician I   45760.0  \n",
       "19       Production Technician II   56160.0  \n",
       "22       Production Technician II   54080.0  \n",
       "155                   IT Director  135200.0  \n",
       "140       Production Technician I   49920.0  \n",
       "50        Production Technician I   41600.0  \n",
       "154                    IT Support   57179.2  \n",
       "46        Production Technician I   41600.0  \n",
       "138      Production Technician II   46800.0  \n",
       "115            Area Sales Manager  114400.0  \n",
       "150       Production Technician I   33280.0  \n",
       "82             Production Manager  113360.0  \n",
       "0    Software Engineering Manager   56160.0  \n",
       "127            Area Sales Manager  114400.0  \n",
       "143       Production Technician I   45760.0  \n",
       "20       Production Technician II   56160.0  \n",
       "116      Production Technician II   52000.0  \n",
       "33        Production Technician I   49920.0  \n",
       "163       Production Technician I   45760.0  \n",
       "32        Production Technician I   49920.0  \n",
       "34        Production Technician I   47840.0  \n",
       "123             Software Engineer  118809.6  \n",
       "129            Area Sales Manager  114400.0  \n",
       "122            IT Manager - Infra  131040.0  \n",
       "73        Production Technician I   33280.0  \n",
       "35        Production Technician I   47840.0  \n",
       "13             Area Sales Manager  114400.0  \n",
       "117       Production Technician I   34860.8  \n",
       "135      Production Technician II   52000.0  \n",
       "160            Area Sales Manager  116480.0  \n",
       "67        Production Technician I   33280.0  \n",
       "66        Production Technician I   34840.0  "
      ]
     },
     "execution_count": 8,
     "metadata": {},
     "output_type": "execute_result"
    }
   ],
   "source": [
    "# Slice the 50 employees who have worked at the firm longest\n",
    "exp_data_4_10 = data_sorted_4_10[0:50]\n",
    "exp_data_4_10"
   ]
  },
  {
   "cell_type": "code",
   "execution_count": 19,
   "metadata": {},
   "outputs": [
    {
     "data": {
      "text/html": [
       "<div>\n",
       "<style scoped>\n",
       "    .dataframe tbody tr th:only-of-type {\n",
       "        vertical-align: middle;\n",
       "    }\n",
       "\n",
       "    .dataframe tbody tr th {\n",
       "        vertical-align: top;\n",
       "    }\n",
       "\n",
       "    .dataframe thead th {\n",
       "        text-align: right;\n",
       "    }\n",
       "</style>\n",
       "<table border=\"1\" class=\"dataframe\">\n",
       "  <thead>\n",
       "    <tr style=\"text-align: right;\">\n",
       "      <th></th>\n",
       "      <th>Surname</th>\n",
       "      <th>Name</th>\n",
       "      <th>Age</th>\n",
       "      <th>Gender</th>\n",
       "      <th>Country</th>\n",
       "      <th>Ethnicity</th>\n",
       "      <th>Start_date</th>\n",
       "      <th>Department</th>\n",
       "      <th>Position</th>\n",
       "      <th>Salary</th>\n",
       "    </tr>\n",
       "  </thead>\n",
       "  <tbody>\n",
       "    <tr>\n",
       "      <th>42</th>\n",
       "      <td>Alagbe</td>\n",
       "      <td>Trina</td>\n",
       "      <td>29</td>\n",
       "      <td>Female</td>\n",
       "      <td>United States</td>\n",
       "      <td>White</td>\n",
       "      <td>2008-01-07</td>\n",
       "      <td>Production</td>\n",
       "      <td>Production Technician I</td>\n",
       "      <td>43680.0</td>\n",
       "    </tr>\n",
       "    <tr>\n",
       "      <th>157</th>\n",
       "      <td>Brown</td>\n",
       "      <td>Mia</td>\n",
       "      <td>32</td>\n",
       "      <td>Female</td>\n",
       "      <td>United States</td>\n",
       "      <td>Black or African American</td>\n",
       "      <td>2008-10-27</td>\n",
       "      <td>Admin Offices</td>\n",
       "      <td>Accountant I</td>\n",
       "      <td>59280.0</td>\n",
       "    </tr>\n",
       "    <tr>\n",
       "      <th>153</th>\n",
       "      <td>Bramante</td>\n",
       "      <td>Elisa</td>\n",
       "      <td>34</td>\n",
       "      <td>Female</td>\n",
       "      <td>United States</td>\n",
       "      <td>Black or African American</td>\n",
       "      <td>2009-01-05</td>\n",
       "      <td>Production</td>\n",
       "      <td>Director of Operations</td>\n",
       "      <td>124800.0</td>\n",
       "    </tr>\n",
       "    <tr>\n",
       "      <th>107</th>\n",
       "      <td>Foster-Baker</td>\n",
       "      <td>Amy</td>\n",
       "      <td>38</td>\n",
       "      <td>Female</td>\n",
       "      <td>United States</td>\n",
       "      <td>White</td>\n",
       "      <td>2009-01-05</td>\n",
       "      <td>Admin Offices</td>\n",
       "      <td>Sr. Accountant</td>\n",
       "      <td>72696.0</td>\n",
       "    </tr>\n",
       "    <tr>\n",
       "      <th>152</th>\n",
       "      <td>Sullivan</td>\n",
       "      <td>Kissy</td>\n",
       "      <td>39</td>\n",
       "      <td>Female</td>\n",
       "      <td>United States</td>\n",
       "      <td>Black or African American</td>\n",
       "      <td>2009-01-08</td>\n",
       "      <td>Production</td>\n",
       "      <td>Production Manager</td>\n",
       "      <td>114400.0</td>\n",
       "    </tr>\n",
       "  </tbody>\n",
       "</table>\n",
       "</div>"
      ],
      "text/plain": [
       "          Surname   Name  Age  Gender        Country  \\\n",
       "42         Alagbe  Trina   29  Female  United States   \n",
       "157         Brown    Mia   32  Female  United States   \n",
       "153      Bramante  Elisa   34  Female  United States   \n",
       "107  Foster-Baker    Amy   38  Female  United States   \n",
       "152      Sullivan  Kissy   39  Female  United States   \n",
       "\n",
       "                     Ethnicity Start_date         Department  \\\n",
       "42                       White 2008-01-07  Production          \n",
       "157  Black or African American 2008-10-27      Admin Offices   \n",
       "153  Black or African American 2009-01-05  Production          \n",
       "107                      White 2009-01-05      Admin Offices   \n",
       "152  Black or African American 2009-01-08  Production          \n",
       "\n",
       "                    Position    Salary  \n",
       "42   Production Technician I   43680.0  \n",
       "157             Accountant I   59280.0  \n",
       "153   Director of Operations  124800.0  \n",
       "107           Sr. Accountant   72696.0  \n",
       "152       Production Manager  114400.0  "
      ]
     },
     "execution_count": 19,
     "metadata": {},
     "output_type": "execute_result"
    }
   ],
   "source": [
    "# Seperate employees by Gender\n",
    "exp_data_4_10_m = exp_data_4_10.loc[exp_data_4_10['Gender'] == 'Male']\n",
    "exp_data_4_10_f = exp_data_4_10.loc[exp_data_4_10['Gender'] != 'Male']\n",
    "exp_data_4_10_f.head()"
   ]
  },
  {
   "cell_type": "code",
   "execution_count": 21,
   "metadata": {},
   "outputs": [
    {
     "name": "stdout",
     "output_type": "stream",
     "text": [
      "19 31 1475233288.9225733 1125016402.7898493 1256347735.0896208 0.751977435056673\n"
     ]
    }
   ],
   "source": [
    "m_size_4_10 = exp_data_4_10_m.Salary.count()\n",
    "f_size_4_10 = exp_data_4_10_f.Salary.count()\n",
    "\n",
    "m_mean_4_10 = statistics.mean(exp_data_4_10_m.Salary)\n",
    "f_mean_4_10 = statistics.mean(exp_data_4_10_f.Salary)\n",
    "\n",
    "m_var_4_10 = stats.tvar(exp_data_4_10_m.Salary)\n",
    "f_var_4_10 = stats.tvar(exp_data_4_10_f.Salary)\n",
    "\n",
    "exp_pooled_var_4_10 = ((m_size_4_10 - 1)*(m_var_4_10) + (f_size_4_10 - 1)*(f_var_4_10))/ (m_size_4_10 + f_size_4_10 - 2)\n",
    "\n",
    "exp_t_score_4_10 = (m_mean_4_10 - f_mean_4_10)/ np.sqrt((exp_pooled_var_4_10 / m_size_4_10) + (exp_pooled_var_4_10 / f_size_4_10))\n",
    "print(m_size_4_10, f_size_4_10, m_var_4_10, f_var_4_10, exp_pooled_var_4_10, exp_t_score_4_10)"
   ]
  },
  {
   "cell_type": "code",
   "execution_count": 22,
   "metadata": {},
   "outputs": [],
   "source": [
    "# T-Score = 0.75\n",
    "# Using the p-calculator suggested by course (T-Score = 0.75, DOF = 48, Two-Tailed Test)\n",
    "# p = 0.457 > common significance values\n",
    "# We cannot reject our null hypothesis, thus there is no gender pay gap among the employees working at the firm longest"
   ]
  },
  {
   "cell_type": "code",
   "execution_count": 9,
   "metadata": {},
   "outputs": [
    {
     "data": {
      "text/html": [
       "<div>\n",
       "<style scoped>\n",
       "    .dataframe tbody tr th:only-of-type {\n",
       "        vertical-align: middle;\n",
       "    }\n",
       "\n",
       "    .dataframe tbody tr th {\n",
       "        vertical-align: top;\n",
       "    }\n",
       "\n",
       "    .dataframe thead th {\n",
       "        text-align: right;\n",
       "    }\n",
       "</style>\n",
       "<table border=\"1\" class=\"dataframe\">\n",
       "  <thead>\n",
       "    <tr style=\"text-align: right;\">\n",
       "      <th></th>\n",
       "      <th>Surname</th>\n",
       "      <th>Name</th>\n",
       "      <th>Age</th>\n",
       "      <th>Gender</th>\n",
       "      <th>Country</th>\n",
       "      <th>Ethnicity</th>\n",
       "      <th>Start_date</th>\n",
       "      <th>Department</th>\n",
       "      <th>Position</th>\n",
       "      <th>Salary</th>\n",
       "    </tr>\n",
       "  </thead>\n",
       "  <tbody>\n",
       "    <tr>\n",
       "      <th>149</th>\n",
       "      <td>Pitt</td>\n",
       "      <td>Brad</td>\n",
       "      <td>36</td>\n",
       "      <td>Male</td>\n",
       "      <td>United States</td>\n",
       "      <td>Black or African American</td>\n",
       "      <td>2007-11-05</td>\n",
       "      <td>Production</td>\n",
       "      <td>Production Technician I</td>\n",
       "      <td>35360.0</td>\n",
       "    </tr>\n",
       "    <tr>\n",
       "      <th>157</th>\n",
       "      <td>Brown</td>\n",
       "      <td>Mia</td>\n",
       "      <td>32</td>\n",
       "      <td>Female</td>\n",
       "      <td>United States</td>\n",
       "      <td>Black or African American</td>\n",
       "      <td>2008-10-27</td>\n",
       "      <td>Admin Offices</td>\n",
       "      <td>Accountant I</td>\n",
       "      <td>59280.0</td>\n",
       "    </tr>\n",
       "    <tr>\n",
       "      <th>153</th>\n",
       "      <td>Bramante</td>\n",
       "      <td>Elisa</td>\n",
       "      <td>34</td>\n",
       "      <td>Female</td>\n",
       "      <td>United States</td>\n",
       "      <td>Black or African American</td>\n",
       "      <td>2009-01-05</td>\n",
       "      <td>Production</td>\n",
       "      <td>Director of Operations</td>\n",
       "      <td>124800.0</td>\n",
       "    </tr>\n",
       "    <tr>\n",
       "      <th>152</th>\n",
       "      <td>Sullivan</td>\n",
       "      <td>Kissy</td>\n",
       "      <td>39</td>\n",
       "      <td>Female</td>\n",
       "      <td>United States</td>\n",
       "      <td>Black or African American</td>\n",
       "      <td>2009-01-08</td>\n",
       "      <td>Production</td>\n",
       "      <td>Production Manager</td>\n",
       "      <td>114400.0</td>\n",
       "    </tr>\n",
       "    <tr>\n",
       "      <th>131</th>\n",
       "      <td>Strong</td>\n",
       "      <td>Caitrin</td>\n",
       "      <td>28</td>\n",
       "      <td>Female</td>\n",
       "      <td>United States</td>\n",
       "      <td>Black or African American</td>\n",
       "      <td>2010-09-27</td>\n",
       "      <td>Sales</td>\n",
       "      <td>Area Sales Manager</td>\n",
       "      <td>112320.0</td>\n",
       "    </tr>\n",
       "  </tbody>\n",
       "</table>\n",
       "</div>"
      ],
      "text/plain": [
       "      Surname     Name  Age  Gender        Country                  Ethnicity  \\\n",
       "149      Pitt     Brad   36    Male  United States  Black or African American   \n",
       "157     Brown      Mia   32  Female  United States  Black or African American   \n",
       "153  Bramante    Elisa   34  Female  United States  Black or African American   \n",
       "152  Sullivan    Kissy   39  Female  United States  Black or African American   \n",
       "131    Strong  Caitrin   28  Female  United States  Black or African American   \n",
       "\n",
       "    Start_date         Department                 Position    Salary  \n",
       "149 2007-11-05  Production         Production Technician I   35360.0  \n",
       "157 2008-10-27      Admin Offices             Accountant I   59280.0  \n",
       "153 2009-01-05  Production          Director of Operations  124800.0  \n",
       "152 2009-01-08  Production              Production Manager  114400.0  \n",
       "131 2010-09-27              Sales       Area Sales Manager  112320.0  "
      ]
     },
     "execution_count": 9,
     "metadata": {},
     "output_type": "execute_result"
    }
   ],
   "source": [
    "# The next test is on race\n",
    "# Divide the employees based on if they are white or not.\n",
    "\n",
    "exp_dataw_4_10 = exp_data_4_10.loc[exp_data_4_10['Ethnicity'] == 'White']\n",
    "exp_dataw_4_10.head()\n",
    "exp_datanw_4_10 = exp_data_4_10.loc[exp_data_4_10['Ethnicity'] != \"White\"]\n",
    "exp_datanw_4_10.head()"
   ]
  },
  {
   "cell_type": "code",
   "execution_count": 10,
   "metadata": {},
   "outputs": [
    {
     "name": "stdout",
     "output_type": "stream",
     "text": [
      "25 25 993046631.8933333 1462329802.0864 1227688216.9898665 -1.3035324351924593\n"
     ]
    }
   ],
   "source": [
    "exp_wsize_4_10 = exp_dataw_4_10.Salary.count()\n",
    "exp_nwsize_4_10 = exp_datanw_4_10.Salary.count()\n",
    "\n",
    "exp_wmean_4_10 = statistics.mean(exp_dataw_4_10.Salary)\n",
    "exp_nwmean_4_10 = statistics.mean(exp_datanw_4_10.Salary)\n",
    "\n",
    "exp_wvar_4_10 = stats.tvar(exp_dataw_4_10.Salary)\n",
    "exp_nwvar_4_10 = stats.tvar(exp_datanw_4_10.Salary)\n",
    "\n",
    "exp_pooled_var_4_10 = ((exp_wsize_4_10 - 1)*(exp_wvar_4_10) + (exp_nwsize_4_10 - 1)*(exp_nwvar_4_10))/ (exp_wsize_4_10 + exp_nwsize_4_10 - 2)\n",
    "\n",
    "exp_t_score_4_10 = (exp_wmean_4_10 - exp_nwmean_4_10)/ np.sqrt((exp_pooled_var_4_10 / exp_wsize_4_10) + (exp_pooled_var_4_10 / exp_nwsize_4_10))\n",
    "print(exp_wsize_4_10, exp_nwsize_4_10, exp_wvar_4_10, exp_nwvar_4_10, exp_pooled_var_4_10, exp_t_score_4_10)"
   ]
  },
  {
   "cell_type": "code",
   "execution_count": 11,
   "metadata": {},
   "outputs": [],
   "source": [
    "# T-Score = 1.304\n",
    "# Using the p-calculator suggested by course (T-Score = 1.304, DOF = 48, Two-Tailed Test)\n",
    "# p = 0.20 > 0.1\n",
    "# The null hypothesis cannot be rejected, thus there is no pay gap based on race in the employees working the \n",
    "# longest at the firm"
   ]
  },
  {
   "cell_type": "markdown",
   "metadata": {},
   "source": [
    "COMPLETED HYPOTHESIS TESTING PRACTICAL EXAMPLE EXTRA PRACTICE 3 SEPT. 25, 2021"
   ]
  },
  {
   "cell_type": "markdown",
   "metadata": {},
   "source": [
    "COMPLETED STATISTICS/PART 2 OF THE COURSE SEPT. 25, 2021"
   ]
  },
  {
   "cell_type": "markdown",
   "metadata": {},
   "source": [
    "# SECTION 3: SQL\n",
    "\n",
    "Relational Database Theory and an Introduction to SQL (Section 17) COMPLETED Lectures and Quizzes Oct. 2, 2021"
   ]
  },
  {
   "cell_type": "markdown",
   "metadata": {},
   "source": [
    "Download and Install MySQL Server and MySQL Workbench COMPLETED Oct. 2, 2021"
   ]
  },
  {
   "cell_type": "markdown",
   "metadata": {},
   "source": [
    "SQL - Install and Get to Know MySQL (Section 18) COMPLETED Lectures, Quizzes, and Installation Oct. 2, 2021"
   ]
  },
  {
   "cell_type": "markdown",
   "metadata": {},
   "source": [
    "SQL - Best SQL Practices (Section 19) COMPLETED Lectures and Quizzes Oct. 3, 2021"
   ]
  },
  {
   "cell_type": "markdown",
   "metadata": {},
   "source": [
    "SQL - Loading 'employees' Database (Section 20) COMPLETED Oct.3, 2021"
   ]
  },
  {
   "cell_type": "markdown",
   "metadata": {},
   "source": [
    "SQL - Using Select - From Exercise\n",
    "\n",
    "    Select the information from the “dept_no” column of the “departments” table.\n",
    "\n",
    "    Select all data from the “departments” table."
   ]
  },
  {
   "cell_type": "code",
   "execution_count": 2,
   "metadata": {},
   "outputs": [],
   "source": [
    "# SELECT dept_no FROM departments;\n",
    "\n",
    "# SELECT * FROM departments;"
   ]
  },
  {
   "cell_type": "markdown",
   "metadata": {},
   "source": [
    "    COMPLETED EXERCISE Oct. 9, 2021"
   ]
  },
  {
   "cell_type": "markdown",
   "metadata": {},
   "source": [
    "SQL - Using WHERE - Exercise\n",
    "\n",
    "    Select all people from the “employees” table whose first name is “Elvis”."
   ]
  },
  {
   "cell_type": "code",
   "execution_count": 3,
   "metadata": {},
   "outputs": [],
   "source": [
    "# SELECT * FROM employees\n",
    "# WHERE first_name = \"Elvis\";"
   ]
  },
  {
   "cell_type": "markdown",
   "metadata": {},
   "source": [
    "    COMPLETED EXERCISE Oct. 9, 2021"
   ]
  },
  {
   "cell_type": "markdown",
   "metadata": {},
   "source": [
    "SQL - Using AND - Exercise\n",
    "\n",
    "    Retrieve a list with all female employees whose first name is Kellie. "
   ]
  },
  {
   "cell_type": "code",
   "execution_count": 4,
   "metadata": {},
   "outputs": [],
   "source": [
    "# SELECT\n",
    "# \t*\n",
    "# FROM\n",
    "# \temployees\n",
    "# WHERE\n",
    "# \tfirst_name = 'Kellie'\n",
    "#     AND\n",
    "#     gender = 'F';"
   ]
  },
  {
   "cell_type": "markdown",
   "metadata": {},
   "source": [
    "    COMPLETED EXERCISE Oct. 9, 2021"
   ]
  },
  {
   "cell_type": "markdown",
   "metadata": {},
   "source": [
    "SQL - Using OR - Exercise\n",
    "\n",
    "    Retrieve a list with all employees whose first name is either Kellie or Aruna."
   ]
  },
  {
   "cell_type": "code",
   "execution_count": 5,
   "metadata": {},
   "outputs": [],
   "source": [
    "# SELECT\n",
    "#     *\n",
    "# FROM\n",
    "#     employees\n",
    "# WHERE\n",
    "#     first_name = \"Kellie\"\n",
    "#     OR \n",
    "#     first_name = \"Aruna\";"
   ]
  },
  {
   "cell_type": "markdown",
   "metadata": {},
   "source": [
    "    COMPLETED EXERCISE Oct. 9, 2021"
   ]
  },
  {
   "cell_type": "markdown",
   "metadata": {},
   "source": [
    "SQL - Operator Precedence and Logical Order - Exercise\n",
    "\n",
    "    Retrieve a list with all female employees whose first name is either Kellie or Aruna."
   ]
  },
  {
   "cell_type": "code",
   "execution_count": 6,
   "metadata": {},
   "outputs": [],
   "source": [
    "# SELECT\n",
    "#     *\n",
    "# FROM\n",
    "#     employees\n",
    "# WHERE\n",
    "#     gender = 'F'\n",
    "#     AND\n",
    "#     (first_name = 'Kellie' or first_name = 'Aruna');"
   ]
  },
  {
   "cell_type": "markdown",
   "metadata": {},
   "source": [
    "    COMPLETED EXERCISE Oct. 9, 2021"
   ]
  },
  {
   "cell_type": "markdown",
   "metadata": {},
   "source": [
    "SQL - Using IN - NOT IN - Exercise 1\n",
    "\n",
    "    Use the IN operator to select all individuals from the “employees” table, whose first name is either “Denis”,  or “Elvis”."
   ]
  },
  {
   "cell_type": "code",
   "execution_count": 1,
   "metadata": {},
   "outputs": [],
   "source": [
    "# SELECT \n",
    "#     *\n",
    "# FROM\n",
    "#     employees\n",
    "# WHERE\n",
    "#     first_name IN ('Denis', 'Elvis');"
   ]
  },
  {
   "cell_type": "markdown",
   "metadata": {},
   "source": [
    "    COMPLETED EXERCISE Oct. 9, 2021"
   ]
  },
  {
   "cell_type": "markdown",
   "metadata": {},
   "source": [
    "SQL - Using IN - NOT IN - Exercise 2\n",
    "\n",
    "    Extract all records from the ‘employees’ table, aside from those with employees named John, Mark, or Jacob."
   ]
  },
  {
   "cell_type": "code",
   "execution_count": 2,
   "metadata": {},
   "outputs": [],
   "source": [
    "# SELECT \n",
    "#     *\n",
    "# FROM\n",
    "#     employees\n",
    "# WHERE\n",
    "#     first_name NOT IN ('John', 'Mark', 'Jacob');"
   ]
  },
  {
   "cell_type": "markdown",
   "metadata": {},
   "source": [
    "    COMPLETED Oct. 9, 2021"
   ]
  },
  {
   "cell_type": "markdown",
   "metadata": {},
   "source": [
    "SQL - Using LIKE - NOT LIKE - Exercise\n",
    "\n",
    "    Working with the “employees” table, use the LIKE operator to select the data about all individuals, whose first name starts with “Mark”; specify that the name can be succeeded by any sequence of characters."
   ]
  },
  {
   "cell_type": "code",
   "execution_count": 3,
   "metadata": {},
   "outputs": [],
   "source": [
    "# SELECT\n",
    "#     *\n",
    "# FROM\n",
    "#     employees\n",
    "# WHERE \n",
    "#     first_name LIKE 'MARK%';"
   ]
  },
  {
   "cell_type": "markdown",
   "metadata": {},
   "source": [
    "    Retrieve a list with all employees who have been hired in the year 2000."
   ]
  },
  {
   "cell_type": "code",
   "execution_count": 4,
   "metadata": {},
   "outputs": [],
   "source": [
    "# SELECT \n",
    "#     *\n",
    "# FROM\n",
    "#     employees\n",
    "# WHERE\n",
    "#     hire_date LIKE '2000%';"
   ]
  },
  {
   "cell_type": "markdown",
   "metadata": {},
   "source": [
    "    Retrieve a list with all employees whose employee number is written with 5 characters, and starts with “1000”. "
   ]
  },
  {
   "cell_type": "code",
   "execution_count": 5,
   "metadata": {},
   "outputs": [],
   "source": [
    "# SELECT \n",
    "#     *\n",
    "# FROM\n",
    "#     employees\n",
    "# WHERE\n",
    "#     emp_no LIKE '1000_';"
   ]
  },
  {
   "cell_type": "markdown",
   "metadata": {},
   "source": [
    "    COMPLETED EXERCISE Oct. 9, 2021"
   ]
  },
  {
   "cell_type": "markdown",
   "metadata": {},
   "source": [
    "SQL - Using Wildcard characters - Exercise\n",
    "\n",
    "    Extract all individuals from the ‘employees’ table whose first name contains “Jack”."
   ]
  },
  {
   "cell_type": "code",
   "execution_count": 1,
   "metadata": {},
   "outputs": [],
   "source": [
    "# SELECT\n",
    "#     *\n",
    "# FROM\n",
    "#     employees\n",
    "# WHERE\n",
    "#     first_name LIKE '%Jack%';"
   ]
  },
  {
   "cell_type": "markdown",
   "metadata": {},
   "source": [
    "    Once you have done that, extract another list containing the names of employees that do not contain “Jack”."
   ]
  },
  {
   "cell_type": "code",
   "execution_count": 2,
   "metadata": {},
   "outputs": [],
   "source": [
    "# SELECT\n",
    "#     *\n",
    "# FROM\n",
    "#     employees\n",
    "# WHERE\n",
    "#     first_name NOT LIKE '%Jack%';"
   ]
  },
  {
   "cell_type": "markdown",
   "metadata": {},
   "source": [
    "    COMPLETED EXERCISE Oct. 9, 2021"
   ]
  },
  {
   "cell_type": "markdown",
   "metadata": {},
   "source": [
    "SQL - Using BETWEEN - AND - Exercise\n",
    "\n",
    "    Select all the information from the “salaries” table regarding contracts from 66,000 to 70,000 dollars per     year."
   ]
  },
  {
   "cell_type": "code",
   "execution_count": 3,
   "metadata": {},
   "outputs": [],
   "source": [
    "# SELECT \n",
    "#     *\n",
    "# FROM\n",
    "#     salaries\n",
    "# WHERE\n",
    "#     salary BETWEEN 66000 AND 70000;"
   ]
  },
  {
   "cell_type": "markdown",
   "metadata": {},
   "source": [
    "    Retrieve a list with all individuals whose employee number is not between ‘10004’ and ‘10012’."
   ]
  },
  {
   "cell_type": "code",
   "execution_count": 4,
   "metadata": {},
   "outputs": [],
   "source": [
    "# SELECT\n",
    "#     *\n",
    "# FROM\n",
    "#     salaries\n",
    "# WHERE\n",
    "#     emp_no NOT BETWEEN 10004 AND 10012;"
   ]
  },
  {
   "cell_type": "markdown",
   "metadata": {},
   "source": [
    "    Select the names of all departments with numbers between ‘d003’ and ‘d006’."
   ]
  },
  {
   "cell_type": "code",
   "execution_count": 5,
   "metadata": {},
   "outputs": [],
   "source": [
    "# SELECT \n",
    "#     *\n",
    "# FROM\n",
    "#     departments\n",
    "# WHERE\n",
    "#     dept_no BETWEEN 'd003' AND 'd006';"
   ]
  },
  {
   "cell_type": "markdown",
   "metadata": {},
   "source": [
    "    COMPLETED EXERCISE Oct. 9, 2021"
   ]
  },
  {
   "cell_type": "markdown",
   "metadata": {},
   "source": [
    "SQL - Using IS NOT NULL - IS NULL - Exercise\n",
    "\n",
    "    Select the names of all departments whose department number value is not null."
   ]
  },
  {
   "cell_type": "code",
   "execution_count": 6,
   "metadata": {},
   "outputs": [],
   "source": [
    "# SELECT\n",
    "#     dept_name\n",
    "# FROM\n",
    "#     departments\n",
    "# WHERE\n",
    "#     dept_no IS NOT NULL;"
   ]
  },
  {
   "cell_type": "markdown",
   "metadata": {},
   "source": [
    "    COMPLETED EXERCISE Oct. 9, 2021"
   ]
  },
  {
   "cell_type": "markdown",
   "metadata": {},
   "source": [
    "SQL - Using Other Comparison Operators - Exercise\n",
    "\n",
    "    Retrieve a list with data about all female employees who were hired in the year 2000 or after."
   ]
  },
  {
   "cell_type": "code",
   "execution_count": 7,
   "metadata": {},
   "outputs": [],
   "source": [
    "# SELECT\n",
    "#     *\n",
    "# FROM\n",
    "#     employees\n",
    "# WHERE\n",
    "#     gender = 'F'\n",
    "#     AND\n",
    "#     hire_date >= '2000-01-01';"
   ]
  },
  {
   "cell_type": "markdown",
   "metadata": {},
   "source": [
    "    Extract a list with all employees’ salaries higher than $150,000 per annum."
   ]
  },
  {
   "cell_type": "code",
   "execution_count": 8,
   "metadata": {},
   "outputs": [],
   "source": [
    "# SELECT \n",
    "#     *\n",
    "# FROM\n",
    "#     salaries\n",
    "# WHERE\n",
    "#     salary > 150000;"
   ]
  },
  {
   "cell_type": "markdown",
   "metadata": {},
   "source": [
    "    COMPLETED Oct. 9, 2021"
   ]
  },
  {
   "cell_type": "markdown",
   "metadata": {},
   "source": [
    "SQL - Using SELECT DISTINCT - Exercise\n",
    "\n",
    "    Obtain a list with all different “hire dates” from the “employees” table."
   ]
  },
  {
   "cell_type": "code",
   "execution_count": 9,
   "metadata": {},
   "outputs": [],
   "source": [
    "# SELECT DISTINCT\n",
    "#     hire_date\n",
    "# FROM\n",
    "#     employees;"
   ]
  },
  {
   "cell_type": "markdown",
   "metadata": {},
   "source": [
    "    COMPLETED EXERCISE Oct. 9, 2021"
   ]
  },
  {
   "cell_type": "markdown",
   "metadata": {},
   "source": [
    "SQL - Getting to Know Aggregate Functions - Exercise\n",
    "\n",
    "    How many annual contracts with a value higher than or equal to $100,000 have been registered in the salaries   table?"
   ]
  },
  {
   "cell_type": "code",
   "execution_count": 1,
   "metadata": {},
   "outputs": [],
   "source": [
    "# SELECT\n",
    "#     COUNT(*)\n",
    "# FROM\n",
    "#     salaries\n",
    "# WHERE\n",
    "#     salary >= 100000;"
   ]
  },
  {
   "cell_type": "markdown",
   "metadata": {},
   "source": [
    "    How many managers do we have in the “employees” database?"
   ]
  },
  {
   "cell_type": "code",
   "execution_count": 2,
   "metadata": {},
   "outputs": [],
   "source": [
    "# SELECT\n",
    "#     COUNT(*)\n",
    "# FROM\n",
    "#     dept_manager;"
   ]
  },
  {
   "cell_type": "markdown",
   "metadata": {},
   "source": [
    "    COMPLETED Oct. 10, 2021"
   ]
  },
  {
   "cell_type": "markdown",
   "metadata": {},
   "source": [
    "SQL - Using ORDER BY - Exercise\n",
    "\n",
    "    Select all data from the “employees” table, ordering it by “hire date” in descending order."
   ]
  },
  {
   "cell_type": "code",
   "execution_count": 3,
   "metadata": {},
   "outputs": [],
   "source": [
    "# SELECT \n",
    "#     *\n",
    "# FROM\n",
    "#     employees\n",
    "# ORDER BY hire_date DESC;"
   ]
  },
  {
   "cell_type": "markdown",
   "metadata": {},
   "source": [
    "    COMPLETED EXERCISE Oct. 10, 2021"
   ]
  },
  {
   "cell_type": "markdown",
   "metadata": {},
   "source": [
    "SQL - Using Aliases (AS) - Exercise\n",
    "\n",
    "    Write a query that obtains an output whose first column must contain annual salaries higher than 80,000        dollars. The second column, renamed to “emps_with_same_salary”, must show the number of employee contracts     signed with this salary."
   ]
  },
  {
   "cell_type": "code",
   "execution_count": 4,
   "metadata": {},
   "outputs": [],
   "source": [
    "# SELECT \n",
    "#     salary, COUNT(*) AS emps_with_same_salary\n",
    "# FROM\n",
    "#     salaries\n",
    "# WHERE\n",
    "#     salary > 80000\n",
    "# GROUP BY salary;"
   ]
  },
  {
   "cell_type": "markdown",
   "metadata": {},
   "source": [
    "    COMPLETED EXERCISE Oct. 10, 2021"
   ]
  },
  {
   "cell_type": "markdown",
   "metadata": {},
   "source": [
    "SQL - Using HAVING - Exercise\n",
    "\n",
    "    Select all employees whose average salary is higher than $120,000 per annum."
   ]
  },
  {
   "cell_type": "code",
   "execution_count": 6,
   "metadata": {},
   "outputs": [],
   "source": [
    "# \"\"\"\n",
    "# SELECT \n",
    "#     emp_no, AVG(salary)\n",
    "# FROM\n",
    "#     salaries\n",
    "# GROUP BY emp_no\n",
    "# HAVING AVG(salary) > 120000;\n",
    "# \"\"\""
   ]
  },
  {
   "cell_type": "markdown",
   "metadata": {},
   "source": [
    "    COMPLETED EXERCISE Oct. 10, 2021"
   ]
  },
  {
   "cell_type": "markdown",
   "metadata": {},
   "source": [
    "SQL - Using WHERE vs HAVING - Part II - Exercise\n",
    "\n",
    "    Select the employee numbers of all individuals who have signed more than 1 contract after the 1st of January   2000."
   ]
  },
  {
   "cell_type": "code",
   "execution_count": 7,
   "metadata": {},
   "outputs": [],
   "source": [
    "# SELECT \n",
    "#     emp_no, COUNT(*) AS num_contracts\n",
    "# FROM\n",
    "#     dept_emp\n",
    "# WHERE\n",
    "#     from_date > '2000-01-01'\n",
    "# GROUP BY emp_no\n",
    "# HAVING num_contracts > 1\n",
    "# ORDER BY emp_no; "
   ]
  },
  {
   "cell_type": "markdown",
   "metadata": {},
   "source": [
    "    COMPLETED EXERCISE Oct. 10, 2021"
   ]
  },
  {
   "cell_type": "markdown",
   "metadata": {},
   "source": [
    "SQL - Using LIMIT - Exercise\n",
    "\n",
    "    Select the first 100 rows from the ‘dept_emp’ table. "
   ]
  },
  {
   "cell_type": "code",
   "execution_count": 8,
   "metadata": {},
   "outputs": [],
   "source": [
    "# SELECT \n",
    "#     *\n",
    "# FROM\n",
    "#     dept_emp\n",
    "# LIMIT 100;"
   ]
  },
  {
   "cell_type": "markdown",
   "metadata": {},
   "source": [
    "    COMPLETED Oct. 10, 2021"
   ]
  },
  {
   "cell_type": "markdown",
   "metadata": {},
   "source": [
    "COMPLETED Section 21: SQL - Practical Application of the SQL SELECT Statement"
   ]
  },
  {
   "cell_type": "markdown",
   "metadata": {},
   "source": [
    "SQL-Aggregate Functions - Applying COUNT() - Exercise\n",
    "\n",
    "    How many departments are there in the “employees” database? Use the ‘dept_emp’ table to answer the question."
   ]
  },
  {
   "cell_type": "code",
   "execution_count": 1,
   "metadata": {},
   "outputs": [],
   "source": [
    "# SELECT \n",
    "#     COUNT(DISTINCT dept_no)\n",
    "# FROM\n",
    "#     dept_emp;"
   ]
  },
  {
   "cell_type": "markdown",
   "metadata": {},
   "source": [
    "    COMPLETED EXERCISE Oct. 10, 2021"
   ]
  },
  {
   "cell_type": "markdown",
   "metadata": {},
   "source": [
    "SQL-Aggregate Functions - Applying SUM() - Exercise\n",
    "\n",
    "    What is the total amount of money spent on salaries for all contracts starting after the 1st of January 1997?"
   ]
  },
  {
   "cell_type": "code",
   "execution_count": 2,
   "metadata": {},
   "outputs": [],
   "source": [
    "# SELECT \n",
    "#     SUM(salary)\n",
    "# FROM\n",
    "#     salaries\n",
    "# WHERE\n",
    "#     from_date > '1997-01-01';"
   ]
  },
  {
   "cell_type": "markdown",
   "metadata": {},
   "source": [
    "    COMPLETED EXERCISE Oct. 10, 2021"
   ]
  },
  {
   "cell_type": "markdown",
   "metadata": {},
   "source": [
    "SQL-Aggregate Functions - MIN() and MAX() - Exercise\n",
    "\n",
    "    1. Which is the lowest employee number in the database?"
   ]
  },
  {
   "cell_type": "code",
   "execution_count": 3,
   "metadata": {},
   "outputs": [],
   "source": [
    "# SELECT \n",
    "#     MIN(emp_no)\n",
    "# FROM\n",
    "#     employees;"
   ]
  },
  {
   "cell_type": "markdown",
   "metadata": {},
   "source": [
    "    2. Which is the highest employee number in the database?"
   ]
  },
  {
   "cell_type": "code",
   "execution_count": 4,
   "metadata": {},
   "outputs": [],
   "source": [
    "# SELECT \n",
    "#     MAX(emp_no)\n",
    "# FROM\n",
    "#     employees;"
   ]
  },
  {
   "cell_type": "markdown",
   "metadata": {},
   "source": [
    "    COMPLETED EXERCISE Oct. 10, 2021"
   ]
  },
  {
   "cell_type": "markdown",
   "metadata": {},
   "source": [
    "SQL-Aggregate Functions - Applying AVG() - Exercise\n",
    "\n",
    "    What is the average annual salary paid to employees who started after the 1st of January 1997?"
   ]
  },
  {
   "cell_type": "code",
   "execution_count": 5,
   "metadata": {},
   "outputs": [],
   "source": [
    "# SELECT \n",
    "#     AVG(salary)\n",
    "# FROM\n",
    "#     salaries\n",
    "# WHERE\n",
    "#     from_date > '1997-01-01';"
   ]
  },
  {
   "cell_type": "markdown",
   "metadata": {},
   "source": [
    "    COMPLETED EXERCISE Oct. 10, 2021"
   ]
  },
  {
   "cell_type": "markdown",
   "metadata": {},
   "source": [
    "   SQL-Aggregate Functions - Rounding Numbers with ROUND() - Exercise\n",
    "   \n",
    "       Round the average amount of money spent on salaries for all contracts that started after the 1st of January 1997 to a precision of cents."
   ]
  },
  {
   "cell_type": "code",
   "execution_count": 6,
   "metadata": {},
   "outputs": [],
   "source": [
    "# SELECT \n",
    "#     ROUND(AVG(salary), 2)\n",
    "# FROM\n",
    "#     salaries\n",
    "# WHERE\n",
    "#     from_date > '1997-01-01';"
   ]
  },
  {
   "cell_type": "markdown",
   "metadata": {},
   "source": [
    "    COMPLETED EXERCISE Oct. 10, 2021"
   ]
  },
  {
   "cell_type": "markdown",
   "metadata": {},
   "source": [
    "COMPLETED SECTION 22: SQL - Expanding on MySQL Aggregate Functions Oct. 10, 2021"
   ]
  },
  {
   "cell_type": "markdown",
   "metadata": {},
   "source": [
    "SQL Joins: The Functionality of INNER JOIN - PART II - Exercise\n",
    "\n",
    "    Extract a list containing information about all managers’ employee number, first and last name, department number, and hire date. "
   ]
  },
  {
   "cell_type": "code",
   "execution_count": 1,
   "metadata": {},
   "outputs": [],
   "source": [
    "# SELECT \n",
    "#     dm.emp_no,\n",
    "#     emp.first_name,\n",
    "#     emp.last_name,\n",
    "#     dm.dept_no,\n",
    "#     emp.hire_date\n",
    "# FROM\n",
    "#     dept_manager dm\n",
    "#         JOIN\n",
    "#     employees emp ON dm.emp_no = emp.emp_no;"
   ]
  },
  {
   "cell_type": "markdown",
   "metadata": {},
   "source": [
    "    COMPLETED EXERCISE Oct. 14, 2021"
   ]
  },
  {
   "cell_type": "markdown",
   "metadata": {},
   "source": [
    "SQL Joins: The Functionality of LEFT JOIN - Part II - Exercise\n",
    "\n",
    "    Join the 'employees' and the 'dept_manager' tables to return a subset of all the employees whose last name is  Markovitch. See if the output contains a manager with that name.  "
   ]
  },
  {
   "cell_type": "code",
   "execution_count": 1,
   "metadata": {},
   "outputs": [],
   "source": [
    "# SELECT \n",
    "#     e.emp_no, e.first_name, e.last_name, m.dept_no, m.from_date\n",
    "# FROM\n",
    "#     employees e\n",
    "#         LEFT JOIN\n",
    "#     dept_manager m ON m.emp_no = e.emp_no\n",
    "# WHERE\n",
    "#     e.last_name = 'Markovitch';"
   ]
  },
  {
   "cell_type": "markdown",
   "metadata": {},
   "source": [
    "    COMPLETED EXERCISE Oct. 14, 2021"
   ]
  },
  {
   "cell_type": "markdown",
   "metadata": {},
   "source": [
    "SQL Joins: Differences between the New and the Old Join Syntax - Exercise\n",
    "\n",
    "    Extract a list containing information about all managers’ employee number, first and last name, department     number, and hire date. Use the old type of join syntax to obtain the result."
   ]
  },
  {
   "cell_type": "code",
   "execution_count": 1,
   "metadata": {},
   "outputs": [],
   "source": [
    "# SELECT \n",
    "#     e.emp_no, e.first_name, e.last_name, m.dept_no, e.hire_date\n",
    "# FROM\n",
    "#     employees e,\n",
    "#     dept_manager m\n",
    "# WHERE\n",
    "#     e.emp_no = m.emp_no;"
   ]
  },
  {
   "cell_type": "markdown",
   "metadata": {},
   "source": [
    "    COMPLETED EXERCISE Oct. 14, 2021"
   ]
  },
  {
   "cell_type": "markdown",
   "metadata": {},
   "source": [
    "SQL Joins: Using JOIN and WHERE Together - Exercise\n",
    "\n",
    "    Select the first and last name, the hire date, and the job title of all employees whose first name is          “Margareta” and have the last name “Markovitch”."
   ]
  },
  {
   "cell_type": "code",
   "execution_count": 1,
   "metadata": {},
   "outputs": [],
   "source": [
    "# SELECT \n",
    "#     e.emp_no, e.first_name, e.last_name, e.hire_date, t.title\n",
    "# FROM\n",
    "#     employees e\n",
    "#         JOIN\n",
    "#     titles t ON e.emp_no = t.emp_no\n",
    "# WHERE\n",
    "#     first_name = 'Margareta'\n",
    "#         AND last_name = 'Markovitch';"
   ]
  },
  {
   "cell_type": "markdown",
   "metadata": {},
   "source": [
    "    COMPLETED EXERCISE Oct. 17, 2021"
   ]
  },
  {
   "cell_type": "markdown",
   "metadata": {},
   "source": [
    "SQL Joins: The Functionality of CROSS JOIN - Exercise 1\n",
    "\n",
    "    Use a CROSS JOIN to return a list with all possible combinations between managers from the dept_manager table  and department number 9."
   ]
  },
  {
   "cell_type": "code",
   "execution_count": 1,
   "metadata": {},
   "outputs": [],
   "source": [
    "# SELECT \n",
    "#     *\n",
    "# FROM\n",
    "#     dept_manager\n",
    "#         CROSS JOIN\n",
    "#     departments\n",
    "# WHERE\n",
    "#     departments.dept_no = 'd009';"
   ]
  },
  {
   "cell_type": "markdown",
   "metadata": {},
   "source": [
    "    COMPLETED EXERCISE Oct. 17, 2021"
   ]
  },
  {
   "cell_type": "markdown",
   "metadata": {},
   "source": [
    "SQL Joins: The Functionality of CROSS JOIN - Exercise 2\n",
    "\n",
    "    Return a list with the first 10 employees with all the departments they can be assigned to."
   ]
  },
  {
   "cell_type": "code",
   "execution_count": 1,
   "metadata": {},
   "outputs": [],
   "source": [
    "# SELECT \n",
    "#     *\n",
    "# FROM\n",
    "#     employees e\n",
    "#         CROSS JOIN\n",
    "#     departments d\n",
    "# WHERE\n",
    "#     e.emp_no < 10011;"
   ]
  },
  {
   "cell_type": "markdown",
   "metadata": {},
   "source": [
    "    COMPLETED EXERCISE Oct. 21, 2021"
   ]
  },
  {
   "cell_type": "markdown",
   "metadata": {},
   "source": [
    "SQL Joins: JOIN More than Two Tables - Exercise\n",
    "\n",
    "    Select all managers’ first and last name, hire date, job title, start date, and department name."
   ]
  },
  {
   "cell_type": "code",
   "execution_count": 1,
   "metadata": {},
   "outputs": [],
   "source": [
    "# SELECT \n",
    "#     e.first_name,\n",
    "#     e.last_name,\n",
    "#     e.hire_date,\n",
    "#     t.title,\n",
    "#     dm.from_date,\n",
    "#     d.dept_name\n",
    "# FROM\n",
    "#     employees e\n",
    "#         JOIN\n",
    "#     dept_manager dm ON e.emp_no = dm.emp_no\n",
    "#         JOIN\n",
    "#     titles t ON e.emp_no = t.emp_no\n",
    "#         JOIN\n",
    "#     departments d ON dm.dept_no = d.dept_no\n",
    "# WHERE\n",
    "#     t.title = 'Manager';"
   ]
  },
  {
   "cell_type": "markdown",
   "metadata": {},
   "source": [
    "    COMPLETED EXERCISE Oct. 21, 2021"
   ]
  },
  {
   "cell_type": "markdown",
   "metadata": {},
   "source": [
    "SQL Joins: Top Tips for Joins - Exercise\n",
    "\n",
    "    How many male and how many female managers do we have in the ‘employees’ database?"
   ]
  },
  {
   "cell_type": "code",
   "execution_count": 1,
   "metadata": {},
   "outputs": [],
   "source": [
    "# SELECT \n",
    "#     e.gender, COUNT(e.gender) AS num_managers\n",
    "# FROM\n",
    "#     employees e\n",
    "#         JOIN\n",
    "#     dept_manager dm ON e.emp_no = dm.emp_no\n",
    "# GROUP BY e.gender;"
   ]
  },
  {
   "cell_type": "markdown",
   "metadata": {},
   "source": [
    "    COMPLETED EXERCISE Oct. 21, 2021"
   ]
  },
  {
   "cell_type": "markdown",
   "metadata": {},
   "source": [
    "COMPLETED SECTION 23: SQL - SQL JOINS Oct. 22, 2021"
   ]
  },
  {
   "cell_type": "markdown",
   "metadata": {},
   "source": [
    "SQL Subqueries with IN Embedded Inside WHERE - Exercise\n",
    "\n",
    "    Extract the information about all department managers who were hired between the 1st of January 1990 and the   1st of January 1995."
   ]
  },
  {
   "cell_type": "code",
   "execution_count": 1,
   "metadata": {},
   "outputs": [],
   "source": [
    "# SELECT \n",
    "#     *\n",
    "# FROM\n",
    "#     dept_manager AS dm\n",
    "# WHERE\n",
    "#     dm.emp_no IN (SELECT \n",
    "#             e.emp_no\n",
    "#         FROM\n",
    "#             employees e\n",
    "#         WHERE\n",
    "#             hire_date BETWEEN '1990-01-01' AND '1995-01-01');"
   ]
  },
  {
   "cell_type": "markdown",
   "metadata": {},
   "source": [
    "    COMPLETED EXERCISE Oc. 22, 2021"
   ]
  },
  {
   "cell_type": "markdown",
   "metadata": {},
   "source": [
    "SQL Subqueries with EXISTS-NOT EXISTS Embedded Inside WHERE - Exercise\n",
    "\n",
    "    Select the entire information for all employees whose job title is “Assistant Engineer”. "
   ]
  },
  {
   "cell_type": "code",
   "execution_count": 1,
   "metadata": {},
   "outputs": [],
   "source": [
    "# SELECT \n",
    "#     *\n",
    "# FROM\n",
    "#     employees e\n",
    "# WHERE\n",
    "#     EXISTS( SELECT \n",
    "#             t.emp_no\n",
    "#         FROM\n",
    "#             titles t\n",
    "#         WHERE\n",
    "#             t.title = 'Assistant Engineer'\n",
    "#                 AND e.emp_no = t.emp_no); "
   ]
  },
  {
   "cell_type": "markdown",
   "metadata": {},
   "source": [
    "    COMPLETED EXERCISE Oct. 22, 2021"
   ]
  },
  {
   "cell_type": "markdown",
   "metadata": {},
   "source": [
    "SQL Subqueries Embedded in SELECT and FROM - Exercise 2\n",
    "\n",
    "    Fill emp_manager with data about employees, the number of the department they are working in, and their managers.\n",
    "    \n",
    "    A and B should be the same subsets used in the last lecture (SQL Subqueries Nested in SELECT and FROM). In other words, assign employee number 110022 as a manager to all employees from 10001 to 10020 (this must be subset A), and employee number 110039 as a manager to all employees from 10021 to 10040 (this must be subset B).\n",
    "    \n",
    "    Use the structure of subset A to create subset C, where you must assign employee number 110039 as a manager to employee 110022.\n",
    "    \n",
    "    Following the same logic, create subset D. Here you must do the opposite - assign employee 110022 as a manager to employee 110039.\n",
    "    \n",
    "    Your output must contain 42 rows."
   ]
  },
  {
   "cell_type": "code",
   "execution_count": 2,
   "metadata": {},
   "outputs": [],
   "source": [
    "# Your query skeleton must be:\n",
    "\n",
    "# Insert INTO emp_manager SELECT\n",
    "\n",
    "# U.*\n",
    "\n",
    "# FROM\n",
    "\n",
    "#                  (A)\n",
    "\n",
    "# UNION (B) UNION (C) UNION (D) AS U;"
   ]
  },
  {
   "cell_type": "code",
   "execution_count": 3,
   "metadata": {},
   "outputs": [],
   "source": [
    "# INSERT INTO emp_manager SELECT\n",
    "# U.*\n",
    "# FROM\n",
    "# (SELECT \n",
    "#     A.*\n",
    "# FROM\n",
    "#     (SELECT \n",
    "#         e.emp_no,\n",
    "#             MIN(de.dept_no) AS dept_no,\n",
    "#             (SELECT \n",
    "#                     dm.emp_no\n",
    "#                 FROM\n",
    "#                     dept_manager dm\n",
    "#                 WHERE\n",
    "#                     dm.emp_no = 110022) AS manager_no\n",
    "#     FROM\n",
    "#         employees e\n",
    "#     JOIN dept_emp de ON de.emp_no = e.emp_no\n",
    "#     WHERE\n",
    "#         e.emp_no <= 10020\n",
    "#     GROUP BY e.emp_no\n",
    "#     ORDER BY e.emp_no) AS A \n",
    "# UNION SELECT \n",
    "#     B.*\n",
    "# FROM\n",
    "#     (SELECT \n",
    "#         e.emp_no,\n",
    "#             MIN(de.dept_no) AS dept_no,\n",
    "#             (SELECT \n",
    "#                     dm.emp_no\n",
    "#                 FROM\n",
    "#                     dept_manager dm\n",
    "#                 WHERE\n",
    "#                     dm.emp_no = 110039) AS manager_no\n",
    "#     FROM\n",
    "#         employees e\n",
    "#     JOIN dept_emp de ON de.emp_no = e.emp_no\n",
    "#     WHERE\n",
    "#         e.emp_no > 10020 AND e.emp_no <= 10040\n",
    "#     GROUP BY e.emp_no\n",
    "#     ORDER BY e.emp_no) AS B\n",
    "# UNION SELECT \n",
    "#     C.*\n",
    "# FROM\n",
    "#     (SELECT \n",
    "#         e.emp_no,\n",
    "#             MIN(de.dept_no) AS dept_no,\n",
    "#             (SELECT \n",
    "#                     dm.emp_no\n",
    "#                 FROM\n",
    "#                     dept_manager dm\n",
    "#                 WHERE\n",
    "#                     dm.emp_no = 110039) AS manager_no\n",
    "#     FROM\n",
    "#         employees e\n",
    "#     JOIN dept_emp de ON de.emp_no = e.emp_no\n",
    "#     WHERE\n",
    "#         e.emp_no = 110022\n",
    "#     GROUP BY e.emp_no\n",
    "#     ORDER BY e.emp_no) AS C\n",
    "# UNION SELECT \n",
    "#     D.*\n",
    "# FROM\n",
    "#     (SELECT \n",
    "#         e.emp_no,\n",
    "#             MIN(de.dept_no) AS dept_no,\n",
    "#             (SELECT \n",
    "#                     dm.emp_no\n",
    "#                 FROM\n",
    "#                     dept_manager dm\n",
    "#                 WHERE\n",
    "#                     dm.emp_no = 110022) AS manager_no\n",
    "#     FROM\n",
    "#         employees e\n",
    "#     JOIN dept_emp de ON de.emp_no = e.emp_no\n",
    "#     WHERE\n",
    "#         e.emp_no = 110039\n",
    "#     GROUP BY e.emp_no\n",
    "#     ORDER BY e.emp_no) AS D) AS U; "
   ]
  },
  {
   "cell_type": "markdown",
   "metadata": {},
   "source": [
    "    COMPLETED EXERCISE Oct. 22, 2021"
   ]
  },
  {
   "cell_type": "markdown",
   "metadata": {},
   "source": [
    "COMPLETED Section 24: SQL - SQL Subqueries Oct. 22, 2021"
   ]
  },
  {
   "cell_type": "markdown",
   "metadata": {},
   "source": [
    "SQL Stored Routines - An Example of Stored Procedures Part II - Exercise\n",
    "\n",
    "    Create a procedure that will provide the average salary of all employees.\n",
    "\n",
    "    Then, call the procedure."
   ]
  },
  {
   "cell_type": "code",
   "execution_count": 1,
   "metadata": {},
   "outputs": [],
   "source": [
    "# DROP PROCEDURE IF EXISTS avg_salary;\n",
    "\n",
    "# DELIMITER $$\n",
    "\n",
    "# CREATE PROCEDURE avg_salary()\n",
    "# BEGIN\n",
    "\n",
    "#     SELECT AVG(salary)\n",
    "#     FROM salaries;\n",
    "    \n",
    "# END$$\n",
    "\n",
    "# DELIMITER ;\n",
    "\n",
    "# CALL employees.avg_salary();"
   ]
  },
  {
   "cell_type": "markdown",
   "metadata": {},
   "source": [
    "    COMPLETED EXERCISE Oct. 30, 2021"
   ]
  },
  {
   "cell_type": "markdown",
   "metadata": {},
   "source": [
    "Create Stored Procedures with an Output Parameter - Exercise\n",
    "\n",
    "    Create a procedure called ‘emp_info’ that uses as parameters the first and the last name of an individual, and returns their employee number."
   ]
  },
  {
   "cell_type": "code",
   "execution_count": 1,
   "metadata": {},
   "outputs": [],
   "source": [
    "# DROP PROCEDURE IF EXISTS emp_info;\n",
    "\n",
    "# DELIMITER $$\n",
    "\n",
    "# CREATE PROCEDURE emp_info(IN p_first_name VARCHAR(20), IN p_last_name VARCHAR(20), OUT p_emp_no INTEGER)\n",
    "# BEGIN\n",
    "\n",
    "# SELECT e.emp_no INTO p_emp_no\n",
    "# FROM employees e\n",
    "# WHERE e.first_name = p_first_name AND e.last_name = p_last_name;\n",
    "\n",
    "# END$$\n",
    "\n",
    "# DELIMITER ;"
   ]
  },
  {
   "cell_type": "markdown",
   "metadata": {},
   "source": [
    "    COMPLETED EXERCISE Oct. 30, 2021"
   ]
  },
  {
   "cell_type": "markdown",
   "metadata": {},
   "source": [
    "SQL Stored Procedures: SQL Variables - Exercise\n",
    "\n",
    "    Create a variable, called ‘v_emp_no’, where you will store the output of the procedure you created in the last exercise.\n",
    "\n",
    "    Call the same procedure, inserting the values ‘Aruna’ and ‘Journel’ as a first and last name respectively.\n",
    "\n",
    "    Finally, select the obtained output."
   ]
  },
  {
   "cell_type": "code",
   "execution_count": 1,
   "metadata": {},
   "outputs": [],
   "source": [
    "# SET @v_emp_no = 0;\n",
    "# CALL emp_info('Aruna', 'Journel', @v_emp_no);\n",
    "# SELECT @v_emp_no;"
   ]
  },
  {
   "cell_type": "markdown",
   "metadata": {},
   "source": [
    "    COMPLETED EXERCISE Oct. 30, 2021"
   ]
  },
  {
   "cell_type": "markdown",
   "metadata": {},
   "source": [
    "The Benefit of User-Defined Functions in MySQL - Exercise\n",
    "\n",
    "    Create a function called ‘emp_info’ that takes for parameters the first and last name of an employee, and      returns the salary from the newest contract of that employee.\n",
    "\n",
    "    Hint: In the BEGIN-END block of this program, you need to declare and use two variables – v_max_from_date that will be of the DATE type, and v_salary, that will be of the DECIMAL (10,2) type.\n",
    "\n",
    "    Finally, select this function."
   ]
  },
  {
   "cell_type": "code",
   "execution_count": 2,
   "metadata": {},
   "outputs": [],
   "source": [
    "# DROP FUNCTION IF EXISTS emp_info;\n",
    "\n",
    "# DELIMITER $$\n",
    "\n",
    "# CREATE FUNCTION emp_info(p_first_name VARCHAR(20), p_last_name VARCHAR(20)) RETURNS DECIMAL(10, 2)\n",
    "# DETERMINISTIC\n",
    "# BEGIN\n",
    "\n",
    "# DECLARE v_salary DECIMAL(10, 2);\n",
    "\n",
    "# SELECT \n",
    "\t# s.salary INTO v_salary\n",
    "# FROM salaries s\n",
    "# JOIN employees e ON e.emp_no = s.emp_no\n",
    "# WHERE s.from_date = \n",
    "\t# (SELECT MAX(s.from_date)\n",
    "    # FROM salaries s\n",
    "    # JOIN employees e ON e.emp_no = s.emp_no\n",
    "    # WHERE \n",
    "\t\t# e.first_name = p_first_name \n",
    "\t\t\t# AND \n",
    "\t\t# e.last_name = p_last_name)\n",
    "\t\t# AND\n",
    "\t# e.first_name = p_first_name \n",
    "\t\t# AND \n",
    "\t# e.last_name = p_last_name;\n",
    "\n",
    "\n",
    "# RETURN v_salary;\n",
    "\n",
    "# END$$\n",
    "\n",
    "# DELIMITER ;"
   ]
  },
  {
   "cell_type": "code",
   "execution_count": 3,
   "metadata": {},
   "outputs": [],
   "source": [
    "# Another way to do this is:\n",
    "\n",
    "# DROP FUNCTION IF EXISTS emp_info;\n",
    "\n",
    "# DELIMITER $$\n",
    "\n",
    "# CREATE FUNCTION emp_info(p_first_name VARCHAR(20), p_last_name VARCHAR(20)) RETURNS DECIMAL(10, 2)\n",
    "# DETERMINISTIC\n",
    "# BEGIN\n",
    "\n",
    "# DECLARE v_salary DECIMAL(10, 2);\n",
    "# DECLARE v_max_from_date DATE;\n",
    "\n",
    "# SELECT MAX(s.from_date) INTO v_max_from_date\n",
    "# FROM salaries s\n",
    "# JOIN employees e ON e.emp_no = s.emp_no\n",
    "# WHERE e.first_name = p_first_name AND e.last_name = p_last_name;\n",
    "\n",
    "# SELECT s.salary INTO v_salary\n",
    "# FROM salaries s\n",
    "# JOIN employees e ON e.emp_no = s.emp_no\n",
    "# WHERE s.from_date = v_max_from_date AND e.first_name = p_first_name AND e.last_name = p_last_name;\n",
    "\n",
    "# RETURN v_salary;\n",
    "\n",
    "# END $$\n",
    "\n",
    "# DELIMITER ;\n",
    "\n",
    "## One reason you might want to do it this second way is ease of reading. In both cases the computer needs to return\n",
    "## two queries. In the first way, there is a subquery in the WHERE statement. The second way is in a second query that\n",
    "## enters the date into a variable and uses that variable in the second query. "
   ]
  },
  {
   "cell_type": "markdown",
   "metadata": {},
   "source": [
    "    COMPLETED EXERCISE Oct. 30, 2021"
   ]
  },
  {
   "cell_type": "markdown",
   "metadata": {},
   "source": [
    "The SQL CASE Statement - Exercise 1\n",
    "\n",
    "    Similar to the exercises done in the lecture, obtain a result set containing the employee number, first name, and last name of all employees with a number higher than 109990. Create a fourth column in the query, indicating whether this employee is also a manager, according to the data provided in the dept_manager table, or a regular employee. "
   ]
  },
  {
   "cell_type": "code",
   "execution_count": 1,
   "metadata": {},
   "outputs": [],
   "source": [
    "# SELECT \n",
    "#     e.emp_no,\n",
    "#     e.first_name,\n",
    "#     e.last_name,\n",
    "#     CASE\n",
    "#         WHEN dm.emp_no IS NOT NULL THEN 'manager'\n",
    "#         ELSE 'employee'\n",
    "#     END AS manager_status\n",
    "# FROM\n",
    "#     employees e\n",
    "#         LEFT JOIN\n",
    "#     dept_manager dm ON e.emp_no = dm.emp_no\n",
    "# WHERE\n",
    "#     e.emp_no > 109990;"
   ]
  },
  {
   "cell_type": "markdown",
   "metadata": {},
   "source": [
    "    COMPLETED EXERCISE Oct. 31, 2021"
   ]
  },
  {
   "cell_type": "markdown",
   "metadata": {},
   "source": [
    "THE SQL CASE Statement - Exercise 2\n",
    "\n",
    "    Extract a dataset containing the following information about the managers: employee number, first name, and last name. Add two columns at the end – one showing the difference between the maximum and minimum salary of that employee, and another one saying whether this salary raise was higher than $30,000 or NOT.\n",
    "\n",
    "    If possible, provide more than one solution."
   ]
  },
  {
   "cell_type": "code",
   "execution_count": 1,
   "metadata": {},
   "outputs": [],
   "source": [
    "## SOLUTION 1\n",
    "# SELECT \n",
    "#     dm.emp_no,\n",
    "#     e.first_name,\n",
    "#     e.last_name,\n",
    "#     MAX(s.salary) - MIN(s.salary) AS diff_in_salary,\n",
    "#     CASE\n",
    "#         WHEN MAX(s.salary) - MIN(s.salary) > 30000 THEN \"YES\"\n",
    "#         ELSE \"NO\"\n",
    "#     END AS diff_gt_30k\n",
    "# FROM\n",
    "#     dept_manager dm\n",
    "#         JOIN\n",
    "#     employees e ON dm.emp_no = e.emp_no\n",
    "#         JOIN\n",
    "#     salaries s ON dm.emp_no = s.emp_no\n",
    "# GROUP BY dm.emp_no;\n",
    "\n",
    "## SOLUTION 2\n",
    "# SELECT \n",
    "#     dm.emp_no,\n",
    "#     e.first_name,\n",
    "#     e.last_name,\n",
    "#     MAX(s.salary) - MIN(s.salary) AS diff_in_salary,\n",
    "#     IF(MAX(s.salary) - MIN(s.salary) > 30000, \"YES\", \"NO\") AS diff_gt_30k\n",
    "# FROM\n",
    "#     dept_manager dm\n",
    "#         JOIN\n",
    "#     employees e ON dm.emp_no = e.emp_no\n",
    "#         JOIN\n",
    "#     salaries s ON dm.emp_no = s.emp_no\n",
    "# GROUP BY dm.emp_no;"
   ]
  },
  {
   "cell_type": "markdown",
   "metadata": {},
   "source": [
    "    COMPLETED EXERCISE Oct. 31, 2021"
   ]
  },
  {
   "cell_type": "markdown",
   "metadata": {},
   "source": [
    "THE SQL CASE Statement - Exercise 3\n",
    "\n",
    "    Extract the employee number, first name, and last name of the first 100 employees, and add a fourth column,    called “current_employee” saying “Is still employed” if the employee is still working in the company, or “Not  an employee anymore” if they aren’t.\n",
    "\n",
    "    Hint: You’ll need to use data from both the ‘employees’ and the ‘dept_emp’ table to solve this exercise. "
   ]
  },
  {
   "cell_type": "code",
   "execution_count": 1,
   "metadata": {},
   "outputs": [],
   "source": [
    "# SELECT \n",
    "#     e.emp_no,\n",
    "#     e.first_name,\n",
    "#     e.last_name,\n",
    "#     CASE\n",
    "#         WHEN MAX(de.to_date) > \"2021-11-06\" THEN 'Is still employed'\n",
    "#         ELSE 'Not an employee anymore'\n",
    "#     END AS current_employee\n",
    "# FROM\n",
    "#     employees e\n",
    "#         JOIN\n",
    "#     dept_emp de ON e.emp_no = de.emp_no\n",
    "# GROUP BY e.emp_no\n",
    "# ORDER BY e.emp_no\n",
    "# LIMIT 100;"
   ]
  },
  {
   "cell_type": "markdown",
   "metadata": {},
   "source": [
    "    COMPLETED EXERCISE Nov. 6, 2021"
   ]
  },
  {
   "cell_type": "markdown",
   "metadata": {},
   "source": [
    "COMPLETED PART 3: SQL Nov. 6, 2021"
   ]
  },
  {
   "cell_type": "markdown",
   "metadata": {},
   "source": [
    "## PART IV: TABLEAU"
   ]
  },
  {
   "cell_type": "markdown",
   "metadata": {},
   "source": [
    "COMPLETED SECTION 27: Introduction to Tableau"
   ]
  },
  {
   "cell_type": "markdown",
   "metadata": {},
   "source": [
    "COMPLETED SECTION 28: Tableau - Tableau Functionalities"
   ]
  },
  {
   "cell_type": "markdown",
   "metadata": {},
   "source": [
    "COMPLETED SECTION 29: Tableau - The Tableau Exercise"
   ]
  },
  {
   "cell_type": "markdown",
   "metadata": {},
   "source": [
    "COMPLETED Part 4: Tableau"
   ]
  },
  {
   "cell_type": "markdown",
   "metadata": {},
   "source": [
    "## Part V: Combining SQL and Tableau"
   ]
  },
  {
   "cell_type": "markdown",
   "metadata": {},
   "source": [
    "COMPELTED SECTION 30: Combining SQL and Tableau - Introduction Nov. 6, 2021"
   ]
  },
  {
   "cell_type": "markdown",
   "metadata": {},
   "source": [
    "Combining SQL and Tableau - Problem 1\n",
    "\n",
    "    Create a visualization that provides a breakdown between the male and female employees working in the company  each year, starting from 1990. "
   ]
  },
  {
   "cell_type": "code",
   "execution_count": 1,
   "metadata": {},
   "outputs": [],
   "source": [
    "## SQL CODE for Problem 1\n",
    "\n",
    "# SELECT \n",
    "#     YEAR(de.from_date) AS calendar_year,\n",
    "#     e.gender,\n",
    "#     COUNT(*) AS num_employees\n",
    "# FROM\n",
    "#     t_dept_emp de\n",
    "#         JOIN\n",
    "#     t_employees e ON de.emp_no = e.emp_no\n",
    "# WHERE\n",
    "#     YEAR(de.from_date) > 1989\n",
    "# GROUP BY calendar_year , gender\n",
    "# ORDER BY calendar_year;"
   ]
  },
  {
   "cell_type": "markdown",
   "metadata": {},
   "source": [
    "<img src = \"Images/SQL_Tableau_Problem1_Graph.png\" />"
   ]
  },
  {
   "cell_type": "markdown",
   "metadata": {},
   "source": [
    "    COMPLETED Problem 1 Nov. 7, 2021"
   ]
  },
  {
   "cell_type": "markdown",
   "metadata": {},
   "source": [
    "Combining SQL and Tableau - Problem 2\n",
    "\n",
    "    Compare the number of male managers to the number of female managers from different departments for each year, starting from 1990."
   ]
  },
  {
   "cell_type": "code",
   "execution_count": 1,
   "metadata": {},
   "outputs": [],
   "source": [
    "## SQL CODE for Problem 2\n",
    "\n",
    "# SELECT \n",
    "#     d.dept_name,\n",
    "#     dm.emp_no,\n",
    "#     ee.gender,\n",
    "#     dm.from_date,\n",
    "#     dm.to_date,\n",
    "#     e.calendar_year,\n",
    "#     CASE\n",
    "#         WHEN e.calendar_year BETWEEN YEAR(dm.from_date) AND YEAR(dm.to_date) THEN 1\n",
    "#         ELSE 0\n",
    "#     END AS actively\n",
    "# FROM\n",
    "#     (SELECT \n",
    "#         YEAR(e.hire_date) AS calendar_year\n",
    "#     FROM\n",
    "#         t_employees e\n",
    "#     GROUP BY calendar_year) e\n",
    "#         CROSS JOIN\n",
    "#     t_dept_manager dm\n",
    "#         JOIN\n",
    "#     t_departments d ON d.dept_no = dm.dept_no\n",
    "#         JOIN\n",
    "#     t_employees ee ON ee.emp_no = dm.emp_no\n",
    "# ORDER BY dm.emp_no , e.calendar_year;"
   ]
  },
  {
   "cell_type": "markdown",
   "metadata": {},
   "source": [
    "<img src = \"Images/SQL_Tableau_Problem2_Graph.png\" />"
   ]
  },
  {
   "cell_type": "markdown",
   "metadata": {},
   "source": [
    "    COMPLETED Problem 2 Nov. 13, 2021"
   ]
  },
  {
   "cell_type": "markdown",
   "metadata": {},
   "source": [
    "Combining SQL and Tableau - Problem 3\n",
    "\n",
    "    Compare the average salary of female versus male employees in the entire company until year 2002, and add a    filter allowing you to see that per each department."
   ]
  },
  {
   "cell_type": "code",
   "execution_count": 1,
   "metadata": {},
   "outputs": [],
   "source": [
    "## SQL CODE\n",
    "\n",
    "# SELECT \n",
    "#     e.gender,\n",
    "#     d.dept_name,\n",
    "#     ROUND(AVG(s.salary), 2) AS salary,\n",
    "#     YEAR(s.from_date) AS calendar_year\n",
    "# FROM\n",
    "#     t_salaries s\n",
    "#         JOIN\n",
    "#     t_employees e ON e.emp_no = s.emp_no\n",
    "#         JOIN\n",
    "#     t_dept_emp de ON de.emp_no = e.emp_no\n",
    "#         JOIN\n",
    "#     t_departments d ON d.dept_no = de.dept_no\n",
    "# GROUP BY d.dept_no , e.gender , calendar_year\n",
    "# HAVING calendar_year <= 2002\n",
    "# ORDER BY calendar_year;"
   ]
  },
  {
   "cell_type": "markdown",
   "metadata": {},
   "source": [
    "<img src = \"Images/SQL_Tableau_Problem3_Graph.png\" />"
   ]
  },
  {
   "cell_type": "markdown",
   "metadata": {},
   "source": [
    "    COMPLETED Problem 3 Nov. 13, 2021"
   ]
  },
  {
   "cell_type": "markdown",
   "metadata": {},
   "source": [
    "Combining SQL and Tableau - Problem 4\n",
    "\n",
    "    Create an SQL stored procedure that will allow you to obtain the average male and female salary per department within a certain salary range. Let this range be defined by two values the user can insert when calling the    procedure.\n",
    "\n",
    "    Finally, visualize the obtained result-set in Tableau as a double bar chart. "
   ]
  },
  {
   "cell_type": "code",
   "execution_count": 1,
   "metadata": {},
   "outputs": [],
   "source": [
    "## SQL CODE\n",
    "\n",
    "# DROP PROCEDURE IF EXISTS avg_gender_dept_salary;\n",
    "\n",
    "# DELIMITER $$\n",
    "\n",
    "# CREATE PROCEDURE avg_gender_dept_salary(IN p_min_salary INT, IN p_max_salary INT)\n",
    "# BEGIN\n",
    "\n",
    "#     SELECT \n",
    "#         e.gender, ROUND(AVG(s.salary), 2) AS salary, d.dept_name\n",
    "#     FROM\n",
    "#         t_employees e\n",
    "#             JOIN\n",
    "#         t_salaries s ON s.emp_no = e.emp_no\n",
    "#             JOIN\n",
    "#         t_dept_emp de ON de.emp_no = e.emp_no\n",
    "#             JOIN\n",
    "#         t_departments d ON d.dept_no = de.dept_no\n",
    "#     WHERE \n",
    "#         s.salary BETWEEN p_min_salary AND p_max_salary\n",
    "#     GROUP BY d.dept_no , e.gender\n",
    "#     ORDER BY d.dept_no;\n",
    "# END $$\n",
    "\n",
    "# DELIMITER ;\n",
    "\n",
    "# CALL employees_mod.avg_gender_dept_salary(50000, 90000);"
   ]
  },
  {
   "cell_type": "code",
   "execution_count": 1,
   "metadata": {},
   "outputs": [],
   "source": [
    "## SQL SOLUTION DIFFERENCE\n",
    "\n",
    "# For the IN variables of the Procedure, they should be the data type FLOAT"
   ]
  },
  {
   "cell_type": "markdown",
   "metadata": {},
   "source": [
    "<img src = \"Images/SQL_Tableau_Problem4_Graph.png\" />"
   ]
  },
  {
   "cell_type": "markdown",
   "metadata": {},
   "source": [
    "Combining SQL and Tableau - Problem 5\n",
    "\n",
    "    Create a Dashboard"
   ]
  },
  {
   "cell_type": "markdown",
   "metadata": {},
   "source": [
    "<img src = \"Images/SQL_Tableau_Problem5_Dashboard.png\" />"
   ]
  },
  {
   "cell_type": "markdown",
   "metadata": {},
   "source": [
    "    COMPLETED EXERCISE Nov. 20, 2021"
   ]
  },
  {
   "cell_type": "markdown",
   "metadata": {},
   "source": [
    "COMPLETED PART 5: Combining SQL and Tableau Nov. 20, 2021"
   ]
  },
  {
   "cell_type": "markdown",
   "metadata": {},
   "source": [
    "## Part 6: Python"
   ]
  },
  {
   "cell_type": "markdown",
   "metadata": {},
   "source": [
    "COMPLETED SECTION 36: Introduction to Programming with Python Nov. 20, 2021"
   ]
  },
  {
   "cell_type": "markdown",
   "metadata": {},
   "source": [
    "COMPLETED Section 37 - 43"
   ]
  },
  {
   "cell_type": "markdown",
   "metadata": {},
   "source": [
    "COMPLETED Section 44: Python - Advanced Python Tools Dec. 5, 2021"
   ]
  },
  {
   "cell_type": "markdown",
   "metadata": {},
   "source": [
    "COMPLETED Part 6: Python Dec. 5, 2021"
   ]
  },
  {
   "cell_type": "code",
   "execution_count": null,
   "metadata": {},
   "outputs": [],
   "source": []
  }
 ],
 "metadata": {
  "kernelspec": {
   "display_name": "learn-env",
   "language": "python",
   "name": "learn-env"
  },
  "language_info": {
   "codemirror_mode": {
    "name": "ipython",
    "version": 3
   },
   "file_extension": ".py",
   "mimetype": "text/x-python",
   "name": "python",
   "nbconvert_exporter": "python",
   "pygments_lexer": "ipython3",
   "version": "3.6.9"
  }
 },
 "nbformat": 4,
 "nbformat_minor": 4
}
